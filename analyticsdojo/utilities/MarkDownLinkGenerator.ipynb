{
 "cells": [
  {
   "cell_type": "code",
   "execution_count": null,
   "metadata": {
    "collapsed": true
   },
   "outputs": [],
   "source": [
    "## Links\n",
    "[viewer](http://nbviewer.jupyter.org/format/html/github/AnalyticsDojo/materials/blob/master/analyticsdojo/classes/02-intro-python/intro-python-overview.ipynb#/)\n",
    "[slides](http://nbviewer.jupyter.org/format/slides/github/AnalyticsDojo/materials/blob/master/analyticsdojo/classes/02-intro-python/intro-python-overview.ipynb#/)\n",
    "[github]()"
   ]
  },
  {
   "cell_type": "markdown",
   "metadata": {},
   "source": [
    "[![AnalyticsDojo](https://s3.amazonaws.com/analyticsdojo/logo/final-logo.png)](http://www.analyticsdojo.com)\n",
    "<center><h1>Introduction to Python - Homework</h1></center>\n",
    "<center><h3><a href = 'http://www.analyticsdojo.com'>www.analyticsdojo.com</a></h3></center>"
   ]
  },
  {
   "cell_type": "code",
   "execution_count": 2,
   "metadata": {
    "collapsed": true
   },
   "outputs": [],
   "source": [
    "rep='AnalyticsDojo/materials'\n",
    "br='master'\n",
    "folder='analyticsdojo'"
   ]
  },
  {
   "cell_type": "code",
   "execution_count": 3,
   "metadata": {
    "collapsed": false
   },
   "outputs": [],
   "source": [
    "#Class 1\n",
    "path='classes/01-overview/'\n",
    "file='local-intro'"
   ]
  },
  {
   "cell_type": "code",
   "execution_count": 9,
   "metadata": {
    "collapsed": true
   },
   "outputs": [],
   "source": [
    "path='classes/02-intro-python/'\n"
   ]
  },
  {
   "cell_type": "code",
   "execution_count": 4,
   "metadata": {
    "collapsed": true
   },
   "outputs": [],
   "source": [
    "file='intro-python-overview'"
   ]
  },
  {
   "cell_type": "code",
   "execution_count": 16,
   "metadata": {
    "collapsed": true
   },
   "outputs": [],
   "source": [
    "file='intro-python-datastructures'"
   ]
  },
  {
   "cell_type": "code",
   "execution_count": 19,
   "metadata": {
    "collapsed": true
   },
   "outputs": [],
   "source": [
    "file='intro-python-numpy'"
   ]
  },
  {
   "cell_type": "code",
   "execution_count": 22,
   "metadata": {
    "collapsed": true
   },
   "outputs": [],
   "source": [
    "file='intro-python-pandas'"
   ]
  },
  {
   "cell_type": "code",
   "execution_count": 25,
   "metadata": {
    "collapsed": true
   },
   "outputs": [],
   "source": [
    "file='intro-python-exercises'"
   ]
  },
  {
   "cell_type": "code",
   "execution_count": 26,
   "metadata": {
    "collapsed": false
   },
   "outputs": [
    {
     "name": "stdout",
     "output_type": "stream",
     "text": [
      "### Links: [local](http://localhost:8888/notebooks/classes/02-intro-python/intro-python-exercises.ipynb) [github](https://github.com/AnalyticsDojo/materials/blob/master/analyticsdojo/classes/02-intro-python/intro-python-exercises.ipynb) [slides](http://nbviewer.jupyter.org/format/slides/github/AnalyticsDojo/materials/blob/master/analyticsdojo/classes/02-intro-python/intro-python-exercises.ipynb#/)\n"
     ]
    }
   ],
   "source": [
    "local='[local](http://localhost:8888/notebooks/'+path+file+'.ipynb)'\n",
    "viewer='[viewer](http://nbviewer.jupyter.org/format/html/github/'+rep+'/blob/'+br+'/'+folder+'/'+path+file+'.ipynb#/)'\n",
    "slides='[slides](http://nbviewer.jupyter.org/format/slides/github/'+rep+'/blob/'+br+'/'+folder+'/'+path+file+'.ipynb#/)'\n",
    "github='[github](https://github.com/'+rep+'/blob/'+br+'/'+folder+'/'+path+file+'.ipynb)'\n",
    "anaconda='[anaconda](https://anaconda.org/analyticsdojo/'+file+'/notebook)'\n",
    "markdown='### Links: ' + local + ' ' + github+' '+ slides \n",
    "\n",
    "print(markdown)"
   ]
  },
  {
   "cell_type": "markdown",
   "metadata": {},
   "source": [
    "### Links: [local](http://localhost:8888/notebooks/classes/02-intro-python/intro-python-pandas.ipynb) [github](https://github.com/AnalyticsDojo/materials/blob/master/analyticsdojo/classes/02-intro-python/intro-python-pandas.ipynb) [slides](http://nbviewer.jupyter.org/format/slides/github/AnalyticsDojo/materials/blob/master/analyticsdojo/classes/02-intro-python/intro-python-pandas.ipynb#/)"
   ]
  },
  {
   "cell_type": "code",
   "execution_count": 23,
   "metadata": {
    "collapsed": false
   },
   "outputs": [],
   "source": [
    "local='<a href=\\'http://localhost:8888/notebooks/'+path+file+'.ipynb\\'>local</a>'\n",
    "github='<a href=\\'https://github.com/'+rep+'/blob/'+br+'/'+folder+'/'+path+file+'.ipynb#/\\'>github</a>'\n",
    "slides='<a href=\\'http://nbviewer.jupyter.org/format/slides/github/'+rep+'/blob/'+br+'/'+folder+'/'+path+file+'.ipynb#/\\'>slides</a>'\n",
    "\n",
    "htmllinks='<b>Links: </b>' + local + ' ' + github+' '+ slides \n",
    "\n"
   ]
  },
  {
   "cell_type": "code",
   "execution_count": 24,
   "metadata": {
    "collapsed": false
   },
   "outputs": [
    {
     "data": {
      "text/plain": [
       "\"<b>Links: </b><a href='http://localhost:8888/notebooks/classes/02-intro-python/intro-python-pandas.ipynb'>local</a> <a href='https://github.com/AnalyticsDojo/materials/blob/master/analyticsdojo/classes/02-intro-python/intro-python-pandas.ipynb#/'>github</a> <a href='http://nbviewer.jupyter.org/format/slides/github/AnalyticsDojo/materials/blob/master/analyticsdojo/classes/02-intro-python/intro-python-pandas.ipynb#/'>slides</a>\""
      ]
     },
     "execution_count": 24,
     "metadata": {},
     "output_type": "execute_result"
    }
   ],
   "source": [
    "htmllinks"
   ]
  },
  {
   "cell_type": "code",
   "execution_count": null,
   "metadata": {
    "collapsed": true
   },
   "outputs": [],
   "source": [
    "http://localhost:8888/notebooks/classes/01-overview/intro-python-overview.ipynb\n",
    "http://localhost:8888/notebooks/classes/02-intro-python/intro-python-overview.ipynb       \n",
    "        "
   ]
  }
 ],
 "metadata": {
  "anaconda-cloud": {},
  "kernelspec": {
   "display_name": "Python [py3k]",
   "language": "python",
   "name": "Python [py3k]"
  },
  "language_info": {
   "codemirror_mode": {
    "name": "ipython",
    "version": 3
   },
   "file_extension": ".py",
   "mimetype": "text/x-python",
   "name": "python",
   "nbconvert_exporter": "python",
   "pygments_lexer": "ipython3",
   "version": "3.5.2"
  }
 },
 "nbformat": 4,
 "nbformat_minor": 0
}
