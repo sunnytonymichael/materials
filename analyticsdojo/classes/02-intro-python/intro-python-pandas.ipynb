{
 "cells": [
  {
   "cell_type": "markdown",
   "metadata": {
    "slideshow": {
     "slide_type": "slide"
    }
   },
   "source": [
    "[![AnalyticsDojo](https://s3.amazonaws.com/analyticsdojo/logo/final-logo.png)](http://www.analyticsdojo.com)\n",
    "<center><h1>Introduction to Python - Introduction to Pandas</h1></center>\n",
    "<center><h3><a href = 'http://www.analyticsdojo.com'>www.analyticsdojo.com</a></h3></center>\n",
    "\n"
   ]
  },
  {
   "cell_type": "markdown",
   "metadata": {
    "slideshow": {
     "slide_type": "subslide"
    }
   },
   "source": [
    "### Links: [local](http://localhost:8888/notebooks/classes/02-intro-python/intro-python-pandas.ipynb) [github](https://github.com/AnalyticsDojo/materials/blob/master/analyticsdojo/classes/02-intro-python/intro-python-pandas.ipynb) [slides](http://nbviewer.jupyter.org/format/slides/github/AnalyticsDojo/materials/blob/master/analyticsdojo/classes/02-intro-python/intro-python-pandas.ipynb#/)"
   ]
  },
  {
   "cell_type": "markdown",
   "metadata": {
    "slideshow": {
     "slide_type": "subslide"
    }
   },
   "source": [
    "#### Large sections of this were adopted from Analysing structured data with Pandas by [Steve Phelps](http://sphelps.net).  Thanks Steve!\n"
   ]
  },
  {
   "cell_type": "markdown",
   "metadata": {
    "slideshow": {
     "slide_type": "subslide"
    }
   },
   "source": [
    "## Data frames\n",
    "\n",
    "- The `pandas` module provides a powerful data-structure called a data frame.\n",
    "\n",
    "- It is similar, but not identical to:\n",
    "    - a table in a relational database,\n",
    "    - an Excel spreadsheet,\n",
    "    - a dataframe in R.\n",
    "\n",
    "    "
   ]
  },
  {
   "cell_type": "markdown",
   "metadata": {
    "slideshow": {
     "slide_type": "subslide"
    }
   },
   "source": [
    "## Data frames\n",
    "- Data frames can be used to represent:\n",
    "    - Data with columns of different types (numeric, text, boolean etc.)\n",
    "    - [Time series](https://en.wikipedia.org/wiki/Time_series) data\n",
    "    - [Relational data](https://en.wikipedia.org/wiki/Relational_model)\n",
    "    "
   ]
  },
  {
   "cell_type": "markdown",
   "metadata": {
    "slideshow": {
     "slide_type": "subslide"
    }
   },
   "source": [
    "## Data frames\n",
    "- Data frames can be read and written to/from:\n",
    "    - database queries, database tables\n",
    "    - CSV files\n",
    "    - json files\n",
    "    - etc.\n",
    "    \n",
    "- Beware that data frames are memory resident;\n",
    "    - If you read a large amount of data your PC might crash\n",
    "    - With big data, typically you would read a subset or summary of the data via e.g. a select statement."
   ]
  },
  {
   "cell_type": "markdown",
   "metadata": {
    "slideshow": {
     "slide_type": "subslide"
    }
   },
   "source": [
    "# Importing pandas\n",
    "\n",
    "- The pandas module is usually imported with the alias `pd`.\n"
   ]
  },
  {
   "cell_type": "code",
   "execution_count": 1,
   "metadata": {
    "collapsed": true
   },
   "outputs": [],
   "source": [
    "import pandas as pd"
   ]
  },
  {
   "cell_type": "markdown",
   "metadata": {
    "slideshow": {
     "slide_type": "subslide"
    }
   },
   "source": [
    "# Pandas (like the rest of Python) is object-oriented\n",
    "\n",
    "- Pandas is object-oriented.\n",
    "\n",
    "- We create data frames by constructing instances of different classes.\n",
    "\n",
    "- The two most important classes are:\n",
    "\n",
    "    - `DataFrame`\n",
    "    - `Series`\n",
    "    \n",
    "- Pandas follows the Java convention of starting the name of classes with an upper-case letter, whereas instances are all lower-case.\n"
   ]
  },
  {
   "cell_type": "code",
   "execution_count": 3,
   "metadata": {
    "collapsed": false
   },
   "outputs": [
    {
     "data": {
      "text/plain": [
       "a    1\n",
       "b    2\n",
       "c    3\n",
       "d    4\n",
       "e    5\n",
       "dtype: int64"
      ]
     },
     "execution_count": 3,
     "metadata": {},
     "output_type": "execute_result"
    }
   ],
   "source": [
    "data = [1,2,3,4,5]\n",
    "my_series = pd.Series(data, index=['a', 'b', 'c', 'd', 'e'])\n",
    "my_series"
   ]
  },
  {
   "cell_type": "markdown",
   "metadata": {
    "slideshow": {
     "slide_type": "subslide"
    }
   },
   "source": [
    "# Plotting a Series\n",
    "\n",
    "- We can plot a series by invoking the `plot()` method on an instance of a `Series` object.\n",
    "\n",
    "- The x-axis will autimatically be labelled with the series index.\n",
    "\n",
    "- This is the first time we are invoking a `magic` command. Read more about them [here](http://ipython.readthedocs.io/en/stable/interactive/magics.html). "
   ]
  },
  {
   "cell_type": "code",
   "execution_count": 4,
   "metadata": {
    "collapsed": false,
    "slideshow": {
     "slide_type": "-"
    }
   },
   "outputs": [
    {
     "data": {
      "text/plain": [
       "<matplotlib.axes._subplots.AxesSubplot at 0x7f7de305ec50>"
      ]
     },
     "execution_count": 4,
     "metadata": {},
     "output_type": "execute_result"
    },
    {
     "data": {
      "image/png": "[encoded data removed]",
      "text/plain": [
       "<matplotlib.figure.Figure at 0x7f7de32f3048>"
      ]
     },
     "metadata": {},
     "output_type": "display_data"
    }
   ],
   "source": [
    "%matplotlib inline\n",
    "my_series.plot()"
   ]
  },
  {
   "cell_type": "markdown",
   "metadata": {
    "slideshow": {
     "slide_type": "subslide"
    }
   },
   "source": [
    "# Creating a series with automatic index\n",
    "\n",
    "- In the following example the index is creating automatically:"
   ]
  },
  {
   "cell_type": "code",
   "execution_count": 5,
   "metadata": {
    "collapsed": false
   },
   "outputs": [
    {
     "data": {
      "text/plain": [
       "0    1\n",
       "1    2\n",
       "2    3\n",
       "3    4\n",
       "4    5\n",
       "dtype: int64"
      ]
     },
     "execution_count": 5,
     "metadata": {},
     "output_type": "execute_result"
    }
   ],
   "source": [
    "pd.Series(data)"
   ]
  },
  {
   "cell_type": "markdown",
   "metadata": {
    "slideshow": {
     "slide_type": "subslide"
    }
   },
   "source": [
    "# Creating a Series from a `dict`\n",
    "\n"
   ]
  },
  {
   "cell_type": "code",
   "execution_count": 6,
   "metadata": {
    "collapsed": false
   },
   "outputs": [
    {
     "data": {
      "text/plain": [
       "a    0.0\n",
       "b    1.0\n",
       "c    2.0\n",
       "dtype: float64"
      ]
     },
     "execution_count": 6,
     "metadata": {},
     "output_type": "execute_result"
    }
   ],
   "source": [
    "d = {'a' : 0., 'b' : 1., 'c' : 2.}\n",
    "my_series = pd.Series(d)\n",
    "my_series"
   ]
  },
  {
   "cell_type": "markdown",
   "metadata": {
    "slideshow": {
     "slide_type": "subslide"
    }
   },
   "source": [
    "# Indexing/Slicing a Series with `[]`\n",
    "\n",
    "- Series can be accessed using the same syntax as arrays and dicts.\n",
    "- We use the labels in the index to access each element.\n",
    "- We can also use the label like an attribute `my_series.b`\n",
    "- We can specify a range with `my_series[['b', 'c']]`\n",
    "\n"
   ]
  },
  {
   "cell_type": "code",
   "execution_count": 7,
   "metadata": {
    "collapsed": false
   },
   "outputs": [
    {
     "name": "stdout",
     "output_type": "stream",
     "text": [
      "1.0 \n",
      " 1.0 \n",
      " b    1.0\n",
      "c    2.0\n",
      "dtype: float64\n"
     ]
    }
   ],
   "source": [
    "print( my_series['b'],'\\n', my_series.b, '\\n', my_series[['b', 'c']])"
   ]
  },
  {
   "cell_type": "markdown",
   "metadata": {
    "slideshow": {
     "slide_type": "subslide"
    }
   },
   "source": [
    "## Functions on Series\n",
    "\n",
    "- We can perform calculations using the entire series similar to numpy.\n",
    "- Methods are called from within `np.Series`, for example np.Series.add\n",
    "- See a variety of series functions [here](http://pandas.pydata.org/pandas-docs/stable/generated/pandas.Series.html) \n",
    "\n"
   ]
  },
  {
   "cell_type": "code",
   "execution_count": 8,
   "metadata": {
    "collapsed": false
   },
   "outputs": [
    {
     "name": "stdout",
     "output_type": "stream",
     "text": [
      "Print the entire array a: a    0.0\n",
      "b    1.0\n",
      "c    2.0\n",
      "dtype: float64\n",
      "Print the entire array b1: a     0.0\n",
      "b    10.0\n",
      "c    20.0\n",
      "dtype: float64\n",
      "Print the entire array b2: a     0.0\n",
      "b    10.0\n",
      "c    20.0\n",
      "dtype: float64\n",
      "Print the entire array b3: a     0.0\n",
      "b    11.0\n",
      "c    22.0\n",
      "dtype: float64\n",
      "Print the entire array c2: a     0.0\n",
      "b    11.0\n",
      "c    22.0\n",
      "dtype: float64\n",
      "Print the entire array f: a    0.0\n",
      "b    1.0\n",
      "c    4.0\n",
      "dtype: float64\n",
      "Print the entire array a: a    3.0\n",
      "b    5.0\n",
      "c    7.0\n",
      "dtype: float64\n"
     ]
    }
   ],
   "source": [
    "d = {'a' : 0., 'b' : 1., 'c' : 2.}\n",
    "a = pd.Series(d)\n",
    "b1=10*a\n",
    "b2=a.multiply(10)\n",
    "c1=a+b1\n",
    "c2=pd.Series.add(a,b1) #Note we are calling the method of the series class. Numpy used us np.add\n",
    "f=a**2  #This squares the value. \n",
    "\n",
    "x = pd.Series({'a' : 0., 'b' : 1., 'c' : 2.})\n",
    "y = pd.Series({'a' : 3., 'b' : 4., 'c' : 5.})\n",
    "z = x+y\n",
    "\n",
    "print('Print the entire array a:', a)\n",
    "print('Print the entire array b1:', b1)\n",
    "print('Print the entire array b2:', b2)\n",
    "print('Print the entire array b3:', c1)\n",
    "print('Print the entire array c2:', c2)\n",
    "print('Print the entire array f:', f)\n",
    "print('Print the entire array a:', z)"
   ]
  },
  {
   "cell_type": "markdown",
   "metadata": {
    "slideshow": {
     "slide_type": "subslide"
    }
   },
   "source": [
    "## Time Series\n",
    "- Time series models link specific times with rows."
   ]
  },
  {
   "cell_type": "code",
   "execution_count": 9,
   "metadata": {
    "collapsed": false
   },
   "outputs": [
    {
     "data": {
      "text/plain": [
       "DatetimeIndex(['2000-01-01', '2000-01-02', '2000-01-03', '2000-01-04',\n",
       "               '2000-01-05'],\n",
       "              dtype='datetime64[ns]', freq='D')"
      ]
     },
     "execution_count": 9,
     "metadata": {},
     "output_type": "execute_result"
    }
   ],
   "source": [
    "dates = pd.date_range('1/1/2000', periods=5)\n",
    "dates"
   ]
  },
  {
   "cell_type": "code",
   "execution_count": 10,
   "metadata": {
    "collapsed": false
   },
   "outputs": [
    {
     "data": {
      "text/plain": [
       "2000-01-01    1\n",
       "2000-01-02    2\n",
       "2000-01-03    3\n",
       "2000-01-04    4\n",
       "2000-01-05    5\n",
       "Freq: D, dtype: int64"
      ]
     },
     "execution_count": 10,
     "metadata": {},
     "output_type": "execute_result"
    }
   ],
   "source": [
    "time_series = pd.Series(data, index=dates)\n",
    "time_series"
   ]
  },
  {
   "cell_type": "code",
   "execution_count": 11,
   "metadata": {
    "collapsed": false,
    "slideshow": {
     "slide_type": "subslide"
    }
   },
   "outputs": [
    {
     "data": {
      "image/png": "[encoded data removed]",
      "text/plain": [
       "<matplotlib.figure.Figure at 0x7f7de302c470>"
      ]
     },
     "metadata": {},
     "output_type": "display_data"
    }
   ],
   "source": [
    "ax = time_series.plot()"
   ]
  },
  {
   "cell_type": "markdown",
   "metadata": {
    "slideshow": {
     "slide_type": "subslide"
    }
   },
   "source": [
    "## Missing Values\n",
    "\n",
    "- Pandas uses `nan` to represent missing, invalid or unknown data values.\n",
    "\n",
    "- It is important to note that this only convention only applies within pandas.\n"
   ]
  },
  {
   "cell_type": "markdown",
   "metadata": {
    "slideshow": {
     "slide_type": "subslide"
    }
   },
   "source": [
    "# DataFrame\n",
    "\n",
    "- A data frame has multiple columns, each of which can hold a *different* type of value.\n",
    "\n",
    "- Like a series, it has an index which provides a label for each and every row. \n",
    "\n",
    "- Data frames can be constructed from:\n",
    "    - dict of arrays,\n",
    "    - dict of lists,\n",
    "    - dict of dict\n",
    "    - dict of Series\n",
    "    - 2-dimensional array\n",
    "    - a single Series\n",
    "    - another DataFrame"
   ]
  },
  {
   "cell_type": "markdown",
   "metadata": {
    "slideshow": {
     "slide_type": "subslide"
    }
   },
   "source": [
    "\n",
    "## Example: Creating a DataFrame from Multiple Series\n",
    "- Notice how it handles the missing values as `NaN`\n",
    "- Series should have matching keys for each matching row."
   ]
  },
  {
   "cell_type": "code",
   "execution_count": 83,
   "metadata": {
    "collapsed": false
   },
   "outputs": [
    {
     "name": "stdout",
     "output_type": "stream",
     "text": [
      "     x    y    z\n",
      "a  1.0  4.0  NaN\n",
      "b  2.0  NaN  0.2\n",
      "c  3.0  6.0  0.3\n",
      "d  NaN  7.0  0.4\n"
     ]
    }
   ],
   "source": [
    "d = {\n",
    "        'x' : \n",
    "            pd.Series([1., 2., 3.], index=['a', 'b', 'c']),\n",
    "        'y' : \n",
    "            pd.Series([4.,  6., 7.], index=['a',  'c', 'd']),\n",
    "        'z' :\n",
    "            pd.Series([0.2, 0.3, 0.4], index=[ 'b', 'c', 'd'])\n",
    "}\n",
    "\n",
    "df = pd.DataFrame(d)\n",
    "print (df)"
   ]
  },
  {
   "cell_type": "markdown",
   "metadata": {
    "slideshow": {
     "slide_type": "subslide"
    }
   },
   "source": [
    "# Plotting data frames\n",
    "\n",
    "- When plotting a data frame, each column is plotted as its own series on the same graph.\n",
    "\n",
    "- The column names are used to label each series.\n",
    "\n",
    "- The row names (index) is used to label the x-axis."
   ]
  },
  {
   "cell_type": "code",
   "execution_count": 84,
   "metadata": {
    "collapsed": false,
    "slideshow": {
     "slide_type": "-"
    }
   },
   "outputs": [
    {
     "data": {
      "image/png": "[encoded data removed]",
      "text/plain": [
       "<matplotlib.figure.Figure at 0x7f7ddfbd91d0>"
      ]
     },
     "metadata": {},
     "output_type": "display_data"
    }
   ],
   "source": [
    "ax = df.plot()"
   ]
  },
  {
   "cell_type": "code",
   "execution_count": 86,
   "metadata": {
    "collapsed": false
   },
   "outputs": [
    {
     "data": {
      "text/html": [
       "<div>\n",
       "<table border=\"1\" class=\"dataframe\">\n",
       "  <thead>\n",
       "    <tr style=\"text-align: right;\">\n",
       "      <th></th>\n",
       "      <th>x</th>\n",
       "      <th>y</th>\n",
       "      <th>z</th>\n",
       "    </tr>\n",
       "  </thead>\n",
       "  <tbody>\n",
       "    <tr>\n",
       "      <th>a</th>\n",
       "      <td>1.0</td>\n",
       "      <td>4.0</td>\n",
       "      <td>NaN</td>\n",
       "    </tr>\n",
       "    <tr>\n",
       "      <th>b</th>\n",
       "      <td>2.0</td>\n",
       "      <td>NaN</td>\n",
       "      <td>0.2</td>\n",
       "    </tr>\n",
       "    <tr>\n",
       "      <th>c</th>\n",
       "      <td>3.0</td>\n",
       "      <td>6.0</td>\n",
       "      <td>0.3</td>\n",
       "    </tr>\n",
       "    <tr>\n",
       "      <th>d</th>\n",
       "      <td>NaN</td>\n",
       "      <td>7.0</td>\n",
       "      <td>0.4</td>\n",
       "    </tr>\n",
       "  </tbody>\n",
       "</table>\n",
       "</div>"
      ],
      "text/plain": [
       "     x    y    z\n",
       "a  1.0  4.0  NaN\n",
       "b  2.0  NaN  0.2\n",
       "c  3.0  6.0  0.3\n",
       "d  NaN  7.0  0.4"
      ]
     },
     "execution_count": 86,
     "metadata": {},
     "output_type": "execute_result"
    }
   ],
   "source": [
    "df\n"
   ]
  },
  {
   "cell_type": "markdown",
   "metadata": {
    "slideshow": {
     "slide_type": "subslide"
    }
   },
   "source": [
    "## Indexing/Slicing Rows of DataFrames\n",
    "- Simple ways of selecting all rows (`df[:]`)\n",
    "- Rows can be accessed via a key or a integer corresponding to the row number. \n",
    "- Omitting a value generally means *all values* before or after an item.\n",
    "- When we retrieve a single or mulitiple rows, the result is a Dataframe.\n",
    "- Read more [here](http://pandas.pydata.org/pandas-docs/stable/indexing.html)"
   ]
  },
  {
   "cell_type": "code",
   "execution_count": 115,
   "metadata": {
    "collapsed": false
   },
   "outputs": [
    {
     "name": "stdout",
     "output_type": "stream",
     "text": [
      "\n",
      "      x    y    z\n",
      "a  1.0  4.0  NaN\n",
      "b  2.0  NaN  0.2\n",
      "c  3.0  6.0  0.3\n",
      "d  NaN  7.0  0.4 \n",
      "      x    y   z\n",
      "a  1.0  4.0 NaN \n",
      "      x    y    z\n",
      "a  1.0  4.0  NaN\n",
      "b  2.0  NaN  0.2\n",
      "c  3.0  6.0  0.3 \n",
      "      x    y    z\n",
      "c  3.0  6.0  0.3\n",
      "d  NaN  7.0  0.4 \n",
      "      x    y    z\n",
      "a  1.0  4.0  NaN\n",
      "b  2.0  NaN  0.2\n",
      "c  3.0  6.0  0.3 \n",
      "      x    y    z\n",
      "b  2.0  NaN  0.2\n",
      "c  3.0  6.0  0.3\n",
      "d  NaN  7.0  0.4 \n",
      "      x    y    z\n",
      "c  3.0  6.0  0.3\n",
      "d  NaN  7.0  0.4\n"
     ]
    }
   ],
   "source": [
    "#This selects specific rows\n",
    "srows0 = df[:]     #This will show all rows, all columns\n",
    "srows1 = df[0:1]     #This will show only row 1 and all columns\n",
    "srows1b = df[:3]     #This will all up to and including row 3.\n",
    "srows1c = df[2:]     #This will all up to and including row 3.\n",
    "srows2 = df[:'c']    #This will show all rows up to and including 'c' and all columns\n",
    "srows3 = df['b':]    #This will show all rows after and including 'b' and all columns\n",
    "srows4 = df['c':'d'] #This will show row c and d and all columns\n",
    "\n",
    "print('\\n', srows0,'\\n', srows1,'\\n', srows1b,'\\n', srows1c,'\\n', srows2,'\\n', srows3,'\\n', srows4)\n"
   ]
  },
  {
   "cell_type": "markdown",
   "metadata": {
    "slideshow": {
     "slide_type": "subslide"
    }
   },
   "source": [
    "## Indexing/Slicing Columns of DataFrames\n",
    "- Simple ways of selecting colum(s) `frame[[colname(s)]]`. \n",
    "- Columns can have one (`df['x']`) or multiple (`df[['x', 'y']]`) columns.\n",
    "- When specifying one column, one can use simplified dot notation `df.x`.\n",
    "- When we include multiple columns the slice that result is a DataFrame.\n",
    "- When we retrieve a single column, the result is a Series.\n",
    "- When we retrieve mulitiple column, the result is a Dataframe.\n"
   ]
  },
  {
   "cell_type": "code",
   "execution_count": 102,
   "metadata": {
    "collapsed": false
   },
   "outputs": [
    {
     "name": "stdout",
     "output_type": "stream",
     "text": [
      "\n",
      " a    1.0\n",
      "b    2.0\n",
      "c    3.0\n",
      "d    NaN\n",
      "Name: x, dtype: float64 \n",
      "      x    y\n",
      "a  1.0  4.0\n",
      "b  2.0  NaN\n",
      "c  3.0  6.0\n",
      "d  NaN  7.0 \n",
      " a    NaN\n",
      "b    0.2\n",
      "c    0.3\n",
      "d    0.4\n",
      "Name: z, dtype: float64\n"
     ]
    }
   ],
   "source": [
    "#This selects columns in various ways.\n",
    "scols1= df['x'] #this will list all rows of column 'x' and 'y'\n",
    "scols2 = df[['x', 'y']] #this will list all rows of column 'x' and 'y'\n",
    "scols3= df.z \n",
    "print('\\n', scols1,'\\n', scols2,'\\n', scols3)\n"
   ]
  },
  {
   "cell_type": "markdown",
   "metadata": {
    "slideshow": {
     "slide_type": "subslide"
    }
   },
   "source": [
    "## Indexing/Slicing Columns and Rows of DataFrames\n",
    "- Can incorporate any combination of column and row syntax shown below with general syntax `df[columns][rows]`\n",
    "- Can also utilize dot notation to specify a column and number of rows `df.column[rows]`\n",
    "\n"
   ]
  },
  {
   "cell_type": "code",
   "execution_count": 118,
   "metadata": {
    "collapsed": false
   },
   "outputs": [
    {
     "name": "stdout",
     "output_type": "stream",
     "text": [
      "a    1.0\n",
      "b    2.0\n",
      "Name: x, dtype: float64 \n",
      " a    1.0\n",
      "b    2.0\n",
      "c    3.0\n",
      "Name: x, dtype: float64 \n",
      " a    1.0\n",
      "b    2.0\n",
      "Name: x, dtype: float64 \n",
      "      x    y\n",
      "a  1.0  4.0\n",
      "b  2.0  NaN\n",
      "c  3.0  6.0 \n",
      "      x    y\n",
      "b  2.0  NaN\n",
      "c  3.0  6.0 \n",
      "      x    y\n",
      "b  2.0  NaN\n",
      "c  3.0  6.0\n",
      "d  NaN  7.0\n"
     ]
    }
   ],
   "source": [
    "srowcols1 = df['x'][0:2]  # this selects one column and a range of rows \n",
    "srowcols2 = df['x'][:'c'] # this selects one column and a range of rows \n",
    "srowcols3 = df.x[0:2]\n",
    "srowcols4 = df[['x','y']][:'c'] \n",
    "srowcols5 = df[['x','y']]['b':'c'] \n",
    "srowcols6 = df[['x','y']]['b':] \n",
    "print('\\n', srowcols1,'\\n', srowcols2,'\\n',srowcols3, '\\n', srowcols4,'\\n', srowcols5,'\\n', srowcols6)"
   ]
  },
  {
   "cell_type": "markdown",
   "metadata": {
    "slideshow": {
     "slide_type": "subslide"
    }
   },
   "source": [
    "## Indexing/Slicing Specific Values from DataFrames\n",
    "- Simple ways of selecting via `df[column][row]`\n",
    "- When we retrieve a single column, the result is a Series\n",
    "- We can also specify a specific value with `df['x']['b']` or `df.x.b`\n",
    "- The variable will be the class of the column"
   ]
  },
  {
   "cell_type": "code",
   "execution_count": 85,
   "metadata": {
    "collapsed": false
   },
   "outputs": [
    {
     "name": "stdout",
     "output_type": "stream",
     "text": [
      "b    2.0\n",
      "c    3.0\n",
      "Name: x, dtype: float64 \n",
      " 2.0 \n",
      " 2.0 \n",
      " <class 'numpy.float64'>\n"
     ]
    }
   ],
   "source": [
    "print(df['x']['b'], '\\n', df.x.b,'\\n', type(df.x.b))"
   ]
  },
  {
   "cell_type": "markdown",
   "metadata": {
    "slideshow": {
     "slide_type": "subslide"
    }
   },
   "source": [
    "## Alternate Indexing/Slicing Columns and Rows of DataFrames with `iloc`\n",
    "- An alternate that allows indexing via integers \n",
    "- For example, `df.iloc[rowstart:rowend, columnstart:columnend]`"
   ]
  },
  {
   "cell_type": "code",
   "execution_count": 128,
   "metadata": {
    "collapsed": false
   },
   "outputs": [
    {
     "name": "stdout",
     "output_type": "stream",
     "text": [
      "\n",
      "      x    y\n",
      "a  1.0  4.0 \n",
      "      y    z\n",
      "a  4.0  NaN\n",
      "b  NaN  0.2\n",
      "c  6.0  0.3\n"
     ]
    }
   ],
   "source": [
    "siloc1 = df.iloc[0:1,0:2] #This will list row 0 and columns 0/1\n",
    "siloc2 = df.iloc[0:3,1:3] #This will list row 0-2 and columns 1/2\n",
    "print('\\n', siloc1,'\\n', siloc2)"
   ]
  },
  {
   "cell_type": "markdown",
   "metadata": {
    "slideshow": {
     "slide_type": "subslide"
    }
   },
   "source": [
    "## Alternate Indexing/Slicing Columns and Rows of DataFrames with `loc`\n",
    "- An alternate that allows indexing via labels \n",
    "- For example, `df.loc[rowlabelstart:rowlabelend, columnlabelstart:columnlabelend]`"
   ]
  },
  {
   "cell_type": "code",
   "execution_count": 166,
   "metadata": {
    "collapsed": false
   },
   "outputs": [
    {
     "name": "stdout",
     "output_type": "stream",
     "text": [
      "\n",
      "      x    y\n",
      "a  1.0  4.0\n",
      "b  2.0  NaN \n",
      "      x    y\n",
      "a  1.0  4.0\n",
      "b  2.0  NaN \n",
      " x    1.0\n",
      "z    NaN\n",
      "Name: a, dtype: float64 \n",
      "      y    z\n",
      "b  NaN  0.2\n",
      "c  6.0  0.3\n",
      "d  7.0  0.4 \n",
      " 1.0\n"
     ]
    }
   ],
   "source": [
    "\n",
    "sloc1=df.loc['a':'b','x':'y'] #This selects a range of labels.\n",
    "sloc2=df.loc['a':'b',:'y'] #This selects row a-b and columns up to y.\n",
    "sloc3=df.loc['a',['x','z']]  #This also allows us to select specific items, here row a and columns x and z.\n",
    "sloc4=df.loc['b':,'y':]#This also allows us to select all rows after b and all columns after y.\n",
    "sloc5=df.loc['a','x'] #This selects a single row/column.\n",
    "print('\\n', sloc1,'\\n', sloc2,'\\n', sloc3,'\\n', sloc4,'\\n', sloc5)"
   ]
  },
  {
   "cell_type": "markdown",
   "metadata": {
    "collapsed": false,
    "slideshow": {
     "slide_type": "subslide"
    }
   },
   "source": [
    "# Intro to Filters (Logical indexing)\n",
    "\n",
    "- We can use logical indexing to retrieve a subset of the data.\n",
    "- We will do more with complex filters in the future.\n",
    "\n"
   ]
  },
  {
   "cell_type": "code",
   "execution_count": 158,
   "metadata": {
    "collapsed": false
   },
   "outputs": [
    {
     "data": {
      "text/plain": [
       "a    False\n",
       "b     True\n",
       "c     True\n",
       "d    False\n",
       "Name: x, dtype: bool"
      ]
     },
     "execution_count": 158,
     "metadata": {},
     "output_type": "execute_result"
    }
   ],
   "source": [
    "# At the foundation of the filter is a boolean array based on some type of condition. \n",
    "df['x'] >= 2"
   ]
  },
  {
   "cell_type": "code",
   "execution_count": 19,
   "metadata": {
    "collapsed": false
   },
   "outputs": [
    {
     "data": {
      "text/html": [
       "<div>\n",
       "<table border=\"1\" class=\"dataframe\">\n",
       "  <thead>\n",
       "    <tr style=\"text-align: right;\">\n",
       "      <th></th>\n",
       "      <th>x</th>\n",
       "      <th>y</th>\n",
       "      <th>z</th>\n",
       "    </tr>\n",
       "  </thead>\n",
       "  <tbody>\n",
       "    <tr>\n",
       "      <th>b</th>\n",
       "      <td>2.0</td>\n",
       "      <td>NaN</td>\n",
       "      <td>0.2</td>\n",
       "    </tr>\n",
       "    <tr>\n",
       "      <th>c</th>\n",
       "      <td>3.0</td>\n",
       "      <td>6.0</td>\n",
       "      <td>0.3</td>\n",
       "    </tr>\n",
       "  </tbody>\n",
       "</table>\n",
       "</div>"
      ],
      "text/plain": [
       "     x    y    z\n",
       "b  2.0  NaN  0.2\n",
       "c  3.0  6.0  0.3"
      ]
     },
     "execution_count": 19,
     "metadata": {},
     "output_type": "execute_result"
    }
   ],
   "source": [
    "#notice how the logical statement is inside the dataframe specification.  This creates an intermediate boolean array. \n",
    "df[df['x'] >= 2]"
   ]
  },
  {
   "cell_type": "code",
   "execution_count": 23,
   "metadata": {
    "collapsed": false
   },
   "outputs": [
    {
     "data": {
      "text/html": [
       "<div>\n",
       "<table border=\"1\" class=\"dataframe\">\n",
       "  <thead>\n",
       "    <tr style=\"text-align: right;\">\n",
       "      <th></th>\n",
       "      <th>x</th>\n",
       "      <th>y</th>\n",
       "      <th>z</th>\n",
       "    </tr>\n",
       "  </thead>\n",
       "  <tbody>\n",
       "    <tr>\n",
       "      <th>b</th>\n",
       "      <td>2.0</td>\n",
       "      <td>NaN</td>\n",
       "      <td>0.2</td>\n",
       "    </tr>\n",
       "    <tr>\n",
       "      <th>c</th>\n",
       "      <td>3.0</td>\n",
       "      <td>6.0</td>\n",
       "      <td>0.3</td>\n",
       "    </tr>\n",
       "  </tbody>\n",
       "</table>\n",
       "</div>"
      ],
      "text/plain": [
       "     x    y    z\n",
       "b  2.0  NaN  0.2\n",
       "c  3.0  6.0  0.3"
      ]
     },
     "execution_count": 23,
     "metadata": {},
     "output_type": "execute_result"
    }
   ],
   "source": [
    "#This is an alternate method where we first set the boolean array. \n",
    "included=df['x'] >= 2\n",
    "df[included]\n"
   ]
  },
  {
   "cell_type": "markdown",
   "metadata": {
    "slideshow": {
     "slide_type": "subslide"
    }
   },
   "source": [
    "## Functions and DataFrames\n",
    "\n",
    "- We can do calculations and functions with dataframes just like series.\n",
    "- To make a copy, don't set two dataframes equal us the `copy` method:  `df2= df.copy()` "
   ]
  },
  {
   "cell_type": "code",
   "execution_count": 163,
   "metadata": {
    "collapsed": false
   },
   "outputs": [
    {
     "name": "stdout",
     "output_type": "stream",
     "text": [
      "     x    y    z\n",
      "a  1.0  4.0  NaN\n",
      "b  2.0  NaN  0.2\n",
      "c  3.0  6.0  0.3\n",
      "d  NaN  7.0  0.4 \n",
      "      x    y    z\n",
      "a  1.0  4.0  NaN\n",
      "b  2.0  NaN  0.2\n",
      "c  3.0  6.0  0.3\n",
      "d  NaN  7.0  0.4\n"
     ]
    }
   ],
   "source": [
    "df2= df.copy()\n",
    "print(df, '\\n', df2)"
   ]
  },
  {
   "cell_type": "code",
   "execution_count": 17,
   "metadata": {
    "collapsed": false
   },
   "outputs": [
    {
     "name": "stdout",
     "output_type": "stream",
     "text": [
      "     x    y    z\n",
      "a  1.0  4.0  NaN\n",
      "b  2.0  NaN  0.2\n",
      "c  3.0  6.0  0.3\n",
      "d  NaN  7.0  0.4\n"
     ]
    }
   ],
   "source": [
    "df ** 2 #This squares all values. \n",
    "print(df)"
   ]
  },
  {
   "cell_type": "code",
   "execution_count": 16,
   "metadata": {
    "collapsed": false
   },
   "outputs": [
    {
     "name": "stdout",
     "output_type": "stream",
     "text": [
      "a    5.0\n",
      "b    NaN\n",
      "c    9.0\n",
      "d    NaN\n",
      "dtype: float64 \n",
      " <class 'pandas.core.series.Series'>\n"
     ]
    }
   ],
   "source": [
    "z= df['x'] + df['y']\n",
    "print(z,'\\n', type(z))"
   ]
  },
  {
   "cell_type": "markdown",
   "metadata": {
    "slideshow": {
     "slide_type": "subslide"
    }
   },
   "source": [
    "## Summary statistics\n",
    "- To quickly obtain summary statistics on numerical values use the `describe` method.\n",
    "- You will get a warning if there are missing values.\n",
    "- The result is itself a DataFrame, that we can slice `dfstats.y['mean']`."
   ]
  },
  {
   "cell_type": "code",
   "execution_count": 159,
   "metadata": {
    "collapsed": false,
    "slideshow": {
     "slide_type": "-"
    }
   },
   "outputs": [
    {
     "name": "stderr",
     "output_type": "stream",
     "text": [
      "/opt/conda/lib/python3.5/site-packages/numpy/lib/function_base.py:3403: RuntimeWarning: Invalid value encountered in median\n",
      "  RuntimeWarning)\n"
     ]
    },
    {
     "data": {
      "text/html": [
       "<div>\n",
       "<table border=\"1\" class=\"dataframe\">\n",
       "  <thead>\n",
       "    <tr style=\"text-align: right;\">\n",
       "      <th></th>\n",
       "      <th>x</th>\n",
       "      <th>y</th>\n",
       "      <th>z</th>\n",
       "    </tr>\n",
       "  </thead>\n",
       "  <tbody>\n",
       "    <tr>\n",
       "      <th>count</th>\n",
       "      <td>3.0</td>\n",
       "      <td>3.000000</td>\n",
       "      <td>3.0</td>\n",
       "    </tr>\n",
       "    <tr>\n",
       "      <th>mean</th>\n",
       "      <td>2.0</td>\n",
       "      <td>5.666667</td>\n",
       "      <td>0.3</td>\n",
       "    </tr>\n",
       "    <tr>\n",
       "      <th>std</th>\n",
       "      <td>1.0</td>\n",
       "      <td>1.527525</td>\n",
       "      <td>0.1</td>\n",
       "    </tr>\n",
       "    <tr>\n",
       "      <th>min</th>\n",
       "      <td>1.0</td>\n",
       "      <td>4.000000</td>\n",
       "      <td>0.2</td>\n",
       "    </tr>\n",
       "    <tr>\n",
       "      <th>25%</th>\n",
       "      <td>NaN</td>\n",
       "      <td>NaN</td>\n",
       "      <td>NaN</td>\n",
       "    </tr>\n",
       "    <tr>\n",
       "      <th>50%</th>\n",
       "      <td>NaN</td>\n",
       "      <td>NaN</td>\n",
       "      <td>NaN</td>\n",
       "    </tr>\n",
       "    <tr>\n",
       "      <th>75%</th>\n",
       "      <td>NaN</td>\n",
       "      <td>NaN</td>\n",
       "      <td>NaN</td>\n",
       "    </tr>\n",
       "    <tr>\n",
       "      <th>max</th>\n",
       "      <td>3.0</td>\n",
       "      <td>7.000000</td>\n",
       "      <td>0.4</td>\n",
       "    </tr>\n",
       "  </tbody>\n",
       "</table>\n",
       "</div>"
      ],
      "text/plain": [
       "         x         y    z\n",
       "count  3.0  3.000000  3.0\n",
       "mean   2.0  5.666667  0.3\n",
       "std    1.0  1.527525  0.1\n",
       "min    1.0  4.000000  0.2\n",
       "25%    NaN       NaN  NaN\n",
       "50%    NaN       NaN  NaN\n",
       "75%    NaN       NaN  NaN\n",
       "max    3.0  7.000000  0.4"
      ]
     },
     "execution_count": 159,
     "metadata": {},
     "output_type": "execute_result"
    }
   ],
   "source": [
    "dfstats=df.describe()\n",
    "dfstats\n",
    "\n"
   ]
  },
  {
   "cell_type": "code",
   "execution_count": 160,
   "metadata": {
    "collapsed": false,
    "slideshow": {
     "slide_type": "subslide"
    }
   },
   "outputs": [
    {
     "name": "stdout",
     "output_type": "stream",
     "text": [
      "2.0 \n",
      " 1.52752523165\n"
     ]
    }
   ],
   "source": [
    "xmean = dfstats.x['mean'] #This is the X mean\n",
    "ystd = dfstats['y']['std'] #This is the Y standardard deviation\n",
    "print(xmean,'\\n',ystd)"
   ]
  },
  {
   "cell_type": "markdown",
   "metadata": {
    "slideshow": {
     "slide_type": "subslide"
    }
   },
   "source": [
    "# Accessing the row and column labels\n",
    "\n",
    "- The row labels (index) can be accessed through `df.index`.\n",
    "- The column labels can be accessed through `df.columns`.\n"
   ]
  },
  {
   "cell_type": "code",
   "execution_count": 32,
   "metadata": {
    "collapsed": false
   },
   "outputs": [
    {
     "data": {
      "text/plain": [
       "Index(['a', 'b', 'c', 'd'], dtype='object')"
      ]
     },
     "execution_count": 32,
     "metadata": {},
     "output_type": "execute_result"
    }
   ],
   "source": [
    "df.index\n"
   ]
  },
  {
   "cell_type": "code",
   "execution_count": 33,
   "metadata": {
    "collapsed": false
   },
   "outputs": [
    {
     "data": {
      "text/plain": [
       "Index(['x', 'y', 'z'], dtype='object')"
      ]
     },
     "execution_count": 33,
     "metadata": {},
     "output_type": "execute_result"
    }
   ],
   "source": [
    "df.columns"
   ]
  },
  {
   "cell_type": "markdown",
   "metadata": {
    "slideshow": {
     "slide_type": "subslide"
    }
   },
   "source": [
    "## Financial data\n",
    "\n",
    "- Pandas was originally developed to analyse financial data.\n",
    "\n",
    "- While Pandas used to have [built-in functions](http://pandas.pydata.org/pandas-docs/stable/remote_data.html) for retrieving data from Google, Yahoo Finance etc., it has recently been move to a package `pandas_datareader` that we have to install.\n",
    "\n",
    "- The following example will retrieve the data for \"GSK\" from Yahoo Finance.\n",
    "- Both [quant-econ.net](http://quant-econ.net) and [quantecon.org](http://quantecon.org) provide great resources for modeling economic data.\n"
   ]
  },
  {
   "cell_type": "code",
   "execution_count": 4,
   "metadata": {
    "collapsed": false
   },
   "outputs": [
    {
     "name": "stdout",
     "output_type": "stream",
     "text": [
      "Collecting pandas_datareader\n",
      "  Downloading pandas_datareader-0.2.1-py2.py3-none-any.whl\n",
      "Requirement already satisfied (use --upgrade to upgrade): requests in /opt/conda/lib/python3.5/site-packages (from pandas_datareader)\n",
      "Collecting requests-file (from pandas_datareader)\n",
      "  Downloading requests-file-1.4.tar.gz\n",
      "Requirement already satisfied (use --upgrade to upgrade): pandas in /opt/conda/lib/python3.5/site-packages (from pandas_datareader)\n",
      "Requirement already satisfied (use --upgrade to upgrade): six in /opt/conda/lib/python3.5/site-packages (from requests-file->pandas_datareader)\n",
      "Requirement already satisfied (use --upgrade to upgrade): python-dateutil>=2 in /opt/conda/lib/python3.5/site-packages (from pandas->pandas_datareader)\n",
      "Requirement already satisfied (use --upgrade to upgrade): pytz>=2011k in /opt/conda/lib/python3.5/site-packages (from pandas->pandas_datareader)\n",
      "Requirement already satisfied (use --upgrade to upgrade): numpy>=1.7.0 in /opt/conda/lib/python3.5/site-packages (from pandas->pandas_datareader)\n",
      "Building wheels for collected packages: requests-file\n",
      "  Running setup.py bdist_wheel for requests-file ... \u001b[?25l-\b \b\\\b \bdone\n",
      "\u001b[?25h  Stored in directory: /home/jovyan/.cache/pip/wheels/a4/4c/1c/8f22cae3cebc5e0b7da07bbf4feee223c2c86702e391c47df0\n",
      "Successfully built requests-file\n",
      "Installing collected packages: requests-file, pandas-datareader\n",
      "Successfully installed pandas-datareader-0.2.1 requests-file-1.4\n"
     ]
    }
   ],
   "source": [
    "#You only need to run this once. \n",
    "!pip install pandas_datareader"
   ]
  },
  {
   "cell_type": "code",
   "execution_count": 29,
   "metadata": {
    "collapsed": false,
    "slideshow": {
     "slide_type": "subslide"
    }
   },
   "outputs": [],
   "source": [
    "\n",
    "\n",
    "import pandas_datareader.data as pdr\n",
    "import datetime\n",
    "start = datetime.datetime(2010, 1, 1)\n",
    "end = datetime.datetime(2013, 1, 27)\n",
    "#This retreives data regarding Ford (F) from yahoo from 1/1/2010 and 1/27/2013\n",
    "gsk = pdr.DataReader('F', 'yahoo', start, end)\n"
   ]
  },
  {
   "cell_type": "markdown",
   "metadata": {
    "slideshow": {
     "slide_type": "subslide"
    }
   },
   "source": [
    "##  Large Dataframes - Head and Tail\n",
    "\n",
    "- Many times you just want a sampling of the available data\n",
    "- The `head()` command can view the start of a data frame.\n",
    "- The `tail()` command can be used to show the end of a data frame. "
   ]
  },
  {
   "cell_type": "code",
   "execution_count": 12,
   "metadata": {
    "collapsed": false
   },
   "outputs": [
    {
     "data": {
      "text/html": [
       "<div>\n",
       "<table border=\"1\" class=\"dataframe\">\n",
       "  <thead>\n",
       "    <tr style=\"text-align: right;\">\n",
       "      <th></th>\n",
       "      <th>Open</th>\n",
       "      <th>High</th>\n",
       "      <th>Low</th>\n",
       "      <th>Close</th>\n",
       "      <th>Volume</th>\n",
       "      <th>Adj Close</th>\n",
       "    </tr>\n",
       "    <tr>\n",
       "      <th>Date</th>\n",
       "      <th></th>\n",
       "      <th></th>\n",
       "      <th></th>\n",
       "      <th></th>\n",
       "      <th></th>\n",
       "      <th></th>\n",
       "    </tr>\n",
       "  </thead>\n",
       "  <tbody>\n",
       "    <tr>\n",
       "      <th>2010-01-04</th>\n",
       "      <td>43.080002</td>\n",
       "      <td>43.130001</td>\n",
       "      <td>42.889999</td>\n",
       "      <td>42.970001</td>\n",
       "      <td>1046500</td>\n",
       "      <td>29.641702</td>\n",
       "    </tr>\n",
       "    <tr>\n",
       "      <th>2010-01-05</th>\n",
       "      <td>41.990002</td>\n",
       "      <td>42.080002</td>\n",
       "      <td>41.619999</td>\n",
       "      <td>41.830002</td>\n",
       "      <td>1619800</td>\n",
       "      <td>28.855304</td>\n",
       "    </tr>\n",
       "    <tr>\n",
       "      <th>2010-01-06</th>\n",
       "      <td>41.560001</td>\n",
       "      <td>41.700001</td>\n",
       "      <td>41.290001</td>\n",
       "      <td>41.340000</td>\n",
       "      <td>1850100</td>\n",
       "      <td>28.517289</td>\n",
       "    </tr>\n",
       "    <tr>\n",
       "      <th>2010-01-07</th>\n",
       "      <td>41.400002</td>\n",
       "      <td>41.549999</td>\n",
       "      <td>41.020000</td>\n",
       "      <td>41.480000</td>\n",
       "      <td>1762500</td>\n",
       "      <td>28.613864</td>\n",
       "    </tr>\n",
       "    <tr>\n",
       "      <th>2010-01-08</th>\n",
       "      <td>41.060001</td>\n",
       "      <td>41.160000</td>\n",
       "      <td>40.770000</td>\n",
       "      <td>41.099998</td>\n",
       "      <td>2952100</td>\n",
       "      <td>28.351730</td>\n",
       "    </tr>\n",
       "  </tbody>\n",
       "</table>\n",
       "</div>"
      ],
      "text/plain": [
       "                 Open       High        Low      Close   Volume  Adj Close\n",
       "Date                                                                      \n",
       "2010-01-04  43.080002  43.130001  42.889999  42.970001  1046500  29.641702\n",
       "2010-01-05  41.990002  42.080002  41.619999  41.830002  1619800  28.855304\n",
       "2010-01-06  41.560001  41.700001  41.290001  41.340000  1850100  28.517289\n",
       "2010-01-07  41.400002  41.549999  41.020000  41.480000  1762500  28.613864\n",
       "2010-01-08  41.060001  41.160000  40.770000  41.099998  2952100  28.351730"
      ]
     },
     "execution_count": 12,
     "metadata": {},
     "output_type": "execute_result"
    }
   ],
   "source": [
    "gsk.head()"
   ]
  },
  {
   "cell_type": "code",
   "execution_count": 14,
   "metadata": {
    "collapsed": false,
    "slideshow": {
     "slide_type": "subslide"
    }
   },
   "outputs": [
    {
     "data": {
      "text/html": [
       "<div>\n",
       "<table border=\"1\" class=\"dataframe\">\n",
       "  <thead>\n",
       "    <tr style=\"text-align: right;\">\n",
       "      <th></th>\n",
       "      <th>Open</th>\n",
       "      <th>High</th>\n",
       "      <th>Low</th>\n",
       "      <th>Close</th>\n",
       "      <th>Volume</th>\n",
       "      <th>Adj Close</th>\n",
       "    </tr>\n",
       "    <tr>\n",
       "      <th>Date</th>\n",
       "      <th></th>\n",
       "      <th></th>\n",
       "      <th></th>\n",
       "      <th></th>\n",
       "      <th></th>\n",
       "      <th></th>\n",
       "    </tr>\n",
       "  </thead>\n",
       "  <tbody>\n",
       "    <tr>\n",
       "      <th>2013-01-18</th>\n",
       "      <td>44.029999</td>\n",
       "      <td>44.080002</td>\n",
       "      <td>43.750000</td>\n",
       "      <td>43.939999</td>\n",
       "      <td>1646900</td>\n",
       "      <td>35.581902</td>\n",
       "    </tr>\n",
       "    <tr>\n",
       "      <th>2013-01-22</th>\n",
       "      <td>44.810001</td>\n",
       "      <td>44.849998</td>\n",
       "      <td>44.439999</td>\n",
       "      <td>44.750000</td>\n",
       "      <td>4561000</td>\n",
       "      <td>36.237828</td>\n",
       "    </tr>\n",
       "    <tr>\n",
       "      <th>2013-01-23</th>\n",
       "      <td>44.910000</td>\n",
       "      <td>44.970001</td>\n",
       "      <td>44.689999</td>\n",
       "      <td>44.830002</td>\n",
       "      <td>2157600</td>\n",
       "      <td>36.302613</td>\n",
       "    </tr>\n",
       "    <tr>\n",
       "      <th>2013-01-24</th>\n",
       "      <td>44.880001</td>\n",
       "      <td>45.000000</td>\n",
       "      <td>44.790001</td>\n",
       "      <td>44.830002</td>\n",
       "      <td>2746300</td>\n",
       "      <td>36.302613</td>\n",
       "    </tr>\n",
       "    <tr>\n",
       "      <th>2013-01-25</th>\n",
       "      <td>44.980000</td>\n",
       "      <td>45.000000</td>\n",
       "      <td>44.590000</td>\n",
       "      <td>44.770000</td>\n",
       "      <td>2165100</td>\n",
       "      <td>36.254024</td>\n",
       "    </tr>\n",
       "  </tbody>\n",
       "</table>\n",
       "</div>"
      ],
      "text/plain": [
       "                 Open       High        Low      Close   Volume  Adj Close\n",
       "Date                                                                      \n",
       "2013-01-18  44.029999  44.080002  43.750000  43.939999  1646900  35.581902\n",
       "2013-01-22  44.810001  44.849998  44.439999  44.750000  4561000  36.237828\n",
       "2013-01-23  44.910000  44.970001  44.689999  44.830002  2157600  36.302613\n",
       "2013-01-24  44.880001  45.000000  44.790001  44.830002  2746300  36.302613\n",
       "2013-01-25  44.980000  45.000000  44.590000  44.770000  2165100  36.254024"
      ]
     },
     "execution_count": 14,
     "metadata": {},
     "output_type": "execute_result"
    }
   ],
   "source": [
    "gsk.tail()"
   ]
  },
  {
   "cell_type": "code",
   "execution_count": 31,
   "metadata": {
    "collapsed": false,
    "slideshow": {
     "slide_type": "subslide"
    }
   },
   "outputs": [
    {
     "data": {
      "image/png": "[encoded data removed]",
      "text/plain": [
       "<matplotlib.figure.Figure at 0x7f7de0573f98>"
      ]
     },
     "metadata": {},
     "output_type": "display_data"
    }
   ],
   "source": [
    "## Volume as a time series\n",
    "%matplotlib inline\n",
    "ax = gsk['Volume'].plot()"
   ]
  },
  {
   "cell_type": "markdown",
   "metadata": {
    "slideshow": {
     "slide_type": "subslide"
    }
   },
   "source": [
    "## Adjusted closing prices as a time series"
   ]
  },
  {
   "cell_type": "code",
   "execution_count": 9,
   "metadata": {
    "collapsed": false,
    "slideshow": {
     "slide_type": "-"
    }
   },
   "outputs": [
    {
     "data": {
      "text/plain": [
       "<matplotlib.axes._subplots.AxesSubplot at 0x7fcc6eb86a58>"
      ]
     },
     "execution_count": 9,
     "metadata": {},
     "output_type": "execute_result"
    },
    {
     "data": {
      "image/png": "[encoded data removed]",
      "text/plain": [
       "<matplotlib.figure.Figure at 0x7fcc714a30b8>"
      ]
     },
     "metadata": {},
     "output_type": "display_data"
    }
   ],
   "source": [
    "gsk['Adj Close'].plot()"
   ]
  },
  {
   "cell_type": "code",
   "execution_count": 27,
   "metadata": {
    "collapsed": false,
    "slideshow": {
     "slide_type": "subslide"
    }
   },
   "outputs": [
    {
     "data": {
      "text/plain": [
       "Date\n",
       "2011-01-03    28.548125\n",
       "2011-01-04    28.991803\n",
       "2011-01-05    28.322648\n",
       "2011-01-06    28.402656\n",
       "2011-01-07    28.199002\n",
       "2011-01-10    28.199002\n",
       "2011-01-11    28.075352\n",
       "2011-01-12    28.388109\n",
       "2011-01-13    28.279009\n",
       "2011-01-14    28.497211\n",
       "2011-01-18    27.769870\n",
       "2011-01-19    27.646221\n",
       "2011-01-20    26.947975\n",
       "2011-01-21    27.166176\n",
       "2011-01-24    27.529847\n",
       "2011-01-25    27.173451\n",
       "2011-01-26    27.275278\n",
       "2011-01-27    27.246184\n",
       "2011-01-28    26.475205\n",
       "2011-01-31    26.424291\n",
       "2011-02-01    27.195270\n",
       "2011-02-02    26.897061\n",
       "2011-02-03    27.646221\n",
       "2011-02-04    27.646221\n",
       "2011-02-07    28.460845\n",
       "2011-02-08    28.359017\n",
       "2011-02-09    28.274030\n",
       "2011-02-10    28.177963\n",
       "2011-02-11    27.897143\n",
       "2011-02-14    28.259253\n",
       "                ...    \n",
       "2012-11-16    33.994727\n",
       "2012-11-19    34.326738\n",
       "2012-11-20    34.351031\n",
       "2012-11-21    34.464403\n",
       "2012-11-23    34.958368\n",
       "2012-11-26    34.602065\n",
       "2012-11-27    34.602065\n",
       "2012-11-28    34.804511\n",
       "2012-11-29    35.144621\n",
       "2012-11-30    34.828803\n",
       "2012-12-03    35.063641\n",
       "2012-12-04    35.306576\n",
       "2012-12-05    35.241795\n",
       "2012-12-06    35.193207\n",
       "2012-12-07    35.079837\n",
       "2012-12-10    35.606198\n",
       "2012-12-11    35.930110\n",
       "2012-12-12    35.800544\n",
       "2012-12-13    35.581902\n",
       "2012-12-14    35.727664\n",
       "2012-12-17    35.727664\n",
       "2012-12-18    35.735763\n",
       "2012-12-19    35.484729\n",
       "2012-12-20    35.630491\n",
       "2012-12-21    35.347067\n",
       "2012-12-24    35.347067\n",
       "2012-12-26    35.201306\n",
       "2012-12-27    35.209403\n",
       "2012-12-28    35.006957\n",
       "2012-12-31    35.201306\n",
       "Name: Adj Close, dtype: float64"
      ]
     },
     "execution_count": 27,
     "metadata": {},
     "output_type": "execute_result"
    }
   ],
   "source": [
    "## We can slice a range of dates\n",
    "gsk['Adj Close']['1-1-2011':'1-1-2013']"
   ]
  },
  {
   "cell_type": "code",
   "execution_count": 54,
   "metadata": {
    "collapsed": false,
    "slideshow": {
     "slide_type": "-"
    }
   },
   "outputs": [
    {
     "data": {
      "text/plain": [
       "<matplotlib.axes._subplots.AxesSubplot at 0x7f8ecc7a4450>"
      ]
     },
     "execution_count": 54,
     "metadata": {},
     "output_type": "execute_result"
    },
    {
     "data": {
      "image/png": "[encoded data removed]",
      "text/plain": [
       "<matplotlib.figure.Figure at 0x7f8ecc729350>"
      ]
     },
     "metadata": {},
     "output_type": "display_data"
    }
   ],
   "source": [
    "gsk['Adj Close']['1-1-2011':'1-1-2013'].plot()"
   ]
  },
  {
   "cell_type": "markdown",
   "metadata": {
    "slideshow": {
     "slide_type": "subslide"
    }
   },
   "source": [
    "- We can *resample* to obtain weekly prices"
   ]
  },
  {
   "cell_type": "code",
   "execution_count": 55,
   "metadata": {
    "collapsed": false,
    "slideshow": {
     "slide_type": "-"
    }
   },
   "outputs": [
    {
     "data": {
      "text/plain": [
       "<matplotlib.axes._subplots.AxesSubplot at 0x7f8ed10c8a90>"
      ]
     },
     "execution_count": 55,
     "metadata": {},
     "output_type": "execute_result"
    },
    {
     "data": {
      "image/png": "[encoded data removed]",
      "text/plain": [
       "<matplotlib.figure.Figure at 0x7f8ecc70ce10>"
      ]
     },
     "metadata": {},
     "output_type": "display_data"
    }
   ],
   "source": [
    "weekly_prices = gsk['Adj Close'].resample('1w')\n",
    "weekly_prices.plot()"
   ]
  },
  {
   "cell_type": "code",
   "execution_count": 56,
   "metadata": {
    "collapsed": false,
    "slideshow": {
     "slide_type": "subslide"
    }
   },
   "outputs": [
    {
     "data": {
      "text/plain": [
       "[<matplotlib.lines.Line2D at 0x7f8ec4a14f90>]"
      ]
     },
     "execution_count": 56,
     "metadata": {},
     "output_type": "execute_result"
    },
    {
     "data": {
      "image/png": "[encoded data removed]",
      "text/plain": [
       "<matplotlib.figure.Figure at 0x7f8ec5ac4390>"
      ]
     },
     "metadata": {},
     "output_type": "display_data"
    }
   ],
   "source": [
    "import matplotlib.pyplot as plt\n",
    "weekly_rets = np.diff(np.log(weekly_prices))\n",
    "plt.plot(weekly_rets)"
   ]
  },
  {
   "cell_type": "code",
   "execution_count": 57,
   "metadata": {
    "collapsed": false,
    "slideshow": {
     "slide_type": "subslide"
    }
   },
   "outputs": [
    {
     "data": {
      "image/png": "[encoded data removed]",
      "text/plain": [
       "<matplotlib.figure.Figure at 0x7f8ecd3cde90>"
      ]
     },
     "metadata": {},
     "output_type": "display_data"
    }
   ],
   "source": [
    "ax = plt.hist(weekly_rets)"
   ]
  },
  {
   "cell_type": "markdown",
   "metadata": {
    "collapsed": true,
    "slideshow": {
     "slide_type": "subslide"
    }
   },
   "source": [
    "## Loading Files with Pandas\n",
    "- We used Pandas in an earlier notebook to load the iris data file.  \n",
    "- Whenver you have a dataset with a variety of fields of various types, loading it into Pandas is a good strategy.\n",
    "- You can load data from Azure, from a local file, or from a url.  \n",
    "\n",
    "\n",
    "\n",
    "\n",
    "\n"
   ]
  },
  {
   "cell_type": "code",
   "execution_count": 37,
   "metadata": {
    "collapsed": false,
    "slideshow": {
     "slide_type": "subslide"
    }
   },
   "outputs": [
    {
     "name": "stdout",
     "output_type": "stream",
     "text": [
      "Requirement already satisfied (use --upgrade to upgrade): azureml in /opt/conda/lib/python3.5/site-packages\n",
      "Requirement already satisfied (use --upgrade to upgrade): python-dateutil in /opt/conda/lib/python3.5/site-packages (from azureml)\n",
      "Requirement already satisfied (use --upgrade to upgrade): pandas in /opt/conda/lib/python3.5/site-packages (from azureml)\n",
      "Requirement already satisfied (use --upgrade to upgrade): requests in /opt/conda/lib/python3.5/site-packages (from azureml)\n",
      "Requirement already satisfied (use --upgrade to upgrade): six>=1.5 in /opt/conda/lib/python3.5/site-packages (from python-dateutil->azureml)\n",
      "Requirement already satisfied (use --upgrade to upgrade): pytz>=2011k in /opt/conda/lib/python3.5/site-packages (from pandas->azureml)\n",
      "Requirement already satisfied (use --upgrade to upgrade): numpy>=1.7.0 in /opt/conda/lib/python3.5/site-packages (from pandas->azureml)\n"
     ]
    }
   ],
   "source": [
    "#If runing locally.\n",
    "!pip install azureml"
   ]
  },
  {
   "cell_type": "code",
   "execution_count": 47,
   "metadata": {
    "collapsed": false,
    "slideshow": {
     "slide_type": "subslide"
    }
   },
   "outputs": [
    {
     "data": {
      "text/html": [
       "<div>\n",
       "<table border=\"1\" class=\"dataframe\">\n",
       "  <thead>\n",
       "    <tr style=\"text-align: right;\">\n",
       "      <th></th>\n",
       "      <th>sepalLength</th>\n",
       "      <th>sepalWidth</th>\n",
       "      <th>petalLength</th>\n",
       "      <th>petalWidth</th>\n",
       "      <th>species</th>\n",
       "    </tr>\n",
       "  </thead>\n",
       "  <tbody>\n",
       "    <tr>\n",
       "      <th>0</th>\n",
       "      <td>5.1</td>\n",
       "      <td>3.5</td>\n",
       "      <td>1.4</td>\n",
       "      <td>0.2</td>\n",
       "      <td>setosa</td>\n",
       "    </tr>\n",
       "    <tr>\n",
       "      <th>1</th>\n",
       "      <td>4.9</td>\n",
       "      <td>3.0</td>\n",
       "      <td>1.4</td>\n",
       "      <td>0.2</td>\n",
       "      <td>setosa</td>\n",
       "    </tr>\n",
       "    <tr>\n",
       "      <th>2</th>\n",
       "      <td>4.7</td>\n",
       "      <td>3.2</td>\n",
       "      <td>1.3</td>\n",
       "      <td>0.2</td>\n",
       "      <td>setosa</td>\n",
       "    </tr>\n",
       "    <tr>\n",
       "      <th>3</th>\n",
       "      <td>4.6</td>\n",
       "      <td>3.1</td>\n",
       "      <td>1.5</td>\n",
       "      <td>0.2</td>\n",
       "      <td>setosa</td>\n",
       "    </tr>\n",
       "    <tr>\n",
       "      <th>4</th>\n",
       "      <td>5.0</td>\n",
       "      <td>3.6</td>\n",
       "      <td>1.4</td>\n",
       "      <td>0.2</td>\n",
       "      <td>setosa</td>\n",
       "    </tr>\n",
       "  </tbody>\n",
       "</table>\n",
       "</div>"
      ],
      "text/plain": [
       "   sepalLength  sepalWidth  petalLength  petalWidth species\n",
       "0          5.1         3.5          1.4         0.2  setosa\n",
       "1          4.9         3.0          1.4         0.2  setosa\n",
       "2          4.7         3.2          1.3         0.2  setosa\n",
       "3          4.6         3.1          1.5         0.2  setosa\n",
       "4          5.0         3.6          1.4         0.2  setosa"
      ]
     },
     "execution_count": 47,
     "metadata": {},
     "output_type": "execute_result"
    }
   ],
   "source": [
    "#If running this locally, one can fill in the workspace ID and token.\n",
    "azureid='7b4c0c2835dd4ff8b734e4a562d4f7d0'\n",
    "azuretoken='fa47cacf0890431682dd635450b734ca'\n",
    "  \n",
    "from azureml import Workspace\n",
    "ws = Workspace(\n",
    "    workspace_id=azureid,\n",
    "    authorization_token=azuretoken,\n",
    "    endpoint='https://studioapi.azureml.net'\n",
    ")\n",
    "ds = ws.datasets['Iris.csv']\n",
    "frame = ds.to_dataframe()\n",
    "frame.head()"
   ]
  },
  {
   "cell_type": "code",
   "execution_count": 45,
   "metadata": {
    "collapsed": false,
    "slideshow": {
     "slide_type": "subslide"
    }
   },
   "outputs": [
    {
     "data": {
      "text/html": [
       "<div>\n",
       "<table border=\"1\" class=\"dataframe\">\n",
       "  <thead>\n",
       "    <tr style=\"text-align: right;\">\n",
       "      <th></th>\n",
       "      <th>sepalLength</th>\n",
       "      <th>sepalWidth</th>\n",
       "      <th>petalLength</th>\n",
       "      <th>petalWidth</th>\n",
       "      <th>species</th>\n",
       "    </tr>\n",
       "  </thead>\n",
       "  <tbody>\n",
       "    <tr>\n",
       "      <th>0</th>\n",
       "      <td>5.1</td>\n",
       "      <td>3.5</td>\n",
       "      <td>1.4</td>\n",
       "      <td>0.2</td>\n",
       "      <td>setosa</td>\n",
       "    </tr>\n",
       "    <tr>\n",
       "      <th>1</th>\n",
       "      <td>4.9</td>\n",
       "      <td>3.0</td>\n",
       "      <td>1.4</td>\n",
       "      <td>0.2</td>\n",
       "      <td>setosa</td>\n",
       "    </tr>\n",
       "    <tr>\n",
       "      <th>2</th>\n",
       "      <td>4.7</td>\n",
       "      <td>3.2</td>\n",
       "      <td>1.3</td>\n",
       "      <td>0.2</td>\n",
       "      <td>setosa</td>\n",
       "    </tr>\n",
       "    <tr>\n",
       "      <th>3</th>\n",
       "      <td>4.6</td>\n",
       "      <td>3.1</td>\n",
       "      <td>1.5</td>\n",
       "      <td>0.2</td>\n",
       "      <td>setosa</td>\n",
       "    </tr>\n",
       "    <tr>\n",
       "      <th>4</th>\n",
       "      <td>5.0</td>\n",
       "      <td>3.6</td>\n",
       "      <td>1.4</td>\n",
       "      <td>0.2</td>\n",
       "      <td>setosa</td>\n",
       "    </tr>\n",
       "  </tbody>\n",
       "</table>\n",
       "</div>"
      ],
      "text/plain": [
       "   sepalLength  sepalWidth  petalLength  petalWidth species\n",
       "0          5.1         3.5          1.4         0.2  setosa\n",
       "1          4.9         3.0          1.4         0.2  setosa\n",
       "2          4.7         3.2          1.3         0.2  setosa\n",
       "3          4.6         3.1          1.5         0.2  setosa\n",
       "4          5.0         3.6          1.4         0.2  setosa"
      ]
     },
     "execution_count": 45,
     "metadata": {},
     "output_type": "execute_result"
    }
   ],
   "source": [
    "# Pulling from a local file\n",
    "frame2 = pd.read_csv('../../data/iris.csv')\n",
    "frame2.head()"
   ]
  },
  {
   "cell_type": "code",
   "execution_count": 46,
   "metadata": {
    "collapsed": false,
    "slideshow": {
     "slide_type": "subslide"
    }
   },
   "outputs": [
    {
     "data": {
      "text/html": [
       "<div>\n",
       "<table border=\"1\" class=\"dataframe\">\n",
       "  <thead>\n",
       "    <tr style=\"text-align: right;\">\n",
       "      <th></th>\n",
       "      <th>sepalLength</th>\n",
       "      <th>sepalWidth</th>\n",
       "      <th>petalLength</th>\n",
       "      <th>petalWidth</th>\n",
       "      <th>species</th>\n",
       "    </tr>\n",
       "  </thead>\n",
       "  <tbody>\n",
       "    <tr>\n",
       "      <th>0</th>\n",
       "      <td>5.1</td>\n",
       "      <td>3.5</td>\n",
       "      <td>1.4</td>\n",
       "      <td>0.2</td>\n",
       "      <td>setosa</td>\n",
       "    </tr>\n",
       "    <tr>\n",
       "      <th>1</th>\n",
       "      <td>4.9</td>\n",
       "      <td>3.0</td>\n",
       "      <td>1.4</td>\n",
       "      <td>0.2</td>\n",
       "      <td>setosa</td>\n",
       "    </tr>\n",
       "    <tr>\n",
       "      <th>2</th>\n",
       "      <td>4.7</td>\n",
       "      <td>3.2</td>\n",
       "      <td>1.3</td>\n",
       "      <td>0.2</td>\n",
       "      <td>setosa</td>\n",
       "    </tr>\n",
       "    <tr>\n",
       "      <th>3</th>\n",
       "      <td>4.6</td>\n",
       "      <td>3.1</td>\n",
       "      <td>1.5</td>\n",
       "      <td>0.2</td>\n",
       "      <td>setosa</td>\n",
       "    </tr>\n",
       "    <tr>\n",
       "      <th>4</th>\n",
       "      <td>5.0</td>\n",
       "      <td>3.6</td>\n",
       "      <td>1.4</td>\n",
       "      <td>0.2</td>\n",
       "      <td>setosa</td>\n",
       "    </tr>\n",
       "  </tbody>\n",
       "</table>\n",
       "</div>"
      ],
      "text/plain": [
       "   sepalLength  sepalWidth  petalLength  petalWidth species\n",
       "0          5.1         3.5          1.4         0.2  setosa\n",
       "1          4.9         3.0          1.4         0.2  setosa\n",
       "2          4.7         3.2          1.3         0.2  setosa\n",
       "3          4.6         3.1          1.5         0.2  setosa\n",
       "4          5.0         3.6          1.4         0.2  setosa"
      ]
     },
     "execution_count": 46,
     "metadata": {},
     "output_type": "execute_result"
    }
   ],
   "source": [
    "# Pulling from a url.  Notice that this is the raw version of the file.\n",
    "frame3 = pd.read_csv(\"https://raw.githubusercontent.com/AnalyticsDojo/materials/master/analyticsdojo/data/Iris.csv\")\n",
    "frame3.head()\n"
   ]
  },
  {
   "cell_type": "markdown",
   "metadata": {
    "slideshow": {
     "slide_type": "subslide"
    }
   },
   "source": [
    "## Exercise-Pandas\n",
    "1. Using, the Iris dataset, find the mean of the sepalLength and assign it to the `sepalLengthMean` variable using the dataframe returned from the describe command.   \n",
    "2. Create a new dataframe `iristrain` that includes the first 75 rows of the iris dataframe.\n",
    "3. Create a new dataframe `iristest` that includes the last 75 rows of the iris dataframe.\n",
    "4. Create a new series `sepalLength` from the `sepalLength` column of the iris dataframe. "
   ]
  },
  {
   "cell_type": "markdown",
   "metadata": {
    "slideshow": {
     "slide_type": "slide"
    }
   },
   "source": [
    "## CREDITS\n",
    "\n",
    "#### Large sections of this were adopted from Analysing structured data with Pandas by [Steve Phelps](http://sphelps.net).  Thanks Steve!\n",
    "\n",
    "\n",
    "Copyright [AnalyticsDojo](http://www.analyticsdojo.com) 2016\n",
    "This work is licensed under the [Creative Commons Attribution 4.0 International](https://creativecommons.org/licenses/by/4.0/) license agreement.\n",
    "\n"
   ]
  }
 ],
 "metadata": {
  "celltoolbar": "Slideshow",
  "kernelspec": {
   "display_name": "Python 3",
   "language": "python",
   "name": "python3"
  },
  "language_info": {
   "codemirror_mode": {
    "name": "ipython",
    "version": 3
   },
   "file_extension": ".py",
   "mimetype": "text/x-python",
   "name": "python",
   "nbconvert_exporter": "python",
   "pygments_lexer": "ipython3",
   "version": "3.5.2"
  }
 },
 "nbformat": 4,
 "nbformat_minor": 0
}
