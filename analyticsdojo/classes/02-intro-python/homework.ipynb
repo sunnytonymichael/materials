{
 "cells": [
  {
   "cell_type": "markdown",
   "metadata": {},
   "source": [
    "## Exercise-Packages\n",
    "\n",
    "This creates an Numpy array. Numpy is a common package that we will use to work with arrays. You can read more about Numpy [here](http://www.numpy.org/). \n",
    "\n",
    "`a = numpy.array([2,3,4])\n",
    "print(a)`\n",
    "\n",
    "To get this to work, you will have to import the Numpy package.  \n",
    "\n",
    "### Overview\n",
    "1. Verify that Numpy is installed. How did you know?  How would you install it if it wasn't installed? \n",
    "2. Provide the code to import numpy so that the code below works.  \n",
    "3. Import numpy as np and create an array with values 5,6,7,8."
   ]
  },
  {
   "cell_type": "markdown",
   "metadata": {},
   "source": [
    "## Exercise-Operations on Variables\n",
    "\n",
    "1. What happens when you multiply a number times a boolean? What is the resulting type? \n",
    "2. What happens when you try to multiply an integer value times a null?\n",
    "3. Take 5 to the power of 4 using an embeded function. "
   ]
  },
  {
   "cell_type": "code",
   "execution_count": null,
   "metadata": {
    "collapsed": true
   },
   "outputs": [],
   "source": []
  }
 ],
 "metadata": {
  "kernelspec": {
   "display_name": "Python 3",
   "language": "python",
   "name": "python3"
  },
  "language_info": {
   "codemirror_mode": {
    "name": "ipython",
    "version": 3
   },
   "file_extension": ".py",
   "mimetype": "text/x-python",
   "name": "python",
   "nbconvert_exporter": "python",
   "pygments_lexer": "ipython3",
   "version": "3.5.2"
  }
 },
 "nbformat": 4,
 "nbformat_minor": 0
}
