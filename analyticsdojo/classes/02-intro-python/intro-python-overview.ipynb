{
 "cells": [
  {
   "cell_type": "markdown",
   "metadata": {
    "slideshow": {
     "slide_type": "slide"
    }
   },
   "source": [
    "[![AnalyticsDojo](https://s3.amazonaws.com/analyticsdojo/logo/final-logo.png)](http://www.analyticsdojo.com)\n",
    "<center><h1>Introduction to Python - Overview and Packages</h1></center>\n",
    "<center><h3><a href = 'http://www.analyticsdojo.com'>www.analyticsdojo.com</a></h3></center>\n",
    "\n"
   ]
  },
  {
   "cell_type": "markdown",
   "metadata": {
    "slideshow": {
     "slide_type": "subslide"
    }
   },
   "source": [
    "### Links: [local](http://localhost:8888/notebooks/classes/02-intro-python/intro-python-overview.ipynb) [github](https://github.com/AnalyticsDojo/materials/blob/master/analyticsdojo/classes/02-intro-python/intro-python-overview.ipynb) [slides](http://nbviewer.jupyter.org/format/slides/github/AnalyticsDojo/materials/blob/master/analyticsdojo/classes/02-intro-python/intro-python-overview.ipynb#/)"
   ]
  },
  {
   "cell_type": "code",
   "execution_count": 2,
   "metadata": {
    "collapsed": false,
    "slideshow": {
     "slide_type": "skip"
    }
   },
   "outputs": [
    {
     "name": "stdout",
     "output_type": "stream",
     "text": [
      "Requirement already satisfied (use --upgrade to upgrade): ipython_unittest in /opt/conda/lib/python3.5/site-packages\r\n"
     ]
    }
   ],
   "source": [
    "#Run this once to execute exercise tests.\n",
    "!pip install ipython_unittest\n",
    "%load_ext ipython_unittest"
   ]
  },
  {
   "cell_type": "markdown",
   "metadata": {
    "slideshow": {
     "slide_type": "subslide"
    }
   },
   "source": [
    "## Overview\n",
    "- Language Features  \n",
    "- Python and Jupyter\n",
    "- Jupyter and Markdown\n",
    "- Python 2 vs Python 3\n",
    "- Python and Packages"
   ]
  },
  {
   "cell_type": "markdown",
   "metadata": {
    "slideshow": {
     "slide_type": "subslide"
    }
   },
   "source": [
    "## Python Features\n",
    "- Python has many of the same features of most programming languages.\n",
    "- Python is object oriented. \n",
    "- Python has buit in data types and functions that are included directly.\n",
    "- Python has an extensive ecosystem of packages (including ones for data science) available to extend the language to include new data types and functions."
   ]
  },
  {
   "cell_type": "markdown",
   "metadata": {
    "slideshow": {
     "slide_type": "subslide"
    }
   },
   "source": [
    "## Python is Interpreted\n",
    "- Python is an interpreted language, in contrast to Java and C which are compiled languages.\n",
    "- This means we can type statements into the interpreter and they are executed immediately. This works well for data analytics because we can build things step by step.\n",
    "\n"
   ]
  },
  {
   "cell_type": "markdown",
   "metadata": {
    "slideshow": {
     "slide_type": "subslide"
    }
   },
   "source": [
    "## Python and Jupyter\n",
    "- Python commands can be executed in a Jupyter Notebook just by play at the end of a cell.\n",
    "- Blocks of cells or even the entire notebook can be executed by clicking on the *Cell* above.\n",
    "- The Kernal is responsible for interpreting the code, and the current kernal is listed on the top right of the notebook. \n",
    "- While Jupyter started as a Python project, there are now a variety of Kernals for different programming languages including R, Scala, and SAS. \n",
    "- Read more about Jupyter in the documentation [here](http://jupyter.readthedocs.io/en/latest/).\n",
    "- If a variable isn't assigned it will be provided as output. "
   ]
  },
  {
   "cell_type": "code",
   "execution_count": 1,
   "metadata": {
    "collapsed": false
   },
   "outputs": [
    {
     "data": {
      "text/plain": [
       "10"
      ]
     },
     "execution_count": 1,
     "metadata": {},
     "output_type": "execute_result"
    }
   ],
   "source": [
    "#Sum provided as output. \n",
    "5+5 "
   ]
  },
  {
   "cell_type": "code",
   "execution_count": 2,
   "metadata": {
    "collapsed": true
   },
   "outputs": [],
   "source": [
    "#No output is provided when assigning a variable.\n",
    "g=5+5"
   ]
  },
  {
   "cell_type": "code",
   "execution_count": 3,
   "metadata": {
    "collapsed": false
   },
   "outputs": [
    {
     "data": {
      "text/plain": [
       "10"
      ]
     },
     "execution_count": 3,
     "metadata": {},
     "output_type": "execute_result"
    }
   ],
   "source": [
    "#Just listing a variable will cause it to be provided as output.\n",
    "g"
   ]
  },
  {
   "cell_type": "markdown",
   "metadata": {
    "slideshow": {
     "slide_type": "subslide"
    }
   },
   "source": [
    "## Jupyter and Markdown\n",
    "- Jupyter notebooks are a great way of documenting your analytics projects. \n",
    "- Select *Cell->Cell Type->Markdown* to create a *Markdown* Cell.  \n",
    "- Check out this [Markdown Cheatsheet](https://github.com/adam-p/markdown-here/wiki/Markdown-Cheatsheet).\n",
    "- Within code cells, you can comment by starting lines with `#`."
   ]
  },
  {
   "cell_type": "code",
   "execution_count": 2,
   "metadata": {
    "collapsed": false
   },
   "outputs": [
    {
     "data": {
      "text/plain": [
       "10"
      ]
     },
     "execution_count": 2,
     "metadata": {},
     "output_type": "execute_result"
    }
   ],
   "source": [
    "#This is a Python Comment and won't generate output. \n",
    "5+5 "
   ]
  },
  {
   "cell_type": "markdown",
   "metadata": {
    "slideshow": {
     "slide_type": "subslide"
    }
   },
   "source": [
    "## Python 2 vs Python 3\n",
    "- Python went through some *breaking changes* when moving from Python 2 to Python 3, and it still causes difficulty in the community. \n",
    "- While we were stuck in Python 2 for a long time, Python 3 is increasingly.\n",
    "- We will be basing our learning on Python 3.X.\n",
    "- You can easily select the Python 2 kernal if you have to use it for a particular project. \n",
    "- You can view differences between Python 2 and Python 3 [here](http://sebastianraschka.com/Articles/2014_python_2_3_key_diff.html)."
   ]
  },
  {
   "cell_type": "code",
   "execution_count": 1,
   "metadata": {
    "collapsed": false,
    "slideshow": {
     "slide_type": "-"
    }
   },
   "outputs": [
    {
     "ename": "SyntaxError",
     "evalue": "Missing parentheses in call to 'print' (<ipython-input-1-c201215eb21c>, line 2)",
     "output_type": "error",
     "traceback": [
      "\u001b[0;36m  File \u001b[0;32m\"<ipython-input-1-c201215eb21c>\"\u001b[0;36m, line \u001b[0;32m2\u001b[0m\n\u001b[0;31m    print 'Hello, World!'\u001b[0m\n\u001b[0m                        ^\u001b[0m\n\u001b[0;31mSyntaxError\u001b[0m\u001b[0;31m:\u001b[0m Missing parentheses in call to 'print'\n"
     ]
    }
   ],
   "source": [
    "# This Works with Python 2 but not Python 3 kernal. Change the Kernal to confirm.\n",
    "print 'Hello, World!'"
   ]
  },
  {
   "cell_type": "code",
   "execution_count": 2,
   "metadata": {
    "collapsed": false
   },
   "outputs": [
    {
     "name": "stdout",
     "output_type": "stream",
     "text": [
      "Hello, World!\n"
     ]
    }
   ],
   "source": [
    "# This Works with Python 2 and Python 3 kernal. \n",
    "print ('Hello, World!')"
   ]
  },
  {
   "cell_type": "markdown",
   "metadata": {
    "slideshow": {
     "slide_type": "subslide"
    }
   },
   "source": [
    "## Python and Packages\n",
    "- There are a tremendous number of packages available which extend the core capabilities of the Python language.\n",
    "- The PyPI - the Python Package Index [https://pypi.python.org](https://pypi.python.org) provides search listing of all packages.\n",
    "- It is possible that packages could be avaialble for Python 2 but not Python 3 (or vice versa).\n",
    "- pip is the package management system used to install and manage Python packages.  "
   ]
  },
  {
   "cell_type": "markdown",
   "metadata": {
    "slideshow": {
     "slide_type": "subslide"
    }
   },
   "source": [
    "## Python and Installing Packages \n",
    "- pip is the package management system used to install and manage Python packages.\n",
    "- pip must be run on the terminal. \n",
    "- Two options for accessing shell of Docker container \n",
    "- (1) From a notebook:\n",
    "\n",
    "`!pip install matplotlib`\n",
    "- (2) Select *New->Terminal* from main Jupyter screeen.\n",
    "- (3) From the OS shell when using Docker:\n",
    "\n",
    "`docker exec -it analyticsdojo bash\n",
    "pip install matplotlib` \n",
    "    "
   ]
  },
  {
   "cell_type": "code",
   "execution_count": 6,
   "metadata": {
    "collapsed": false
   },
   "outputs": [
    {
     "name": "stdout",
     "output_type": "stream",
     "text": [
      "Requirement already satisfied (use --upgrade to upgrade): matplotlib in /opt/conda/lib/python3.5/site-packages\r\n",
      "Requirement already satisfied (use --upgrade to upgrade): numpy>=1.6 in /opt/conda/lib/python3.5/site-packages (from matplotlib)\r\n",
      "Requirement already satisfied (use --upgrade to upgrade): python-dateutil in /opt/conda/lib/python3.5/site-packages (from matplotlib)\r\n",
      "Requirement already satisfied (use --upgrade to upgrade): pytz in /opt/conda/lib/python3.5/site-packages (from matplotlib)\r\n",
      "Requirement already satisfied (use --upgrade to upgrade): cycler in /opt/conda/lib/python3.5/site-packages/cycler-0.10.0-py3.5.egg (from matplotlib)\r\n",
      "Requirement already satisfied (use --upgrade to upgrade): pyparsing!=2.0.4,>=1.5.6 in /opt/conda/lib/python3.5/site-packages (from matplotlib)\r\n",
      "Requirement already satisfied (use --upgrade to upgrade): six>=1.5 in /opt/conda/lib/python3.5/site-packages (from python-dateutil->matplotlib)\r\n"
     ]
    }
   ],
   "source": [
    "#This will install the package matplotlib\n",
    "!pip install matplotlib"
   ]
  },
  {
   "cell_type": "markdown",
   "metadata": {
    "slideshow": {
     "slide_type": "subslide"
    }
   },
   "source": [
    "## Python and Using Packages \n",
    "- Python packages must be imported before using. \n",
    "- Python packages are organized as modules, and you can import the entire package or just the submodule that you need.\n",
    "- Packages only have to be imported once in a notebook (not in every cell). \n",
    "- Multipled ways of importing all or specific modules (that impact how you call methods)\n",
    "- (1) Import all of the package `import matplotlib`\n",
    "- (2) Import a module `import matplotlib.pyplot` or `from matplotlib import pyplot`\n",
    "- (3) Import all of some of package with abbreviation  `import matplotlib.pyplot as plt`"
   ]
  },
  {
   "cell_type": "code",
   "execution_count": 11,
   "metadata": {
    "collapsed": false
   },
   "outputs": [
    {
     "data": {
      "image/png": "[encoded data removed]",
      "text/plain": [
       "<matplotlib.figure.Figure at 0x7efc6d3d18d0>"
      ]
     },
     "metadata": {},
     "output_type": "display_data"
    }
   ],
   "source": [
    "#This will import the pyplot module of the matplotlab package. \n",
    "import matplotlib.pyplot\n",
    "#Observe how we are calling the plot method within the pyplot module. \n",
    "pyplot.plot([1,2,3,4])\n",
    "pyplot.ylabel('Sample numbers')\n",
    "pyplot.show()"
   ]
  },
  {
   "cell_type": "code",
   "execution_count": 7,
   "metadata": {
    "collapsed": false,
    "slideshow": {
     "slide_type": "subslide"
    }
   },
   "outputs": [
    {
     "data": {
      "image/png": "[encoded data removed]",
      "text/plain": [
       "<matplotlib.figure.Figure at 0x7efc6caa16a0>"
      ]
     },
     "metadata": {},
     "output_type": "display_data"
    }
   ],
   "source": [
    "#This will import just the pyplot module as plt\n",
    "import matplotlib.pyplot as plt\n",
    "#Observe how we are calling the plot method within the pyplot module. \n",
    "plt.plot([1,2,3,4])\n",
    "pyplot.ylabel('Sample numbers')\n",
    "plt.show()"
   ]
  },
  {
   "cell_type": "markdown",
   "metadata": {
    "collapsed": false,
    "slideshow": {
     "slide_type": "subslide"
    }
   },
   "source": [
    "## Exercise-Packages\n",
    "\n",
    "This creates an Numpy array. Numpy is a common package that we will use to work with arrays. You can read more about Numpy [here](http://www.numpy.org/). \n",
    "\n",
    "`a = numpy.array([2,3,4])\n",
    "print(a)`\n",
    "\n",
    "To get this to work, you will have to import the Numpy package.  \n",
    "\n",
    "1. Verify that Numpy is installed. How did you know?  Describe how you would you install it if it wasn't installed? \n",
    "2. Provide the code to import numpy so that the code below works.  \n",
    "3. Import numpy as np and create an array `E2` with values `5,6,7,8`."
   ]
  },
  {
   "cell_type": "code",
   "execution_count": 17,
   "metadata": {
    "collapsed": false
   },
   "outputs": [
    {
     "ename": "NameError",
     "evalue": "name 'numpy' is not defined",
     "output_type": "error",
     "traceback": [
      "\u001b[0;31m---------------------------------------------------------------------------\u001b[0m",
      "\u001b[0;31mNameError\u001b[0m                                 Traceback (most recent call last)",
      "\u001b[0;32m<ipython-input-17-e5f3855071f2>\u001b[0m in \u001b[0;36m<module>\u001b[0;34m()\u001b[0m\n\u001b[0;32m----> 1\u001b[0;31m \u001b[0ma\u001b[0m \u001b[0;34m=\u001b[0m \u001b[0mnumpy\u001b[0m\u001b[0;34m.\u001b[0m\u001b[0marray\u001b[0m\u001b[0;34m(\u001b[0m\u001b[0;34m[\u001b[0m\u001b[0;36m1\u001b[0m\u001b[0;34m,\u001b[0m\u001b[0;36m2\u001b[0m\u001b[0;34m,\u001b[0m\u001b[0;36m3\u001b[0m\u001b[0;34m,\u001b[0m\u001b[0;36m4\u001b[0m\u001b[0;34m]\u001b[0m\u001b[0;34m)\u001b[0m\u001b[0;34m\u001b[0m\u001b[0m\n\u001b[0m\u001b[1;32m      2\u001b[0m \u001b[0mprint\u001b[0m\u001b[0;34m(\u001b[0m\u001b[0ma\u001b[0m\u001b[0;34m)\u001b[0m\u001b[0;34m\u001b[0m\u001b[0m\n",
      "\u001b[0;31mNameError\u001b[0m: name 'numpy' is not defined"
     ]
    }
   ],
   "source": [
    "a = numpy.array([1,2,3,4])\n",
    "print(a)"
   ]
  },
  {
   "cell_type": "code",
   "execution_count": 1,
   "metadata": {
    "collapsed": false
   },
   "outputs": [],
   "source": [
    "%%unittest_main\n",
    "class TestPackages(unittest.TestCase):\n",
    "    def test_packages1(self):\n",
    "        self.assertTrue((a == np.array([2,3,4])).all())\n",
    "    def test_packages2(self):\n",
    "        self.assertTrue((E2 == np.array([5,6,7,8])).all())\n"
   ]
  },
  {
   "cell_type": "markdown",
   "metadata": {
    "slideshow": {
     "slide_type": "slide"
    }
   },
   "source": [
    "## CREDITS\n",
    "\n",
    "\n",
    "Copyright [AnalyticsDojo](http://www.analyticsdojo.com) 2016.\n",
    "This work is licensed under the [Creative Commons Attribution 4.0 International](https://creativecommons.org/licenses/by/4.0/) license agreement.\n"
   ]
  }
 ],
 "metadata": {
  "anaconda-cloud": {
   "attach-environment": true,
   "environment": "py3k",
   "summary": "Introduction and Overview of Pything",
   "url": "https://anaconda.org/analyticsdojo/intro-python-overview"
  },
  "celltoolbar": "Slideshow",
  "kernelspec": {
   "display_name": "Python 3",
   "language": "python",
   "name": "python3"
  },
  "language_info": {
   "codemirror_mode": {
    "name": "ipython",
    "version": 3
   },
   "file_extension": ".py",
   "mimetype": "text/x-python",
   "name": "python",
   "nbconvert_exporter": "python",
   "pygments_lexer": "ipython3",
   "version": "3.5.2"
  }
 },
 "nbformat": 4,
 "nbformat_minor": 0
}
