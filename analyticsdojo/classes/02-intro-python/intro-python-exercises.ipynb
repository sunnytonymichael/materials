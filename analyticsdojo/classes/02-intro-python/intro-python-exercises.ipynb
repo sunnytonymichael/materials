{
 "cells": [
  {
   "cell_type": "markdown",
   "metadata": {},
   "source": [
    "### Exercises 2:\n",
    "### Name:\n"
   ]
  },
  {
   "cell_type": "markdown",
   "metadata": {},
   "source": [
    "### Before you start working on this, you should create a copy of it. While you can get help from others, all work typed below must be your own.\n",
    "\n",
    "### This is a 30 point assignment graded from answers to questions and automated tests that should be run at the bottom.  Please turn in a PDF via *file->print preview* then *print->save as pdf*."
   ]
  },
  {
   "cell_type": "code",
   "execution_count": 1,
   "metadata": {
    "collapsed": false
   },
   "outputs": [
    {
     "name": "stdout",
     "output_type": "stream",
     "text": [
      "Requirement already satisfied (use --upgrade to upgrade): ipython_unittest in /opt/conda/lib/python3.5/site-packages\r\n"
     ]
    }
   ],
   "source": [
    "!pip install ipython_unittest\n",
    "%load_ext ipython_unittest\n",
    "#This runs tests against your b array.  If you complete the assingment correctly, you will pass the tests. "
   ]
  },
  {
   "cell_type": "markdown",
   "metadata": {},
   "source": [
    "### This Loads a Testing Array \n",
    "- This runs tests against your b array.  If you complete the assingment correctly, you will pass the tests. \n",
    "- **If you attempt to fake passing the tests you will receive a 0 on the assignment and it will be considered an ethical violation.**"
   ]
  },
  {
   "cell_type": "markdown",
   "metadata": {
    "slideshow": {
     "slide_type": "slide"
    }
   },
   "source": [
    "## Exercise-Packages\n",
    "\n",
    "This creates an Numpy array. Numpy is a common package that we will use to work with arrays. You can read more about Numpy [here](http://www.numpy.org/). \n",
    "\n",
    "`a = numpy.array([2,3,4])\n",
    "print(a)`\n",
    "\n",
    "To get this to work, you will have to import the Numpy package.  \n",
    "\n",
    "1. Verify that Numpy is installed. How did you know?  Describe how you would you install it if it wasn't installed? \n",
    "2. Provide the code to import numpy so that the code below works.  \n",
    "3. Import numpy as np and create an array `E2` with values `5,6,7,8`."
   ]
  },
  {
   "cell_type": "code",
   "execution_count": 15,
   "metadata": {
    "collapsed": false
   },
   "outputs": [
    {
     "name": "stdout",
     "output_type": "stream",
     "text": [
      "[2 3 4]\n"
     ]
    }
   ],
   "source": [
    "import numpy\n",
    "a = numpy.array([2,3,4])\n",
    "print(a)"
   ]
  },
  {
   "cell_type": "code",
   "execution_count": 10,
   "metadata": {
    "collapsed": true
   },
   "outputs": [],
   "source": [
    "import numpy as np\n",
    "E2 = np.array([5,6,7,8])"
   ]
  },
  {
   "cell_type": "markdown",
   "metadata": {},
   "source": [
    "## Exercise - Operations on Variables\n",
    "\n",
    "1. Describe what happens when you multiply an integer times a boolean? What is the resulting type? Provide examples\n",
    "2. Describe happens when you try to multiply an integer value times a null?\n",
    "3. Take 5 to the power of 4 and assign it to a variable `E3` using an embeded function. "
   ]
  },
  {
   "cell_type": "code",
   "execution_count": 19,
   "metadata": {
    "collapsed": false
   },
   "outputs": [
    {
     "data": {
      "application/javascript": [
       "$(':has(> #dojo-timer-time)').css(\"background-color\",\"yellow\");"
      ],
      "text/plain": [
       "<IPython.core.display.Javascript object>"
      ]
     },
     "metadata": {},
     "output_type": "display_data"
    },
    {
     "name": "stdout",
     "output_type": "stream",
     "text": [
      "..F\n",
      "======================================================================\n",
      "FAIL: test_variables (__main__.TestPackages)\n",
      "----------------------------------------------------------------------\n",
      "Traceback (most recent call last):\n",
      "  File \"Cell Tests\", line 7, in test_variables\n",
      "AssertionError: False is not true\n",
      "\n",
      "----------------------------------------------------------------------\n",
      "Ran 3 tests in 0.006s\n",
      "\n",
      "FAILED (failures=1)\n"
     ]
    },
    {
     "data": {
      "application/javascript": [
       "$(':has(> #dojo-timer-time)').css(\"background-color\",\"salmon\");"
      ],
      "text/plain": [
       "<IPython.core.display.Javascript object>"
      ]
     },
     "metadata": {},
     "output_type": "display_data"
    },
    {
     "data": {
      "text/plain": [
       "<unittest.runner.TextTestResult run=3 errors=0 failures=1>"
      ]
     },
     "execution_count": 19,
     "metadata": {},
     "output_type": "execute_result"
    }
   ],
   "source": [
    "%%unittest_main\n",
    "class TestPackages(unittest.TestCase):\n",
    "    def test_packages1(self):\n",
    "        self.assertTrue((a == np.array([2,3,4])).all())\n",
    "    def test_packages2(self):\n",
    "        self.assertTrue((E2 == np.array([5,6,7,8])).all())\n",
    "    def test_variables(self):\n",
    "        self.assertTrue(E3 == 625)"
   ]
  },
  {
   "cell_type": "markdown",
   "metadata": {},
   "source": [
    "## Exercise-Lists\n",
    "Hint: [This list of functions on lists is useful.](https://docs.python.org/3/tutorial/datastructures.html)\n",
    "\n",
    "1. Create a list `elists1` with the following values (1,2,3,4,5).\n",
    "2. Create a new list `elists2` by first creating a copy of `elist1` and then reversing the order.\n",
    "3. Create a new list `elists3` by first creating a copy of `elist1` and then adding 7 8 9 to the end. *(Hint: Search for a different function if appending doesn't work.)*\n",
    "4. Create a new list `elists4` by first creating a copy of `elist3` and then insert 6 between 5 and 7. \n",
    "\n",
    "\n",
    "\n",
    "\n"
   ]
  },
  {
   "cell_type": "code",
   "execution_count": 2,
   "metadata": {
    "collapsed": false
   },
   "outputs": [
    {
     "data": {
      "application/javascript": [
       "$(':has(> #dojo-timer-time)').css(\"background-color\",\"yellow\");"
      ],
      "text/plain": [
       "<IPython.core.display.Javascript object>"
      ]
     },
     "metadata": {},
     "output_type": "display_data"
    },
    {
     "name": "stdout",
     "output_type": "stream",
     "text": [
      "EEEEE\n",
      "======================================================================\n",
      "ERROR: test_list1 (__main__.TestLists)\n",
      "----------------------------------------------------------------------\n",
      "Traceback (most recent call last):\n",
      "  File \"Cell Tests\", line 3, in test_list1\n",
      "NameError: name 'elists1' is not defined\n",
      "\n",
      "======================================================================\n",
      "ERROR: test_list1b (__main__.TestLists)\n",
      "----------------------------------------------------------------------\n",
      "Traceback (most recent call last):\n",
      "  File \"Cell Tests\", line 5, in test_list1b\n",
      "NameError: name 'elists1' is not defined\n",
      "\n",
      "======================================================================\n",
      "ERROR: test_list2b (__main__.TestLists)\n",
      "----------------------------------------------------------------------\n",
      "Traceback (most recent call last):\n",
      "  File \"Cell Tests\", line 7, in test_list2b\n",
      "NameError: name 'elists2' is not defined\n",
      "\n",
      "======================================================================\n",
      "ERROR: test_list3 (__main__.TestLists)\n",
      "----------------------------------------------------------------------\n",
      "Traceback (most recent call last):\n",
      "  File \"Cell Tests\", line 9, in test_list3\n",
      "NameError: name 'elists3' is not defined\n",
      "\n",
      "======================================================================\n",
      "ERROR: test_list4 (__main__.TestLists)\n",
      "----------------------------------------------------------------------\n",
      "Traceback (most recent call last):\n",
      "  File \"Cell Tests\", line 11, in test_list4\n",
      "NameError: name 'elists4' is not defined\n",
      "\n",
      "----------------------------------------------------------------------\n",
      "Ran 5 tests in 0.018s\n",
      "\n",
      "FAILED (errors=5)\n"
     ]
    },
    {
     "data": {
      "application/javascript": [
       "$(':has(> #dojo-timer-time)').css(\"background-color\",\"salmon\");"
      ],
      "text/plain": [
       "<IPython.core.display.Javascript object>"
      ]
     },
     "metadata": {},
     "output_type": "display_data"
    },
    {
     "data": {
      "text/plain": [
       "<unittest.runner.TextTestResult run=5 errors=5 failures=0>"
      ]
     },
     "execution_count": 2,
     "metadata": {},
     "output_type": "execute_result"
    }
   ],
   "source": [
    "%%unittest_main\n",
    "class TestLists(unittest.TestCase):\n",
    "    def test_list1(self):\n",
    "        self.assertTrue(elists1 == [1,2,3,4,5])\n",
    "    def test_list1b(self):\n",
    "        self.assertTrue(type(elists1) == type([1,2,3,4,5]))\n",
    "    def test_list2b(self):\n",
    "        self.assertTrue(elists2 == [5,4,3,2,1])\n",
    "    def test_list3(self):\n",
    "        self.assertTrue(elists3 == [1,2,3,4,5,7,8,9])\n",
    "    def test_list4(self):\n",
    "        self.assertTrue(elists4 == [1,2,3,4,5,6,7,8,9])\n"
   ]
  },
  {
   "cell_type": "markdown",
   "metadata": {},
   "source": [
    "## Exercise-Sets/Dictionary\n",
    "Hint: [This list of functions on lists is useful.](https://docs.python.org/3/tutorial/datastructures.html)\n",
    "\n",
    "1. Create a set `eset1` with the following values (1,2,3,4,5).\n",
    "2. Create a new set `eset2` the following values (1,3,6).\n",
    "3. Create a new set `eset3` that is `eset1-eset2`.\n",
    "4. Create a new set `eset4` that is the union of `eset1+eset2`.\n",
    "5. Create a new set `eset5` that includes values that are in both `eset1` and `eset2` (intersection).\n",
    "6. Create a new dict `edict1` with the following keys and associated values: st1=45; st2=32; st3=40; st4=31.\n",
    "7. Create a new variable edict2 from edict 1 where the key is st3."
   ]
  },
  {
   "cell_type": "code",
   "execution_count": 3,
   "metadata": {
    "collapsed": false
   },
   "outputs": [
    {
     "data": {
      "application/javascript": [
       "$(':has(> #dojo-timer-time)').css(\"background-color\",\"yellow\");"
      ],
      "text/plain": [
       "<IPython.core.display.Javascript object>"
      ]
     },
     "metadata": {},
     "output_type": "display_data"
    },
    {
     "name": "stdout",
     "output_type": "stream",
     "text": [
      "EEEEEEEEE\n",
      "======================================================================\n",
      "ERROR: test_dict1 (__main__.TestSetsDicts)\n",
      "----------------------------------------------------------------------\n",
      "Traceback (most recent call last):\n",
      "  File \"Cell Tests\", line 15, in test_dict1\n",
      "NameError: name 'edict1' is not defined\n",
      "\n",
      "======================================================================\n",
      "ERROR: test_dict1b (__main__.TestSetsDicts)\n",
      "----------------------------------------------------------------------\n",
      "Traceback (most recent call last):\n",
      "  File \"Cell Tests\", line 17, in test_dict1b\n",
      "NameError: name 'edict1' is not defined\n",
      "\n",
      "======================================================================\n",
      "ERROR: test_dict2 (__main__.TestSetsDicts)\n",
      "----------------------------------------------------------------------\n",
      "Traceback (most recent call last):\n",
      "  File \"Cell Tests\", line 19, in test_dict2\n",
      "NameError: name 'edict2' is not defined\n",
      "\n",
      "======================================================================\n",
      "ERROR: test_set4 (__main__.TestSetsDicts)\n",
      "----------------------------------------------------------------------\n",
      "Traceback (most recent call last):\n",
      "  File \"Cell Tests\", line 11, in test_set4\n",
      "NameError: name 'eset4' is not defined\n",
      "\n",
      "======================================================================\n",
      "ERROR: test_set5 (__main__.TestSetsDicts)\n",
      "----------------------------------------------------------------------\n",
      "Traceback (most recent call last):\n",
      "  File \"Cell Tests\", line 13, in test_set5\n",
      "NameError: name 'eset5' is not defined\n",
      "\n",
      "======================================================================\n",
      "ERROR: test_sets1 (__main__.TestSetsDicts)\n",
      "----------------------------------------------------------------------\n",
      "Traceback (most recent call last):\n",
      "  File \"Cell Tests\", line 3, in test_sets1\n",
      "NameError: name 'eset1' is not defined\n",
      "\n",
      "======================================================================\n",
      "ERROR: test_sets1b (__main__.TestSetsDicts)\n",
      "----------------------------------------------------------------------\n",
      "Traceback (most recent call last):\n",
      "  File \"Cell Tests\", line 5, in test_sets1b\n",
      "NameError: name 'eset1' is not defined\n",
      "\n",
      "======================================================================\n",
      "ERROR: test_sets2b (__main__.TestSetsDicts)\n",
      "----------------------------------------------------------------------\n",
      "Traceback (most recent call last):\n",
      "  File \"Cell Tests\", line 7, in test_sets2b\n",
      "NameError: name 'eset2' is not defined\n",
      "\n",
      "======================================================================\n",
      "ERROR: test_sets3 (__main__.TestSetsDicts)\n",
      "----------------------------------------------------------------------\n",
      "Traceback (most recent call last):\n",
      "  File \"Cell Tests\", line 9, in test_sets3\n",
      "NameError: name 'eset3' is not defined\n",
      "\n",
      "----------------------------------------------------------------------\n",
      "Ran 9 tests in 0.028s\n",
      "\n",
      "FAILED (errors=9)\n"
     ]
    },
    {
     "data": {
      "application/javascript": [
       "$(':has(> #dojo-timer-time)').css(\"background-color\",\"salmon\");"
      ],
      "text/plain": [
       "<IPython.core.display.Javascript object>"
      ]
     },
     "metadata": {},
     "output_type": "display_data"
    },
    {
     "data": {
      "text/plain": [
       "<unittest.runner.TextTestResult run=9 errors=9 failures=0>"
      ]
     },
     "execution_count": 3,
     "metadata": {},
     "output_type": "execute_result"
    }
   ],
   "source": [
    "%%unittest_main\n",
    "class TestSetsDicts(unittest.TestCase):\n",
    "    def test_sets1(self):\n",
    "        self.assertTrue(eset1 == {1,2,3,4,5})\n",
    "    def test_sets1b(self):\n",
    "        self.assertTrue(type(eset1) == type({1,2,3,4,5}))\n",
    "    def test_sets2b(self):\n",
    "         self.assertTrue(eset2 == {1,3,6})\n",
    "    def test_sets3(self):\n",
    "        self.assertTrue(eset3 == {2,4,5})\n",
    "    def test_set4(self):\n",
    "        self.assertTrue(eset4 == {1,2,3,4,5,6})\n",
    "    def test_set5(self):\n",
    "        self.assertTrue(eset5 == {1,3})\n",
    "    def test_dict1(self):\n",
    "        self.assertTrue(edict1 == {'st1' : 45, 'st2' : 32, 'st3' : 40, 'st4' : 31})\n",
    "    def test_dict1b(self):\n",
    "        self.assertTrue(type(edict1) == type({'st1' : 45, 'st2' : 32, 'st3' : 40, 'st4' : 31}))\n",
    "    def test_dict2(self):\n",
    "        self.assertTrue(edict2 == 40)\n",
    "\n"
   ]
  },
  {
   "cell_type": "markdown",
   "metadata": {},
   "source": [
    "# Exercise-Numpy Array\n",
    "\n",
    "1. Create a new numpy array `nparray1` that is 3x3 and all the number 3 (should be integer type).\n",
    "2. Create a new variable `nparray1sum` that sums all of column 0.\n",
    "3. Create a new variable `nparray1mean` that takes the average of column 0. \n",
    "4. Create a new numpy array `nparray2` that selects only column 1 of `nparray1`.\n",
    "5. Create a new numpy array `nparray3` that is equal to `nparray1` times 2 (you should not alter `nparray1`).\n",
    "6. Create a new numpy array `nparray4` that is a verticle stack of `nparray1` and `nparray3`. "
   ]
  },
  {
   "cell_type": "code",
   "execution_count": 4,
   "metadata": {
    "collapsed": false
   },
   "outputs": [
    {
     "data": {
      "application/javascript": [
       "$(':has(> #dojo-timer-time)').css(\"background-color\",\"yellow\");"
      ],
      "text/plain": [
       "<IPython.core.display.Javascript object>"
      ]
     },
     "metadata": {},
     "output_type": "display_data"
    },
    {
     "name": "stdout",
     "output_type": "stream",
     "text": [
      "EEEEEE\n",
      "======================================================================\n",
      "ERROR: test_numpy1 (__main__.TestNumpy)\n",
      "----------------------------------------------------------------------\n",
      "Traceback (most recent call last):\n",
      "  File \"Cell Tests\", line 3, in test_numpy1\n",
      "NameError: name 'nparray1' is not defined\n",
      "\n",
      "======================================================================\n",
      "ERROR: test_numpy2 (__main__.TestNumpy)\n",
      "----------------------------------------------------------------------\n",
      "Traceback (most recent call last):\n",
      "  File \"Cell Tests\", line 5, in test_numpy2\n",
      "NameError: name 'nparray1sum' is not defined\n",
      "\n",
      "======================================================================\n",
      "ERROR: test_numpy3 (__main__.TestNumpy)\n",
      "----------------------------------------------------------------------\n",
      "Traceback (most recent call last):\n",
      "  File \"Cell Tests\", line 7, in test_numpy3\n",
      "NameError: name 'nparray1mean' is not defined\n",
      "\n",
      "======================================================================\n",
      "ERROR: test_numpy4 (__main__.TestNumpy)\n",
      "----------------------------------------------------------------------\n",
      "Traceback (most recent call last):\n",
      "  File \"Cell Tests\", line 9, in test_numpy4\n",
      "NameError: name 'nparray2' is not defined\n",
      "\n",
      "======================================================================\n",
      "ERROR: test_numpy5 (__main__.TestNumpy)\n",
      "----------------------------------------------------------------------\n",
      "Traceback (most recent call last):\n",
      "  File \"Cell Tests\", line 11, in test_numpy5\n",
      "NameError: name 'nparray3' is not defined\n",
      "\n",
      "======================================================================\n",
      "ERROR: test_numpy6 (__main__.TestNumpy)\n",
      "----------------------------------------------------------------------\n",
      "Traceback (most recent call last):\n",
      "  File \"Cell Tests\", line 13, in test_numpy6\n",
      "NameError: name 'np' is not defined\n",
      "\n",
      "----------------------------------------------------------------------\n",
      "Ran 6 tests in 0.021s\n",
      "\n",
      "FAILED (errors=6)\n"
     ]
    },
    {
     "data": {
      "application/javascript": [
       "$(':has(> #dojo-timer-time)').css(\"background-color\",\"salmon\");"
      ],
      "text/plain": [
       "<IPython.core.display.Javascript object>"
      ]
     },
     "metadata": {},
     "output_type": "display_data"
    },
    {
     "data": {
      "text/plain": [
       "<unittest.runner.TextTestResult run=6 errors=6 failures=0>"
      ]
     },
     "execution_count": 4,
     "metadata": {},
     "output_type": "execute_result"
    }
   ],
   "source": [
    "%%unittest_main\n",
    "class TestNumpy(unittest.TestCase):\n",
    "    def test_numpy1(self):\n",
    "        self.assertTrue((nparray1 == np.full((3, 3), 3, dtype=int)).all())\n",
    "    def test_numpy2(self):\n",
    "         self.assertTrue(nparray1sum == 9)\n",
    "    def test_numpy3(self):\n",
    "        self.assertTrue(nparray1mean == 3.0)\n",
    "    def test_numpy4(self):\n",
    "        self.assertTrue((nparray2 == np.array([3,3,3])).all())\n",
    "    def test_numpy5(self):\n",
    "        self.assertTrue((nparray3 == np.full((3, 3), 6, dtype=int)).all())\n",
    "    def test_numpy6(self):\n",
    "        stacked=np.array([3,3,3,3,3,3,3,3,3,6,6,6,6,6,6,6,6,6]).reshape(6,3)\n",
    "        self.assertTrue((nparray4 == stacked).all())\n"
   ]
  },
  {
   "cell_type": "markdown",
   "metadata": {},
   "source": [
    "## Exercise-Pandas\n",
    "1. Using, the Iris dataset, find the mean of the sepalLength and assign it to the `sepalLengthMean` variable using the dataframe returned from the describe command.   \n",
    "2. Create a new dataframe `iristrain` that includes the first 75 rows of the iris dataframe.\n",
    "3. Create a new dataframe `iristest` that includes the last 75 rows of the iris dataframe.\n",
    "4. Create a new series `sepalLength` from the `sepalLength` column of the iris dataframe. \n",
    "\n"
   ]
  },
  {
   "cell_type": "code",
   "execution_count": 5,
   "metadata": {
    "collapsed": false
   },
   "outputs": [
    {
     "data": {
      "application/javascript": [
       "$(':has(> #dojo-timer-time)').css(\"background-color\",\"yellow\");"
      ],
      "text/plain": [
       "<IPython.core.display.Javascript object>"
      ]
     },
     "metadata": {},
     "output_type": "display_data"
    },
    {
     "name": "stdout",
     "output_type": "stream",
     "text": [
      "EEEEEE\n",
      "======================================================================\n",
      "ERROR: test_pandas1 (__main__.TestPandas)\n",
      "----------------------------------------------------------------------\n",
      "Traceback (most recent call last):\n",
      "  File \"Cell Tests\", line 3, in test_pandas1\n",
      "NameError: name 'sepalLengthMean' is not defined\n",
      "\n",
      "======================================================================\n",
      "ERROR: test_pandas2 (__main__.TestPandas)\n",
      "----------------------------------------------------------------------\n",
      "Traceback (most recent call last):\n",
      "  File \"Cell Tests\", line 5, in test_pandas2\n",
      "NameError: name 'iristrain' is not defined\n",
      "\n",
      "======================================================================\n",
      "ERROR: test_pandas3 (__main__.TestPandas)\n",
      "----------------------------------------------------------------------\n",
      "Traceback (most recent call last):\n",
      "  File \"Cell Tests\", line 7, in test_pandas3\n",
      "NameError: name 'iristest' is not defined\n",
      "\n",
      "======================================================================\n",
      "ERROR: test_pandas4 (__main__.TestPandas)\n",
      "----------------------------------------------------------------------\n",
      "Traceback (most recent call last):\n",
      "  File \"Cell Tests\", line 9, in test_pandas4\n",
      "NameError: name 'iristrain' is not defined\n",
      "\n",
      "======================================================================\n",
      "ERROR: test_pandas5 (__main__.TestPandas)\n",
      "----------------------------------------------------------------------\n",
      "Traceback (most recent call last):\n",
      "  File \"Cell Tests\", line 11, in test_pandas5\n",
      "NameError: name 'iristest' is not defined\n",
      "\n",
      "======================================================================\n",
      "ERROR: test_pandas6 (__main__.TestPandas)\n",
      "----------------------------------------------------------------------\n",
      "Traceback (most recent call last):\n",
      "  File \"Cell Tests\", line 13, in test_pandas6\n",
      "NameError: name 'sepalLength' is not defined\n",
      "\n",
      "----------------------------------------------------------------------\n",
      "Ran 6 tests in 0.034s\n",
      "\n",
      "FAILED (errors=6)\n"
     ]
    },
    {
     "data": {
      "application/javascript": [
       "$(':has(> #dojo-timer-time)').css(\"background-color\",\"salmon\");"
      ],
      "text/plain": [
       "<IPython.core.display.Javascript object>"
      ]
     },
     "metadata": {},
     "output_type": "display_data"
    },
    {
     "data": {
      "text/plain": [
       "<unittest.runner.TextTestResult run=6 errors=6 failures=0>"
      ]
     },
     "execution_count": 5,
     "metadata": {},
     "output_type": "execute_result"
    }
   ],
   "source": [
    "%%unittest_main\n",
    "class TestPandas(unittest.TestCase):\n",
    "    def test_pandas1(self):\n",
    "        self.assertTrue(sepalLengthMean == 5.8433333333333337)\n",
    "    def test_pandas2(self):\n",
    "        self.assertTrue(iristrain.describe().sepalLength['count'] == 75.0)\n",
    "    def test_pandas3(self):\n",
    "        self.assertTrue(iristest.describe().sepalLength['count'] == 75.0)\n",
    "    def test_pandas4(self):\n",
    "        self.assertTrue(iristrain.describe().sepalLength['std'] == 0.63842994352770832)\n",
    "    def test_pandas5(self):\n",
    "        self.assertTrue(iristest.describe().sepalLength['std'] == 0.67988340282833903)\n",
    "    def test_pandas6(self):\n",
    "        self.assertTrue(sepalLength[134] == 6.0999999999999996)\n",
    "\n"
   ]
  },
  {
   "cell_type": "code",
   "execution_count": null,
   "metadata": {
    "collapsed": true
   },
   "outputs": [],
   "source": [
    "#This is a collection of all of the tests from the exercises above. "
   ]
  },
  {
   "cell_type": "code",
   "execution_count": 6,
   "metadata": {
    "collapsed": false
   },
   "outputs": [
    {
     "data": {
      "application/javascript": [
       "$(':has(> #dojo-timer-time)').css(\"background-color\",\"yellow\");"
      ],
      "text/plain": [
       "<IPython.core.display.Javascript object>"
      ]
     },
     "metadata": {},
     "output_type": "display_data"
    },
    {
     "name": "stdout",
     "output_type": "stream",
     "text": [
      "EEEEEEEEEEEEEEEEEEEEEEEEEE\n",
      "======================================================================\n",
      "ERROR: test_dict1 (__main__.TestAll)\n",
      "----------------------------------------------------------------------\n",
      "Traceback (most recent call last):\n",
      "  File \"Cell Tests\", line 25, in test_dict1\n",
      "NameError: name 'edict1' is not defined\n",
      "\n",
      "======================================================================\n",
      "ERROR: test_dict1b (__main__.TestAll)\n",
      "----------------------------------------------------------------------\n",
      "Traceback (most recent call last):\n",
      "  File \"Cell Tests\", line 27, in test_dict1b\n",
      "NameError: name 'edict1' is not defined\n",
      "\n",
      "======================================================================\n",
      "ERROR: test_dict2 (__main__.TestAll)\n",
      "----------------------------------------------------------------------\n",
      "Traceback (most recent call last):\n",
      "  File \"Cell Tests\", line 29, in test_dict2\n",
      "NameError: name 'edict2' is not defined\n",
      "\n",
      "======================================================================\n",
      "ERROR: test_list1 (__main__.TestAll)\n",
      "----------------------------------------------------------------------\n",
      "Traceback (most recent call last):\n",
      "  File \"Cell Tests\", line 3, in test_list1\n",
      "NameError: name 'elists1' is not defined\n",
      "\n",
      "======================================================================\n",
      "ERROR: test_list1b (__main__.TestAll)\n",
      "----------------------------------------------------------------------\n",
      "Traceback (most recent call last):\n",
      "  File \"Cell Tests\", line 5, in test_list1b\n",
      "NameError: name 'elists1' is not defined\n",
      "\n",
      "======================================================================\n",
      "ERROR: test_list2b (__main__.TestAll)\n",
      "----------------------------------------------------------------------\n",
      "Traceback (most recent call last):\n",
      "  File \"Cell Tests\", line 7, in test_list2b\n",
      "NameError: name 'elists2' is not defined\n",
      "\n",
      "======================================================================\n",
      "ERROR: test_list3 (__main__.TestAll)\n",
      "----------------------------------------------------------------------\n",
      "Traceback (most recent call last):\n",
      "  File \"Cell Tests\", line 9, in test_list3\n",
      "NameError: name 'elists3' is not defined\n",
      "\n",
      "======================================================================\n",
      "ERROR: test_list4 (__main__.TestAll)\n",
      "----------------------------------------------------------------------\n",
      "Traceback (most recent call last):\n",
      "  File \"Cell Tests\", line 11, in test_list4\n",
      "NameError: name 'elists4' is not defined\n",
      "\n",
      "======================================================================\n",
      "ERROR: test_numpy1 (__main__.TestAll)\n",
      "----------------------------------------------------------------------\n",
      "Traceback (most recent call last):\n",
      "  File \"Cell Tests\", line 31, in test_numpy1\n",
      "NameError: name 'nparray1' is not defined\n",
      "\n",
      "======================================================================\n",
      "ERROR: test_numpy2 (__main__.TestAll)\n",
      "----------------------------------------------------------------------\n",
      "Traceback (most recent call last):\n",
      "  File \"Cell Tests\", line 33, in test_numpy2\n",
      "NameError: name 'nparray1sum' is not defined\n",
      "\n",
      "======================================================================\n",
      "ERROR: test_numpy3 (__main__.TestAll)\n",
      "----------------------------------------------------------------------\n",
      "Traceback (most recent call last):\n",
      "  File \"Cell Tests\", line 35, in test_numpy3\n",
      "NameError: name 'nparray1mean' is not defined\n",
      "\n",
      "======================================================================\n",
      "ERROR: test_numpy4 (__main__.TestAll)\n",
      "----------------------------------------------------------------------\n",
      "Traceback (most recent call last):\n",
      "  File \"Cell Tests\", line 37, in test_numpy4\n",
      "NameError: name 'nparray2' is not defined\n",
      "\n",
      "======================================================================\n",
      "ERROR: test_numpy5 (__main__.TestAll)\n",
      "----------------------------------------------------------------------\n",
      "Traceback (most recent call last):\n",
      "  File \"Cell Tests\", line 39, in test_numpy5\n",
      "NameError: name 'nparray3' is not defined\n",
      "\n",
      "======================================================================\n",
      "ERROR: test_numpy6 (__main__.TestAll)\n",
      "----------------------------------------------------------------------\n",
      "Traceback (most recent call last):\n",
      "  File \"Cell Tests\", line 41, in test_numpy6\n",
      "NameError: name 'np' is not defined\n",
      "\n",
      "======================================================================\n",
      "ERROR: test_pandas1 (__main__.TestAll)\n",
      "----------------------------------------------------------------------\n",
      "Traceback (most recent call last):\n",
      "  File \"Cell Tests\", line 44, in test_pandas1\n",
      "NameError: name 'sepalLengthMean' is not defined\n",
      "\n",
      "======================================================================\n",
      "ERROR: test_pandas2 (__main__.TestAll)\n",
      "----------------------------------------------------------------------\n",
      "Traceback (most recent call last):\n",
      "  File \"Cell Tests\", line 46, in test_pandas2\n",
      "NameError: name 'iristrain' is not defined\n",
      "\n",
      "======================================================================\n",
      "ERROR: test_pandas3 (__main__.TestAll)\n",
      "----------------------------------------------------------------------\n",
      "Traceback (most recent call last):\n",
      "  File \"Cell Tests\", line 48, in test_pandas3\n",
      "NameError: name 'iristest' is not defined\n",
      "\n",
      "======================================================================\n",
      "ERROR: test_pandas4 (__main__.TestAll)\n",
      "----------------------------------------------------------------------\n",
      "Traceback (most recent call last):\n",
      "  File \"Cell Tests\", line 50, in test_pandas4\n",
      "NameError: name 'iristrain' is not defined\n",
      "\n",
      "======================================================================\n",
      "ERROR: test_pandas5 (__main__.TestAll)\n",
      "----------------------------------------------------------------------\n",
      "Traceback (most recent call last):\n",
      "  File \"Cell Tests\", line 52, in test_pandas5\n",
      "NameError: name 'iristest' is not defined\n",
      "\n",
      "======================================================================\n",
      "ERROR: test_pandas6 (__main__.TestAll)\n",
      "----------------------------------------------------------------------\n",
      "Traceback (most recent call last):\n",
      "  File \"Cell Tests\", line 54, in test_pandas6\n",
      "NameError: name 'sepalLength' is not defined\n",
      "\n",
      "======================================================================\n",
      "ERROR: test_set4 (__main__.TestAll)\n",
      "----------------------------------------------------------------------\n",
      "Traceback (most recent call last):\n",
      "  File \"Cell Tests\", line 21, in test_set4\n",
      "NameError: name 'eset4' is not defined\n",
      "\n",
      "======================================================================\n",
      "ERROR: test_set5 (__main__.TestAll)\n",
      "----------------------------------------------------------------------\n",
      "Traceback (most recent call last):\n",
      "  File \"Cell Tests\", line 23, in test_set5\n",
      "NameError: name 'eset5' is not defined\n",
      "\n",
      "======================================================================\n",
      "ERROR: test_sets1 (__main__.TestAll)\n",
      "----------------------------------------------------------------------\n",
      "Traceback (most recent call last):\n",
      "  File \"Cell Tests\", line 13, in test_sets1\n",
      "NameError: name 'eset1' is not defined\n",
      "\n",
      "======================================================================\n",
      "ERROR: test_sets1b (__main__.TestAll)\n",
      "----------------------------------------------------------------------\n",
      "Traceback (most recent call last):\n",
      "  File \"Cell Tests\", line 15, in test_sets1b\n",
      "NameError: name 'eset1' is not defined\n",
      "\n",
      "======================================================================\n",
      "ERROR: test_sets2b (__main__.TestAll)\n",
      "----------------------------------------------------------------------\n",
      "Traceback (most recent call last):\n",
      "  File \"Cell Tests\", line 17, in test_sets2b\n",
      "NameError: name 'eset2' is not defined\n",
      "\n",
      "======================================================================\n",
      "ERROR: test_sets3 (__main__.TestAll)\n",
      "----------------------------------------------------------------------\n",
      "Traceback (most recent call last):\n",
      "  File \"Cell Tests\", line 19, in test_sets3\n",
      "NameError: name 'eset3' is not defined\n",
      "\n",
      "----------------------------------------------------------------------\n",
      "Ran 26 tests in 0.102s\n",
      "\n",
      "FAILED (errors=26)\n"
     ]
    },
    {
     "data": {
      "application/javascript": [
       "$(':has(> #dojo-timer-time)').css(\"background-color\",\"salmon\");"
      ],
      "text/plain": [
       "<IPython.core.display.Javascript object>"
      ]
     },
     "metadata": {},
     "output_type": "display_data"
    },
    {
     "data": {
      "text/plain": [
       "<unittest.runner.TextTestResult run=26 errors=26 failures=0>"
      ]
     },
     "execution_count": 6,
     "metadata": {},
     "output_type": "execute_result"
    }
   ],
   "source": [
    "%%unittest_main\n",
    "class TestAll(unittest.TestCase):\n",
    "    def test_list1(self):\n",
    "        self.assertTrue(elists1 == [1,2,3,4,5])\n",
    "    def test_list1b(self):\n",
    "        self.assertTrue(type(elists1) == type([1,2,3,4,5]))\n",
    "    def test_list2b(self):\n",
    "        self.assertTrue(elists2 == [5,4,3,2,1])\n",
    "    def test_list3(self):\n",
    "        self.assertTrue(elists3 == [1,2,3,4,5,7,8,9])\n",
    "    def test_list4(self):\n",
    "        self.assertTrue(elists4 == [1,2,3,4,5,6,7,8,9]) \n",
    "    def test_sets1(self):\n",
    "        self.assertTrue(eset1 == {1,2,3,4,5})\n",
    "    def test_sets1b(self):\n",
    "        self.assertTrue(type(eset1) == type({1,2,3,4,5}))\n",
    "    def test_sets2b(self):\n",
    "         self.assertTrue(eset2 == {1,3,6})\n",
    "    def test_sets3(self):\n",
    "        self.assertTrue(eset3 == {2,4,5})\n",
    "    def test_set4(self):\n",
    "        self.assertTrue(eset4 == {1,2,3,4,5,6})\n",
    "    def test_set5(self):\n",
    "        self.assertTrue(eset5 == {1,3})\n",
    "    def test_dict1(self):\n",
    "        self.assertTrue(edict1 == {'st1' : 45, 'st2' : 32, 'st3' : 40, 'st4' : 31})\n",
    "    def test_dict1b(self):\n",
    "        self.assertTrue(type(edict1) == type({'st1' : 45, 'st2' : 32, 'st3' : 40, 'st4' : 31}))\n",
    "    def test_dict2(self):\n",
    "        self.assertTrue(edict2 == 40)\n",
    "    def test_numpy1(self):\n",
    "        self.assertTrue((nparray1 == np.full((3, 3), 3, dtype=int)).all())\n",
    "    def test_numpy2(self):\n",
    "         self.assertTrue(nparray1sum == 9)\n",
    "    def test_numpy3(self):\n",
    "        self.assertTrue(nparray1mean == 3.0)\n",
    "    def test_numpy4(self):\n",
    "        self.assertTrue((nparray2 == np.array([3,3,3])).all())\n",
    "    def test_numpy5(self):\n",
    "        self.assertTrue((nparray3 == np.full((3, 3), 6, dtype=int)).all())\n",
    "    def test_numpy6(self):\n",
    "        stacked=np.array([3,3,3,3,3,3,3,3,3,6,6,6,6,6,6,6,6,6]).reshape(6,3)\n",
    "        self.assertTrue((nparray4 == stacked).all())\n",
    "    def test_pandas1(self):\n",
    "        self.assertTrue(sepalLengthMean == 5.8433333333333337)\n",
    "    def test_pandas2(self):\n",
    "        self.assertTrue(iristrain.describe().sepalLength['count'] == 75.0)\n",
    "    def test_pandas3(self):\n",
    "        self.assertTrue(iristest.describe().sepalLength['count'] == 75.0)\n",
    "    def test_pandas4(self):\n",
    "        self.assertTrue(iristrain.describe().sepalLength['std'] == 0.63842994352770832)\n",
    "    def test_pandas5(self):\n",
    "        self.assertTrue(iristest.describe().sepalLength['std'] == 0.67988340282833903)\n",
    "    def test_pandas6(self):\n",
    "        self.assertTrue(sepalLength[134] == 6.0999999999999996)"
   ]
  },
  {
   "cell_type": "code",
   "execution_count": null,
   "metadata": {
    "collapsed": true
   },
   "outputs": [],
   "source": []
  }
 ],
 "metadata": {
  "celltoolbar": "Slideshow",
  "kernelspec": {
   "display_name": "Python [py3k]",
   "language": "python",
   "name": "Python [py3k]"
  },
  "language_info": {
   "codemirror_mode": {
    "name": "ipython",
    "version": 3
   },
   "file_extension": ".py",
   "mimetype": "text/x-python",
   "name": "python",
   "nbconvert_exporter": "python",
   "pygments_lexer": "ipython3",
   "version": "3.5.2"
  }
 },
 "nbformat": 4,
 "nbformat_minor": 0
}
