{
 "cells": [
  {
   "cell_type": "markdown",
   "metadata": {},
   "source": [
    "[![AnalyticsDojo](https://s3.amazonaws.com/analyticsdojo/logo/final-logo.png)](http://www.analyticsdojo.com)\n",
    "<center><h1>Introduction to R - Test Local Jupyter Notebook</h1></center>\n",
    "<center><h3><a href = 'http://www.analyticsdojo.com'>www.analyticsdojo.com</a></h3></center>"
   ]
  },
  {
   "cell_type": "markdown",
   "metadata": {},
   "source": [
    "### Links: [local](http://localhost:8888/notebooks/classes/04-intro-r/intro-r-localfile.ipynb) [github](https://github.com/AnalyticsDojo/materials/blob/master/analyticsdojo/classes/04-intro-r/intro-r-localfile.ipynb) [slides](http://nbviewer.jupyter.org/format/slides/github/AnalyticsDojo/materials/blob/master/analyticsdojo/classes/04-intro-r/intro-r-localfile.ipynb#/)"
   ]
  },
  {
   "cell_type": "markdown",
   "metadata": {},
   "source": [
    "## Test Notebook\n",
    "\n",
    "The goal of this notebook is to simply test the R environment and to show how to interact with a local data file. Let's first check the R version. \n"
   ]
  },
  {
   "cell_type": "code",
   "execution_count": 1,
   "metadata": {
    "collapsed": false
   },
   "outputs": [
    {
     "data": {
      "text/plain": [
       "               _                           \n",
       "platform       x86_64-pc-linux-gnu         \n",
       "arch           x86_64                      \n",
       "os             linux-gnu                   \n",
       "system         x86_64, linux-gnu           \n",
       "status                                     \n",
       "major          3                           \n",
       "minor          3.1                         \n",
       "year           2016                        \n",
       "month          06                          \n",
       "day            21                          \n",
       "svn rev        70800                       \n",
       "language       R                           \n",
       "version.string R version 3.3.1 (2016-06-21)\n",
       "nickname       Bug in Your Hair            "
      ]
     },
     "metadata": {},
     "output_type": "display_data"
    }
   ],
   "source": [
    "version"
   ]
  },
  {
   "cell_type": "markdown",
   "metadata": {},
   "source": [
    "## Local R Version\n",
    "\n",
    "```\n",
    "conda install -c r r-essentials\n",
    "```\n",
    "\n"
   ]
  },
  {
   "cell_type": "markdown",
   "metadata": {},
   "source": [
    "## Reading a Local CSV File \n",
    "- The `read.csv` command can accepted a variety of delimited files.\n",
    "- Relative references are indicated with `..` to indcate going up a directory.\n",
    "- Windows: - use either \\ or / to indicate directories\n",
    "- setwd('C:\\\\Users\\\\Your_username\\\\Desktop\\\\r-bootcamp-2016')\n",
    "- setwd('..\\\\r-bootcamp-2016')"
   ]
  },
  {
   "cell_type": "code",
   "execution_count": 14,
   "metadata": {
    "collapsed": false
   },
   "outputs": [],
   "source": [
    "# This will load the local iris.csv file into an R dataframe.  We will work with these a lot in the future.\n",
    "#This is refered to a relative reference.  This is Relative to the current working directory. \n",
    "\n",
    "frame=read.csv(file=\"../../data/iris.csv\", header=TRUE,sep=\",\")"
   ]
  },
  {
   "cell_type": "code",
   "execution_count": 12,
   "metadata": {
    "collapsed": false
   },
   "outputs": [],
   "source": [
    "#This is a reference to the full filepath when using Docker. \n",
    "frame=read.csv(file=\"/home/jovyan/work/data/iris.csv\", header=TRUE,sep=\",\")"
   ]
  },
  {
   "cell_type": "code",
   "execution_count": 4,
   "metadata": {
    "collapsed": false
   },
   "outputs": [
    {
     "data": {
      "text/html": [
       "<table>\n",
       "<thead><tr><th></th><th scope=col>sepalLength</th><th scope=col>sepalWidth</th><th scope=col>petalLength</th><th scope=col>petalWidth</th><th scope=col>species</th></tr></thead>\n",
       "<tbody>\n",
       "\t<tr><th scope=row>1</th><td>5.1   </td><td>3.5   </td><td>1.4   </td><td>0.2   </td><td>setosa</td></tr>\n",
       "\t<tr><th scope=row>2</th><td>4.9   </td><td>3     </td><td>1.4   </td><td>0.2   </td><td>setosa</td></tr>\n",
       "\t<tr><th scope=row>3</th><td>4.7   </td><td>3.2   </td><td>1.3   </td><td>0.2   </td><td>setosa</td></tr>\n",
       "\t<tr><th scope=row>4</th><td>4.6   </td><td>3.1   </td><td>1.5   </td><td>0.2   </td><td>setosa</td></tr>\n",
       "\t<tr><th scope=row>5</th><td>5     </td><td>3.6   </td><td>1.4   </td><td>0.2   </td><td>setosa</td></tr>\n",
       "\t<tr><th scope=row>6</th><td>5.4   </td><td>3.9   </td><td>1.7   </td><td>0.4   </td><td>setosa</td></tr>\n",
       "\t<tr><th scope=row>7</th><td>4.6   </td><td>3.4   </td><td>1.4   </td><td>0.3   </td><td>setosa</td></tr>\n",
       "\t<tr><th scope=row>8</th><td>5     </td><td>3.4   </td><td>1.5   </td><td>0.2   </td><td>setosa</td></tr>\n",
       "\t<tr><th scope=row>9</th><td>4.4   </td><td>2.9   </td><td>1.4   </td><td>0.2   </td><td>setosa</td></tr>\n",
       "\t<tr><th scope=row>10</th><td>4.9   </td><td>3.1   </td><td>1.5   </td><td>0.1   </td><td>setosa</td></tr>\n",
       "\t<tr><th scope=row>11</th><td>5.4   </td><td>3.7   </td><td>1.5   </td><td>0.2   </td><td>setosa</td></tr>\n",
       "\t<tr><th scope=row>12</th><td>4.8   </td><td>3.4   </td><td>1.6   </td><td>0.2   </td><td>setosa</td></tr>\n",
       "\t<tr><th scope=row>13</th><td>4.8   </td><td>3     </td><td>1.4   </td><td>0.1   </td><td>setosa</td></tr>\n",
       "\t<tr><th scope=row>14</th><td>4.3   </td><td>3     </td><td>1.1   </td><td>0.1   </td><td>setosa</td></tr>\n",
       "\t<tr><th scope=row>15</th><td>5.8   </td><td>4     </td><td>1.2   </td><td>0.2   </td><td>setosa</td></tr>\n",
       "\t<tr><th scope=row>16</th><td>5.7   </td><td>4.4   </td><td>1.5   </td><td>0.4   </td><td>setosa</td></tr>\n",
       "\t<tr><th scope=row>17</th><td>5.4   </td><td>3.9   </td><td>1.3   </td><td>0.4   </td><td>setosa</td></tr>\n",
       "\t<tr><th scope=row>18</th><td>5.1   </td><td>3.5   </td><td>1.4   </td><td>0.3   </td><td>setosa</td></tr>\n",
       "\t<tr><th scope=row>19</th><td>5.7   </td><td>3.8   </td><td>1.7   </td><td>0.3   </td><td>setosa</td></tr>\n",
       "\t<tr><th scope=row>20</th><td>5.1   </td><td>3.8   </td><td>1.5   </td><td>0.3   </td><td>setosa</td></tr>\n",
       "\t<tr><th scope=row>21</th><td>5.4   </td><td>3.4   </td><td>1.7   </td><td>0.2   </td><td>setosa</td></tr>\n",
       "\t<tr><th scope=row>22</th><td>5.1   </td><td>3.7   </td><td>1.5   </td><td>0.4   </td><td>setosa</td></tr>\n",
       "\t<tr><th scope=row>23</th><td>4.6   </td><td>3.6   </td><td>1     </td><td>0.2   </td><td>setosa</td></tr>\n",
       "\t<tr><th scope=row>24</th><td>5.1   </td><td>3.3   </td><td>1.7   </td><td>0.5   </td><td>setosa</td></tr>\n",
       "\t<tr><th scope=row>25</th><td>4.8   </td><td>3.4   </td><td>1.9   </td><td>0.2   </td><td>setosa</td></tr>\n",
       "\t<tr><th scope=row>26</th><td>5     </td><td>3     </td><td>1.6   </td><td>0.2   </td><td>setosa</td></tr>\n",
       "\t<tr><th scope=row>27</th><td>5     </td><td>3.4   </td><td>1.6   </td><td>0.4   </td><td>setosa</td></tr>\n",
       "\t<tr><th scope=row>28</th><td>5.2   </td><td>3.5   </td><td>1.5   </td><td>0.2   </td><td>setosa</td></tr>\n",
       "\t<tr><th scope=row>29</th><td>5.2   </td><td>3.4   </td><td>1.4   </td><td>0.2   </td><td>setosa</td></tr>\n",
       "\t<tr><th scope=row>30</th><td>4.7   </td><td>3.2   </td><td>1.6   </td><td>0.2   </td><td>setosa</td></tr>\n",
       "\t<tr><th scope=row>⋮</th><td>⋮</td><td>⋮</td><td>⋮</td><td>⋮</td><td>⋮</td></tr>\n",
       "\t<tr><th scope=row>121</th><td>6.9      </td><td>3.2      </td><td>5.7      </td><td>2.3      </td><td>virginica</td></tr>\n",
       "\t<tr><th scope=row>122</th><td>5.6      </td><td>2.8      </td><td>4.9      </td><td>2        </td><td>virginica</td></tr>\n",
       "\t<tr><th scope=row>123</th><td>7.7      </td><td>2.8      </td><td>6.7      </td><td>2        </td><td>virginica</td></tr>\n",
       "\t<tr><th scope=row>124</th><td>6.3      </td><td>2.7      </td><td>4.9      </td><td>1.8      </td><td>virginica</td></tr>\n",
       "\t<tr><th scope=row>125</th><td>6.7      </td><td>3.3      </td><td>5.7      </td><td>2.1      </td><td>virginica</td></tr>\n",
       "\t<tr><th scope=row>126</th><td>7.2      </td><td>3.2      </td><td>6        </td><td>1.8      </td><td>virginica</td></tr>\n",
       "\t<tr><th scope=row>127</th><td>6.2      </td><td>2.8      </td><td>4.8      </td><td>1.8      </td><td>virginica</td></tr>\n",
       "\t<tr><th scope=row>128</th><td>6.1      </td><td>3        </td><td>4.9      </td><td>1.8      </td><td>virginica</td></tr>\n",
       "\t<tr><th scope=row>129</th><td>6.4      </td><td>2.8      </td><td>5.6      </td><td>2.1      </td><td>virginica</td></tr>\n",
       "\t<tr><th scope=row>130</th><td>7.2      </td><td>3        </td><td>5.8      </td><td>1.6      </td><td>virginica</td></tr>\n",
       "\t<tr><th scope=row>131</th><td>7.4      </td><td>2.8      </td><td>6.1      </td><td>1.9      </td><td>virginica</td></tr>\n",
       "\t<tr><th scope=row>132</th><td>7.9      </td><td>3.8      </td><td>6.4      </td><td>2        </td><td>virginica</td></tr>\n",
       "\t<tr><th scope=row>133</th><td>6.4      </td><td>2.8      </td><td>5.6      </td><td>2.2      </td><td>virginica</td></tr>\n",
       "\t<tr><th scope=row>134</th><td>6.3      </td><td>2.8      </td><td>5.1      </td><td>1.5      </td><td>virginica</td></tr>\n",
       "\t<tr><th scope=row>135</th><td>6.1      </td><td>2.6      </td><td>5.6      </td><td>1.4      </td><td>virginica</td></tr>\n",
       "\t<tr><th scope=row>136</th><td>7.7      </td><td>3        </td><td>6.1      </td><td>2.3      </td><td>virginica</td></tr>\n",
       "\t<tr><th scope=row>137</th><td>6.3      </td><td>3.4      </td><td>5.6      </td><td>2.4      </td><td>virginica</td></tr>\n",
       "\t<tr><th scope=row>138</th><td>6.4      </td><td>3.1      </td><td>5.5      </td><td>1.8      </td><td>virginica</td></tr>\n",
       "\t<tr><th scope=row>139</th><td>6        </td><td>3        </td><td>4.8      </td><td>1.8      </td><td>virginica</td></tr>\n",
       "\t<tr><th scope=row>140</th><td>6.9      </td><td>3.1      </td><td>5.4      </td><td>2.1      </td><td>virginica</td></tr>\n",
       "\t<tr><th scope=row>141</th><td>6.7      </td><td>3.1      </td><td>5.6      </td><td>2.4      </td><td>virginica</td></tr>\n",
       "\t<tr><th scope=row>142</th><td>6.9      </td><td>3.1      </td><td>5.1      </td><td>2.3      </td><td>virginica</td></tr>\n",
       "\t<tr><th scope=row>143</th><td>5.8      </td><td>2.7      </td><td>5.1      </td><td>1.9      </td><td>virginica</td></tr>\n",
       "\t<tr><th scope=row>144</th><td>6.8      </td><td>3.2      </td><td>5.9      </td><td>2.3      </td><td>virginica</td></tr>\n",
       "\t<tr><th scope=row>145</th><td>6.7      </td><td>3.3      </td><td>5.7      </td><td>2.5      </td><td>virginica</td></tr>\n",
       "\t<tr><th scope=row>146</th><td>6.7      </td><td>3        </td><td>5.2      </td><td>2.3      </td><td>virginica</td></tr>\n",
       "\t<tr><th scope=row>147</th><td>6.3      </td><td>2.5      </td><td>5        </td><td>1.9      </td><td>virginica</td></tr>\n",
       "\t<tr><th scope=row>148</th><td>6.5      </td><td>3        </td><td>5.2      </td><td>2        </td><td>virginica</td></tr>\n",
       "\t<tr><th scope=row>149</th><td>6.2      </td><td>3.4      </td><td>5.4      </td><td>2.3      </td><td>virginica</td></tr>\n",
       "\t<tr><th scope=row>150</th><td>5.9      </td><td>3        </td><td>5.1      </td><td>1.8      </td><td>virginica</td></tr>\n",
       "</tbody>\n",
       "</table>\n"
      ],
      "text/latex": [
       "\\begin{tabular}{r|lllll}\n",
       "  & sepalLength & sepalWidth & petalLength & petalWidth & species\\\\\n",
       "\\hline\n",
       "\t1 & 5.1    & 3.5    & 1.4    & 0.2    & setosa\\\\\n",
       "\t2 & 4.9    & 3      & 1.4    & 0.2    & setosa\\\\\n",
       "\t3 & 4.7    & 3.2    & 1.3    & 0.2    & setosa\\\\\n",
       "\t4 & 4.6    & 3.1    & 1.5    & 0.2    & setosa\\\\\n",
       "\t5 & 5      & 3.6    & 1.4    & 0.2    & setosa\\\\\n",
       "\t6 & 5.4    & 3.9    & 1.7    & 0.4    & setosa\\\\\n",
       "\t7 & 4.6    & 3.4    & 1.4    & 0.3    & setosa\\\\\n",
       "\t8 & 5      & 3.4    & 1.5    & 0.2    & setosa\\\\\n",
       "\t9 & 4.4    & 2.9    & 1.4    & 0.2    & setosa\\\\\n",
       "\t10 & 4.9    & 3.1    & 1.5    & 0.1    & setosa\\\\\n",
       "\t11 & 5.4    & 3.7    & 1.5    & 0.2    & setosa\\\\\n",
       "\t12 & 4.8    & 3.4    & 1.6    & 0.2    & setosa\\\\\n",
       "\t13 & 4.8    & 3      & 1.4    & 0.1    & setosa\\\\\n",
       "\t14 & 4.3    & 3      & 1.1    & 0.1    & setosa\\\\\n",
       "\t15 & 5.8    & 4      & 1.2    & 0.2    & setosa\\\\\n",
       "\t16 & 5.7    & 4.4    & 1.5    & 0.4    & setosa\\\\\n",
       "\t17 & 5.4    & 3.9    & 1.3    & 0.4    & setosa\\\\\n",
       "\t18 & 5.1    & 3.5    & 1.4    & 0.3    & setosa\\\\\n",
       "\t19 & 5.7    & 3.8    & 1.7    & 0.3    & setosa\\\\\n",
       "\t20 & 5.1    & 3.8    & 1.5    & 0.3    & setosa\\\\\n",
       "\t21 & 5.4    & 3.4    & 1.7    & 0.2    & setosa\\\\\n",
       "\t22 & 5.1    & 3.7    & 1.5    & 0.4    & setosa\\\\\n",
       "\t23 & 4.6    & 3.6    & 1      & 0.2    & setosa\\\\\n",
       "\t24 & 5.1    & 3.3    & 1.7    & 0.5    & setosa\\\\\n",
       "\t25 & 4.8    & 3.4    & 1.9    & 0.2    & setosa\\\\\n",
       "\t26 & 5      & 3      & 1.6    & 0.2    & setosa\\\\\n",
       "\t27 & 5      & 3.4    & 1.6    & 0.4    & setosa\\\\\n",
       "\t28 & 5.2    & 3.5    & 1.5    & 0.2    & setosa\\\\\n",
       "\t29 & 5.2    & 3.4    & 1.4    & 0.2    & setosa\\\\\n",
       "\t30 & 4.7    & 3.2    & 1.6    & 0.2    & setosa\\\\\n",
       "\t⋮ & ⋮ & ⋮ & ⋮ & ⋮ & ⋮\\\\\n",
       "\t121 & 6.9       & 3.2       & 5.7       & 2.3       & virginica\\\\\n",
       "\t122 & 5.6       & 2.8       & 4.9       & 2         & virginica\\\\\n",
       "\t123 & 7.7       & 2.8       & 6.7       & 2         & virginica\\\\\n",
       "\t124 & 6.3       & 2.7       & 4.9       & 1.8       & virginica\\\\\n",
       "\t125 & 6.7       & 3.3       & 5.7       & 2.1       & virginica\\\\\n",
       "\t126 & 7.2       & 3.2       & 6         & 1.8       & virginica\\\\\n",
       "\t127 & 6.2       & 2.8       & 4.8       & 1.8       & virginica\\\\\n",
       "\t128 & 6.1       & 3         & 4.9       & 1.8       & virginica\\\\\n",
       "\t129 & 6.4       & 2.8       & 5.6       & 2.1       & virginica\\\\\n",
       "\t130 & 7.2       & 3         & 5.8       & 1.6       & virginica\\\\\n",
       "\t131 & 7.4       & 2.8       & 6.1       & 1.9       & virginica\\\\\n",
       "\t132 & 7.9       & 3.8       & 6.4       & 2         & virginica\\\\\n",
       "\t133 & 6.4       & 2.8       & 5.6       & 2.2       & virginica\\\\\n",
       "\t134 & 6.3       & 2.8       & 5.1       & 1.5       & virginica\\\\\n",
       "\t135 & 6.1       & 2.6       & 5.6       & 1.4       & virginica\\\\\n",
       "\t136 & 7.7       & 3         & 6.1       & 2.3       & virginica\\\\\n",
       "\t137 & 6.3       & 3.4       & 5.6       & 2.4       & virginica\\\\\n",
       "\t138 & 6.4       & 3.1       & 5.5       & 1.8       & virginica\\\\\n",
       "\t139 & 6         & 3         & 4.8       & 1.8       & virginica\\\\\n",
       "\t140 & 6.9       & 3.1       & 5.4       & 2.1       & virginica\\\\\n",
       "\t141 & 6.7       & 3.1       & 5.6       & 2.4       & virginica\\\\\n",
       "\t142 & 6.9       & 3.1       & 5.1       & 2.3       & virginica\\\\\n",
       "\t143 & 5.8       & 2.7       & 5.1       & 1.9       & virginica\\\\\n",
       "\t144 & 6.8       & 3.2       & 5.9       & 2.3       & virginica\\\\\n",
       "\t145 & 6.7       & 3.3       & 5.7       & 2.5       & virginica\\\\\n",
       "\t146 & 6.7       & 3         & 5.2       & 2.3       & virginica\\\\\n",
       "\t147 & 6.3       & 2.5       & 5         & 1.9       & virginica\\\\\n",
       "\t148 & 6.5       & 3         & 5.2       & 2         & virginica\\\\\n",
       "\t149 & 6.2       & 3.4       & 5.4       & 2.3       & virginica\\\\\n",
       "\t150 & 5.9       & 3         & 5.1       & 1.8       & virginica\\\\\n",
       "\\end{tabular}\n"
      ],
      "text/plain": [
       "    sepalLength sepalWidth petalLength petalWidth   species\n",
       "1           5.1        3.5         1.4        0.2    setosa\n",
       "2           4.9          3         1.4        0.2    setosa\n",
       "3           4.7        3.2         1.3        0.2    setosa\n",
       "4           4.6        3.1         1.5        0.2    setosa\n",
       "5             5        3.6         1.4        0.2    setosa\n",
       "6           5.4        3.9         1.7        0.4    setosa\n",
       "7           4.6        3.4         1.4        0.3    setosa\n",
       "8             5        3.4         1.5        0.2    setosa\n",
       "9           4.4        2.9         1.4        0.2    setosa\n",
       "10          4.9        3.1         1.5        0.1    setosa\n",
       "11          5.4        3.7         1.5        0.2    setosa\n",
       "12          4.8        3.4         1.6        0.2    setosa\n",
       "13          4.8          3         1.4        0.1    setosa\n",
       "14          4.3          3         1.1        0.1    setosa\n",
       "15          5.8          4         1.2        0.2    setosa\n",
       "16          5.7        4.4         1.5        0.4    setosa\n",
       "17          5.4        3.9         1.3        0.4    setosa\n",
       "18          5.1        3.5         1.4        0.3    setosa\n",
       "19          5.7        3.8         1.7        0.3    setosa\n",
       "20          5.1        3.8         1.5        0.3    setosa\n",
       "21          5.4        3.4         1.7        0.2    setosa\n",
       "22          5.1        3.7         1.5        0.4    setosa\n",
       "23          4.6        3.6           1        0.2    setosa\n",
       "24          5.1        3.3         1.7        0.5    setosa\n",
       "25          4.8        3.4         1.9        0.2    setosa\n",
       "26            5          3         1.6        0.2    setosa\n",
       "27            5        3.4         1.6        0.4    setosa\n",
       "28          5.2        3.5         1.5        0.2    setosa\n",
       "29          5.2        3.4         1.4        0.2    setosa\n",
       "30          4.7        3.2         1.6        0.2    setosa\n",
       "⋮             ⋮          ⋮           ⋮          ⋮         ⋮\n",
       "121         6.9        3.2         5.7        2.3 virginica\n",
       "122         5.6        2.8         4.9          2 virginica\n",
       "123         7.7        2.8         6.7          2 virginica\n",
       "124         6.3        2.7         4.9        1.8 virginica\n",
       "125         6.7        3.3         5.7        2.1 virginica\n",
       "126         7.2        3.2           6        1.8 virginica\n",
       "127         6.2        2.8         4.8        1.8 virginica\n",
       "128         6.1          3         4.9        1.8 virginica\n",
       "129         6.4        2.8         5.6        2.1 virginica\n",
       "130         7.2          3         5.8        1.6 virginica\n",
       "131         7.4        2.8         6.1        1.9 virginica\n",
       "132         7.9        3.8         6.4          2 virginica\n",
       "133         6.4        2.8         5.6        2.2 virginica\n",
       "134         6.3        2.8         5.1        1.5 virginica\n",
       "135         6.1        2.6         5.6        1.4 virginica\n",
       "136         7.7          3         6.1        2.3 virginica\n",
       "137         6.3        3.4         5.6        2.4 virginica\n",
       "138         6.4        3.1         5.5        1.8 virginica\n",
       "139           6          3         4.8        1.8 virginica\n",
       "140         6.9        3.1         5.4        2.1 virginica\n",
       "141         6.7        3.1         5.6        2.4 virginica\n",
       "142         6.9        3.1         5.1        2.3 virginica\n",
       "143         5.8        2.7         5.1        1.9 virginica\n",
       "144         6.8        3.2         5.9        2.3 virginica\n",
       "145         6.7        3.3         5.7        2.5 virginica\n",
       "146         6.7          3         5.2        2.3 virginica\n",
       "147         6.3        2.5           5        1.9 virginica\n",
       "148         6.5          3         5.2          2 virginica\n",
       "149         6.2        3.4         5.4        2.3 virginica\n",
       "150         5.9          3         5.1        1.8 virginica"
      ]
     },
     "metadata": {},
     "output_type": "display_data"
    }
   ],
   "source": [
    "# This will print out the dataframe.\n",
    "frame"
   ]
  },
  {
   "cell_type": "markdown",
   "metadata": {},
   "source": [
    "## Writing data out from R\n",
    "\n",
    "Here you have a number of options. \n",
    "\n",
    "1) You can write out R objects to an R Data file, as we've seen, using `save()` and `save.image()`.\n",
    "2) You can use `write.csv()` and `write.table()` to write data frames/matrices to flat text files with delimiters such as comma and tab.\n",
    "3) You can use `write()` to write out matrices in a simple flat text format.\n",
    "4) You can use `cat()` to write to a file, while controlling the formatting to a fine degree.\n",
    "5) You can write out in the various file formats mentioned on the previous slide"
   ]
  },
  {
   "cell_type": "code",
   "execution_count": 9,
   "metadata": {
    "collapsed": true
   },
   "outputs": [],
   "source": [
    "#Writing Dataframe to a file. \n",
    "write.csv(frame, file= \"iris2.csv\")\n",
    "\n",
    "#Kaggle won't want the rownames. \n",
    "write.csv(frame, file = \"iris2.csv\",row.names=FALSE)"
   ]
  },
  {
   "cell_type": "markdown",
   "metadata": {},
   "source": [
    "## The Working Directory\n",
    "- To read and write from R, you need to have a firm grasp of where in the computer's filesystem you are reading and writing from.\n",
    "- It is common to set the working directory, and then just list the specific file without a path.\n",
    "- Windows: - use either \\\\ or / to indicate directories\n",
    "- `setwd('C:\\\\Users\\\\Your_username\\\\Desktop\\\\r-bootcamp-2016')`\n",
    "- `setwd('..\\\\r-bootcamp-2016')`"
   ]
  },
  {
   "cell_type": "code",
   "execution_count": 7,
   "metadata": {
    "collapsed": false
   },
   "outputs": [
    {
     "data": {
      "text/html": [
       "'/home/jovyan/work/classes/04-intro-r'"
      ],
      "text/latex": [
       "'/home/jovyan/work/classes/04-intro-r'"
      ],
      "text/markdown": [
       "'/home/jovyan/work/classes/04-intro-r'"
      ],
      "text/plain": [
       "[1] \"/home/jovyan/work/classes/04-intro-r\""
      ]
     },
     "metadata": {},
     "output_type": "display_data"
    },
    {
     "data": {
      "text/html": [
       "'/home/jovyan/work/data'"
      ],
      "text/latex": [
       "'/home/jovyan/work/data'"
      ],
      "text/markdown": [
       "'/home/jovyan/work/data'"
      ],
      "text/plain": [
       "[1] \"/home/jovyan/work/data\""
      ]
     },
     "metadata": {},
     "output_type": "display_data"
    },
    {
     "data": {
      "text/html": [
       "'/home/jovyan/work/data'"
      ],
      "text/latex": [
       "'/home/jovyan/work/data'"
      ],
      "text/markdown": [
       "'/home/jovyan/work/data'"
      ],
      "text/plain": [
       "[1] \"/home/jovyan/work/data\""
      ]
     },
     "metadata": {},
     "output_type": "display_data"
    }
   ],
   "source": [
    "#Whhile this example is Docker, should work similarly for Mac or Windows Based Machines. \n",
    "setwd(\"/home/jovyan/work/classes/04-intro-r\")\n",
    "getwd()  # what directory will R look in?\n",
    "setwd(\"/home/jovyan/work/data\") # change the working directory\n",
    "getwd() \n",
    "setwd(\"/home/jovyan/work/classes/04-intro-r\")\n",
    "setwd('../../data') # This is an alternate way of moving to data.\n",
    "getwd()"
   ]
  },
  {
   "cell_type": "code",
   "execution_count": 8,
   "metadata": {
    "collapsed": true
   },
   "outputs": [],
   "source": [
    "#Notice path isn't listed.\n",
    "frame=read.csv(file=\"iris.csv\", header=TRUE,sep=\",\")"
   ]
  },
  {
   "cell_type": "markdown",
   "metadata": {},
   "source": [
    "## Exercises\n",
    "\n",
    "### Basics\n",
    "\n",
    "1) Make sure you are able to install packages from CRAN. E.g., try to install *lmtest*.\n",
    "\n",
    "2) Figure out what your current working directory is.\n",
    "\n",
    "### Using the ideas\n",
    "\n",
    "3) Put the *data/iris.csv* file in some other directory. Use `setwd()` to set your working directory to be that directory. Read the file in using `read.csv()`.  Now use `setwd()` to point to a different directory. Write the data frame out to a file without any row names and without quotes on the character strings.\n"
   ]
  },
  {
   "cell_type": "markdown",
   "metadata": {},
   "source": [
    "### CREDITS\n",
    "\n",
    "Copyright [AnalyticsDojo](http://www.analyticsdojo.com) 2016.\n",
    "This work is licensed under the [Creative Commons Attribution 4.0 International](https://creativecommons.org/licenses/by/4.0/) license agreement.\n",
    "Work adopted from [Berkley R Bootcamp](https://github.com/berkeley-scf/r-bootcamp-2016)."
   ]
  }
 ],
 "metadata": {
  "anaconda-cloud": {
   "attach-environment": true,
   "environment": "py3k",
   "summary": "A test Jupyter notebook to verify local Python Environment.",
   "url": "https://anaconda.org/analyticsdojo/local-intro"
  },
  "kernelspec": {
   "display_name": "R",
   "language": "R",
   "name": "ir"
  },
  "language_info": {
   "codemirror_mode": "r",
   "file_extension": ".r",
   "mimetype": "text/x-r-source",
   "name": "R",
   "pygments_lexer": "r",
   "version": "3.3.1"
  }
 },
 "nbformat": 4,
 "nbformat_minor": 0
}
