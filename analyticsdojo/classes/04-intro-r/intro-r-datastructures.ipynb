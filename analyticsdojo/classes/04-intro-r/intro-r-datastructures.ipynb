{
 "cells": [
  {
   "cell_type": "markdown",
   "metadata": {
    "slideshow": {
     "slide_type": "slide"
    }
   },
   "source": [
    "[![AnalyticsDojo](https://s3.amazonaws.com/analyticsdojo/logo/final-logo.png)](http://www.analyticsdojo.com)\n",
    "<center><h1>Introduction to R - Datastructures</h1></center>\n",
    "<center><h3><a href = \"http://www.analyticsdojo.com\">www.analyticsdojo.com</a></h3></center>\n",
    "\n"
   ]
  },
  {
   "cell_type": "markdown",
   "metadata": {
    "slideshow": {
     "slide_type": "subslide"
    }
   },
   "source": [
    "### Links: [local](http://localhost:8888/notebooks/classes/04-intro-r/intro-r-datastructures.ipynb) [github](https://github.com/AnalyticsDojo/materials/blob/master/analyticsdojo/classes/04-intro-r/intro-r-datastructures.ipynb) [slides](http://nbviewer.jupyter.org/format/slides/github/AnalyticsDojo/materials/blob/master/analyticsdojo/classes/04-intro-r/intro-r-datastructures.ipynb#/)"
   ]
  },
  {
   "cell_type": "markdown",
   "metadata": {
    "collapsed": false,
    "slideshow": {
     "slide_type": "subslide"
    }
   },
   "source": [
    "# Overview\n",
    "Common to R and Python\n",
    "- Vectors\n",
    "- Opearations on Numeric and String Variables\n",
    "- Lists\n",
    "\n",
    "\n"
   ]
  },
  {
   "cell_type": "markdown",
   "metadata": {
    "slideshow": {
     "slide_type": "subslide"
    }
   },
   "source": [
    "## Vectors in R\n",
    "- The most basic form of an R object is a vector. \n",
    "- In fact, individual (scalar) values (variables) are vectors of length one.\n",
    "- An R vector is a single set of values in a particular order of the **same type**. \n",
    "- We can concatenate values into a vector with c(): `ages<-c(18,19,18,23)`\n",
    "- Comparable Python objects include Panda Series and single dimensional numpy array. \n",
    "- While Python arrays start at 0, R arrays start at index position 1. "
   ]
  },
  {
   "cell_type": "code",
   "execution_count": 23,
   "metadata": {
    "collapsed": false
   },
   "outputs": [
    {
     "data": {
      "text/html": [
       "<ol class=list-inline>\n",
       "\t<li>18</li>\n",
       "\t<li>19</li>\n",
       "\t<li>18</li>\n",
       "\t<li>23</li>\n",
       "</ol>\n"
      ],
      "text/latex": [
       "\\begin{enumerate*}\n",
       "\\item 18\n",
       "\\item 19\n",
       "\\item 18\n",
       "\\item 23\n",
       "\\end{enumerate*}\n"
      ],
      "text/markdown": [
       "1. 18\n",
       "2. 19\n",
       "3. 18\n",
       "4. 23\n",
       "\n",
       "\n"
      ],
      "text/plain": [
       "[1] 18 19 18 23"
      ]
     },
     "metadata": {},
     "output_type": "display_data"
    },
    {
     "data": {
      "text/html": [
       "18"
      ],
      "text/latex": [
       "18"
      ],
      "text/markdown": [
       "18"
      ],
      "text/plain": [
       "[1] 18"
      ]
     },
     "metadata": {},
     "output_type": "display_data"
    },
    {
     "data": {
      "text/html": [
       "<ol class=list-inline>\n",
       "\t<li>19</li>\n",
       "\t<li>18</li>\n",
       "\t<li>23</li>\n",
       "</ol>\n"
      ],
      "text/latex": [
       "\\begin{enumerate*}\n",
       "\\item 19\n",
       "\\item 18\n",
       "\\item 23\n",
       "\\end{enumerate*}\n"
      ],
      "text/markdown": [
       "1. 19\n",
       "2. 18\n",
       "3. 23\n",
       "\n",
       "\n"
      ],
      "text/plain": [
       "[1] 19 18 23"
      ]
     },
     "metadata": {},
     "output_type": "display_data"
    }
   ],
   "source": [
    "\n",
    "ages<-c(18,19,18,23)\n",
    "ages\n",
    "ages[1]\n",
    "ages[2:4]\n",
    "\n"
   ]
  },
  {
   "cell_type": "markdown",
   "metadata": {
    "slideshow": {
     "slide_type": "subslide"
    }
   },
   "source": [
    "## Vectors Type in R\n",
    "- Items in a vector must be of the same type. \n",
    "- *Character.* These are the clear character vectors. (Typically use quotes to add to these vectors.)\n",
    "- *Numeric.* Numbers in a set. Note there is not a different type.\n",
    "- *Boolean.* TRUE or FALSE values in a set.\n",
    "- *Factor.* A situation in which there is a select set of options. Things such as states or zip codes. These are typically things which are related to dummy variables, a topic we will discuss later.\n",
    "- Determine the data type by using the `str` command: `str(teachers)`"
   ]
  },
  {
   "cell_type": "code",
   "execution_count": 62,
   "metadata": {
    "collapsed": false
   },
   "outputs": [
    {
     "name": "stdout",
     "output_type": "stream",
     "text": [
      " chr [1:4] \"Sally\" \"Jason\" \"Bob\" \"Susy\"\n",
      " logi [1:4] TRUE FALSE FALSE TRUE\n",
      " chr [1:4] \"Smith\" \"Johnson\" \"Johnson\" \"Smith\"\n",
      " Factor w/ 2 levels \"Johnson\",\"Smith\": 2 1 1 2\n",
      " num [1:4] 20 15 13 19\n",
      " num [1:4] 20.3 15.3 13.1 19.3\n"
     ]
    }
   ],
   "source": [
    "names<-c(\"Sally\", \"Jason\", \"Bob\", \"Susy\") #Text\n",
    "female<-c(TRUE, FALSE, FALSE, TRUE)  #While Python uses True and False, R uses TRUE and FALSE.\n",
    "teachers<-c(\"Smith\", \"Johnson\", \"Johnson\", \"Smith\")\n",
    "teachers.f<-factor(teachers)\n",
    "grades<-c(20, 15, 13, 19) #25 points possible\n",
    "gradesdec<-c(20.32, 15.32, 13.12, 19.32) #25 points possible\n",
    "\n",
    "str(names)\n",
    "str(female)\n",
    "str(teachers)  \n",
    "str(teachers.f) \n",
    "str(grades)    #Note that the grades and gradesdec are both numeric.\n",
    "str(gradesdec) #Note that the grades and gradesdec are both numeric.\n"
   ]
  },
  {
   "cell_type": "markdown",
   "metadata": {
    "slideshow": {
     "slide_type": "subslide"
    }
   },
   "source": [
    "## Strings in R\n",
    "- Lot's of different types of operations we can perform on Strings. "
   ]
  },
  {
   "cell_type": "code",
   "execution_count": 95,
   "metadata": {
    "collapsed": false
   },
   "outputs": [
    {
     "data": {
      "text/html": [
       "5"
      ],
      "text/latex": [
       "5"
      ],
      "text/markdown": [
       "5"
      ],
      "text/plain": [
       "[1] 5"
      ]
     },
     "metadata": {},
     "output_type": "display_data"
    },
    {
     "data": {
      "text/html": [
       "<ol class=list-inline>\n",
       "\t<li>2</li>\n",
       "\t<li>5</li>\n",
       "\t<li>8</li>\n",
       "\t<li>8</li>\n",
       "\t<li>13</li>\n",
       "</ol>\n"
      ],
      "text/latex": [
       "\\begin{enumerate*}\n",
       "\\item 2\n",
       "\\item 5\n",
       "\\item 8\n",
       "\\item 8\n",
       "\\item 13\n",
       "\\end{enumerate*}\n"
      ],
      "text/markdown": [
       "1. 2\n",
       "2. 5\n",
       "3. 8\n",
       "4. 8\n",
       "5. 13\n",
       "\n",
       "\n"
      ],
      "text/plain": [
       "[1]  2  5  8  8 13"
      ]
     },
     "metadata": {},
     "output_type": "display_data"
    },
    {
     "data": {
      "text/html": [
       "'bill clinton'"
      ],
      "text/latex": [
       "'bill clinton'"
      ],
      "text/markdown": [
       "'bill clinton'"
      ],
      "text/plain": [
       "[1] \"bill clinton\""
      ]
     },
     "metadata": {},
     "output_type": "display_data"
    },
    {
     "data": {
      "text/html": [
       "\"hi hallo mother's father's He said, 'hi'\""
      ],
      "text/latex": [
       "\"hi hallo mother's father's He said, 'hi'\""
      ],
      "text/markdown": [
       "\"hi hallo mother's father's He said, 'hi'\""
      ],
      "text/plain": [
       "[1] \"hi hallo mother's father's He said, 'hi'\""
      ]
     },
     "metadata": {},
     "output_type": "display_data"
    },
    {
     "data": {
      "text/html": [
       "<ol>\n",
       "\t<li><ol class=list-inline>\n",
       "\t<li>'This'</li>\n",
       "\t<li>'is'</li>\n",
       "\t<li>'the'</li>\n",
       "\t<li>'Analytics'</li>\n",
       "\t<li>'Dojo'</li>\n",
       "</ol>\n",
       "</li>\n",
       "</ol>\n"
      ],
      "text/latex": [
       "\\begin{enumerate}\n",
       "\\item \\begin{enumerate*}\n",
       "\\item 'This'\n",
       "\\item 'is'\n",
       "\\item 'the'\n",
       "\\item 'Analytics'\n",
       "\\item 'Dojo'\n",
       "\\end{enumerate*}\n",
       "\n",
       "\\end{enumerate}\n"
      ],
      "text/markdown": [
       "1. 1. 'This'\n",
       "2. 'is'\n",
       "3. 'the'\n",
       "4. 'Analytics'\n",
       "5. 'Dojo'\n",
       "\n",
       "\n",
       "\n",
       "\n",
       "\n"
      ],
      "text/plain": [
       "[[1]]\n",
       "[1] \"This\"      \"is\"        \"the\"       \"Analytics\" \"Dojo\"     \n"
      ]
     },
     "metadata": {},
     "output_type": "display_data"
    },
    {
     "data": {
      "text/html": [
       "<ol class=list-inline>\n",
       "\t<li>'i'</li>\n",
       "\t<li>'al'</li>\n",
       "\t<li>'ot'</li>\n",
       "\t<li>'at'</li>\n",
       "\t<li>'e '</li>\n",
       "</ol>\n"
      ],
      "text/latex": [
       "\\begin{enumerate*}\n",
       "\\item 'i'\n",
       "\\item 'al'\n",
       "\\item 'ot'\n",
       "\\item 'at'\n",
       "\\item 'e '\n",
       "\\end{enumerate*}\n"
      ],
      "text/markdown": [
       "1. 'i'\n",
       "2. 'al'\n",
       "3. 'ot'\n",
       "4. 'at'\n",
       "5. 'e '\n",
       "\n",
       "\n"
      ],
      "text/plain": [
       "[1] \"i\"  \"al\" \"ot\" \"at\" \"e \""
      ]
     },
     "metadata": {},
     "output_type": "display_data"
    },
    {
     "data": {
      "text/html": [
       "<ol class=list-inline>\n",
       "\t<li>\"hZ\"</li>\n",
       "\t<li>\"hZZlo\"</li>\n",
       "\t<li>\"mZZher's\"</li>\n",
       "\t<li>\"fZZher's\"</li>\n",
       "\t<li>\"HZZsaid, 'hi'\"</li>\n",
       "</ol>\n"
      ],
      "text/latex": [
       "\\begin{enumerate*}\n",
       "\\item \"hZ\"\n",
       "\\item \"hZZlo\"\n",
       "\\item \"mZZher's\"\n",
       "\\item \"fZZher's\"\n",
       "\\item \"HZZsaid, 'hi'\"\n",
       "\\end{enumerate*}\n"
      ],
      "text/markdown": [
       "1. \"hZ\"\n",
       "2. \"hZZlo\"\n",
       "3. \"mZZher's\"\n",
       "4. \"fZZher's\"\n",
       "5. \"HZZsaid, 'hi'\"\n",
       "\n",
       "\n"
      ],
      "text/plain": [
       "[1] \"hZ\"            \"hZZlo\"         \"mZZher's\"      \"fZZher's\"     \n",
       "[5] \"HZZsaid, 'hi'\""
      ]
     },
     "metadata": {},
     "output_type": "display_data"
    }
   ],
   "source": [
    "chars <- c('hi', 'hallo', \"mother's\", 'father\\'s', \"He said, \\'hi\\'\" )\n",
    "length(chars)\n",
    "nchar(chars)\n",
    "paste(\"bill\", \"clinton\", sep = \" \")  # paste together a set of strings\n",
    "paste(chars, collapse = ' ')  # paste together things from a vector\n",
    "\n",
    "strlist<-strsplit(\"This is the Analytics Dojo\", split = \" \") #This taks a string ant splits to a list\n",
    "strlist\n",
    "substring(chars, 2, 3) #this takes the 2nd-3rd character from the sentance above \n",
    "chars2 <- chars\n",
    "substring(chars2, 2, 3) <- \"ZZ\"  #this takes the 2nd-3rd character from the sentance above \n",
    "chars2"
   ]
  },
  {
   "cell_type": "markdown",
   "metadata": {
    "slideshow": {
     "slide_type": "subslide"
    }
   },
   "source": [
    "## Factors in R \n",
    "- A factor is a special data type in R used for categorical data. In some cases it works like magic and in others it is incredibly frustrating.\n",
    "\n"
   ]
  },
  {
   "cell_type": "code",
   "execution_count": 63,
   "metadata": {
    "collapsed": false
   },
   "outputs": [
    {
     "data": {
      "text/html": [
       "'factor'"
      ],
      "text/latex": [
       "'factor'"
      ],
      "text/markdown": [
       "'factor'"
      ],
      "text/plain": [
       "[1] \"factor\""
      ]
     },
     "metadata": {},
     "output_type": "display_data"
    },
    {
     "data": {
      "text/html": [
       "<ol class=list-inline>\n",
       "\t<li>'Johnson'</li>\n",
       "\t<li>'Smith'</li>\n",
       "</ol>\n"
      ],
      "text/latex": [
       "\\begin{enumerate*}\n",
       "\\item 'Johnson'\n",
       "\\item 'Smith'\n",
       "\\end{enumerate*}\n"
      ],
      "text/markdown": [
       "1. 'Johnson'\n",
       "2. 'Smith'\n",
       "\n",
       "\n"
      ],
      "text/plain": [
       "[1] \"Johnson\" \"Smith\"  "
      ]
     },
     "metadata": {},
     "output_type": "display_data"
    },
    {
     "data": {
      "text/html": [
       "<dl class=dl-horizontal>\n",
       "\t<dt>Johnson</dt>\n",
       "\t\t<dd>2</dd>\n",
       "\t<dt>Smith</dt>\n",
       "\t\t<dd>2</dd>\n",
       "</dl>\n"
      ],
      "text/latex": [
       "\\begin{description*}\n",
       "\\item[Johnson] 2\n",
       "\\item[Smith] 2\n",
       "\\end{description*}\n"
      ],
      "text/markdown": [
       "Johnson\n",
       ":   2Smith\n",
       ":   2\n",
       "\n"
      ],
      "text/plain": [
       "Johnson   Smith \n",
       "      2       2 "
      ]
     },
     "metadata": {},
     "output_type": "display_data"
    }
   ],
   "source": [
    "class(teachers.f) # What order are the factors in?\n",
    "levels(teachers.f)  # note alternate way to get the variable\n",
    "summary(teachers.f) #gives the count for each level. \n"
   ]
  },
  {
   "cell_type": "markdown",
   "metadata": {
    "slideshow": {
     "slide_type": "subslide"
    }
   },
   "source": [
    "## Creating Vectors in R\n",
    "- Concatenate fields to a vector: `nums <- c(1.1, 3, -5.7)`\n",
    "- Generate random values from normal distribution with `devs <- rnorm(5)`\n",
    "- idevs <- sample(ints, 100, replace = TRUE)\n"
   ]
  },
  {
   "cell_type": "code",
   "execution_count": 25,
   "metadata": {
    "collapsed": false,
    "slideshow": {
     "slide_type": "-"
    }
   },
   "outputs": [
    {
     "data": {
      "text/html": [
       "<ol class=list-inline>\n",
       "\t<li>-0.0411180711345357</li>\n",
       "\t<li>-0.58859895320111</li>\n",
       "\t<li>-0.896836763709821</li>\n",
       "\t<li>-1.14514465404884</li>\n",
       "\t<li>1.66077850320255</li>\n",
       "</ol>\n"
      ],
      "text/latex": [
       "\\begin{enumerate*}\n",
       "\\item -0.0411180711345357\n",
       "\\item -0.58859895320111\n",
       "\\item -0.896836763709821\n",
       "\\item -1.14514465404884\n",
       "\\item 1.66077850320255\n",
       "\\end{enumerate*}\n"
      ],
      "text/markdown": [
       "1. -0.0411180711345357\n",
       "2. -0.58859895320111\n",
       "3. -0.896836763709821\n",
       "4. -1.14514465404884\n",
       "5. 1.66077850320255\n",
       "\n",
       "\n"
      ],
      "text/plain": [
       "[1] -0.04111807 -0.58859895 -0.89683676 -1.14514465  1.66077850"
      ]
     },
     "metadata": {},
     "output_type": "display_data"
    },
    {
     "data": {
      "text/html": [
       "<ol class=list-inline>\n",
       "\t<li>\"hi\"</li>\n",
       "\t<li>\"hallo\"</li>\n",
       "\t<li>\"mother's\"</li>\n",
       "\t<li>\"father's\"</li>\n",
       "\t<li>\"She said\"</li>\n",
       "\t<li>\"hi\"</li>\n",
       "\t<li>\"He said, 'hi'\"</li>\n",
       "</ol>\n"
      ],
      "text/latex": [
       "\\begin{enumerate*}\n",
       "\\item \"hi\"\n",
       "\\item \"hallo\"\n",
       "\\item \"mother's\"\n",
       "\\item \"father's\"\n",
       "\\item \"She said\"\n",
       "\\item \"hi\"\n",
       "\\item \"He said, 'hi'\"\n",
       "\\end{enumerate*}\n"
      ],
      "text/markdown": [
       "1. \"hi\"\n",
       "2. \"hallo\"\n",
       "3. \"mother's\"\n",
       "4. \"father's\"\n",
       "5. \"She said\"\n",
       "6. \"hi\"\n",
       "7. \"He said, 'hi'\"\n",
       "\n",
       "\n"
      ],
      "text/plain": [
       "[1] \"hi\"            \"hallo\"         \"mother's\"      \"father's\"     \n",
       "[5] \"She said\"      \"hi\"            \"He said, 'hi'\""
      ]
     },
     "metadata": {},
     "output_type": "display_data"
    },
    {
     "name": "stdout",
     "output_type": "stream",
     "text": [
      "hi\n",
      "hallo\n",
      "mother's\n",
      "father's\n",
      "She said\n",
      "hi\n",
      "He said, 'hi'\n"
     ]
    },
    {
     "data": {
      "text/html": [
       "<ol class=list-inline>\n",
       "\t<li>TRUE</li>\n",
       "\t<li>FALSE</li>\n",
       "\t<li>TRUE</li>\n",
       "</ol>\n"
      ],
      "text/latex": [
       "\\begin{enumerate*}\n",
       "\\item TRUE\n",
       "\\item FALSE\n",
       "\\item TRUE\n",
       "\\end{enumerate*}\n"
      ],
      "text/markdown": [
       "1. TRUE\n",
       "2. FALSE\n",
       "3. TRUE\n",
       "\n",
       "\n"
      ],
      "text/plain": [
       "[1]  TRUE FALSE  TRUE"
      ]
     },
     "metadata": {},
     "output_type": "display_data"
    }
   ],
   "source": [
    "# numeric vector\n",
    "nums <- c(1.1, 3, -5.7)\n",
    "devs <- rnorm(5)\n",
    "devs\n",
    "\n",
    "# integer vector\n",
    "ints <- c(1L, 5L, -3L) # force storage as integer not decimal number\n",
    "# \"L\" is for \"long integer\" (historical)\n",
    "\n",
    "idevs <- sample(ints, 100, replace = TRUE)\n",
    "\n",
    "# character vector\n",
    "chars <- c(\"hi\", \"hallo\", \"mother's\", \"father\\'s\", \n",
    "   \"She said\", \"hi\", \"He said, \\'hi\\'\" )\n",
    "chars\n",
    "cat(chars, sep = \"\\n\")\n",
    "\n",
    "# logical vector\n",
    "bools <- c(TRUE, FALSE, TRUE)\n",
    "bools"
   ]
  },
  {
   "cell_type": "markdown",
   "metadata": {
    "slideshow": {
     "slide_type": "subslide"
    }
   },
   "source": [
    "## Variable Type \n",
    "- In R when we write `b = 30` this means the value of `30` is assigned to the `b` object. \n",
    "- R is a [dynamically typed](https://pythonconquerstheuniverse.wordpress.com/2009/10/03/static-vs-dynamic-typing-of-programming-languages/).\n",
    "- Unlike some languages, we don\"t have to declare the type of a variable before using it. \n",
    "- Variable type can also change with the reassignment of a variable. \n",
    "- We can query the class a value using the `class` function.\n",
    "- The `str` function gives additional details for complex objects like dataframes.\n",
    "\n"
   ]
  },
  {
   "cell_type": "code",
   "execution_count": 98,
   "metadata": {
    "collapsed": false
   },
   "outputs": [
    {
     "name": "stdout",
     "output_type": "stream",
     "text": [
      "[1] \"The value of a is \" \"1\"                 \n",
      "[1] The value of a is  1                 \n"
     ]
    },
    {
     "data": {
      "text/html": [
       "'integer'"
      ],
      "text/latex": [
       "'integer'"
      ],
      "text/markdown": [
       "'integer'"
      ],
      "text/plain": [
       "[1] \"integer\""
      ]
     },
     "metadata": {},
     "output_type": "display_data"
    },
    {
     "name": "stdout",
     "output_type": "stream",
     "text": [
      " int 1\n",
      "[1] Now the value of a is  2.5                   \n"
     ]
    },
    {
     "data": {
      "text/html": [
       "'numeric'"
      ],
      "text/latex": [
       "'numeric'"
      ],
      "text/markdown": [
       "'numeric'"
      ],
      "text/plain": [
       "[1] \"numeric\""
      ]
     },
     "metadata": {},
     "output_type": "display_data"
    },
    {
     "name": "stdout",
     "output_type": "stream",
     "text": [
      " num 2.5\n",
      "[1] Now the value of a is  hello there           \n"
     ]
    },
    {
     "data": {
      "text/html": [
       "'character'"
      ],
      "text/latex": [
       "'character'"
      ],
      "text/markdown": [
       "'character'"
      ],
      "text/plain": [
       "[1] \"character\""
      ]
     },
     "metadata": {},
     "output_type": "display_data"
    },
    {
     "name": "stdout",
     "output_type": "stream",
     "text": [
      " chr \"hello there\"\n"
     ]
    }
   ],
   "source": [
    "a = 1L\n",
    "print (c(\"The value of a is \", a))\n",
    "print (c(\"The value of a is \", a), quote=FALSE)\n",
    "class(a)\n",
    "str(a)\n",
    "\n",
    "a = 2.5\n",
    "print (c(\"Now the value of a is \", a),quote=FALSE)\n",
    "class(a)\n",
    "str(a)\n",
    "\n",
    "a = \"hello there\"\n",
    "print (c(\"Now the value of a is \", a ),quote=FALSE)\n",
    "class(a)\n",
    "str(a)"
   ]
  },
  {
   "cell_type": "markdown",
   "metadata": {
    "slideshow": {
     "slide_type": "subslide"
    }
   },
   "source": [
    "## Converting Values Between Types\n",
    "\n",
    "- We can convert values between different types.\n",
    "- To convert to string use the `as.character` function.\n",
    "- To convert to numeric use the `as.integer` function.\n",
    "- To convert to an integer use the `as.integer` function.\n",
    "- To convert to a boolean use the `as.logical` function.\n"
   ]
  },
  {
   "cell_type": "code",
   "execution_count": 71,
   "metadata": {
    "collapsed": false
   },
   "outputs": [
    {
     "data": {
      "text/html": [
       "1"
      ],
      "text/latex": [
       "1"
      ],
      "text/markdown": [
       "1"
      ],
      "text/plain": [
       "[1] 1"
      ]
     },
     "metadata": {},
     "output_type": "display_data"
    },
    {
     "data": {
      "text/html": [
       "'integer'"
      ],
      "text/latex": [
       "'integer'"
      ],
      "text/markdown": [
       "'integer'"
      ],
      "text/plain": [
       "[1] \"integer\""
      ]
     },
     "metadata": {},
     "output_type": "display_data"
    },
    {
     "name": "stdout",
     "output_type": "stream",
     "text": [
      " int 1\n"
     ]
    },
    {
     "data": {
      "text/html": [
       "'1'"
      ],
      "text/latex": [
       "'1'"
      ],
      "text/markdown": [
       "'1'"
      ],
      "text/plain": [
       "[1] \"1\""
      ]
     },
     "metadata": {},
     "output_type": "display_data"
    },
    {
     "data": {
      "text/html": [
       "'character'"
      ],
      "text/latex": [
       "'character'"
      ],
      "text/markdown": [
       "'character'"
      ],
      "text/plain": [
       "[1] \"character\""
      ]
     },
     "metadata": {},
     "output_type": "display_data"
    },
    {
     "name": "stdout",
     "output_type": "stream",
     "text": [
      " chr \"1\"\n"
     ]
    },
    {
     "data": {
      "text/html": [
       "1"
      ],
      "text/latex": [
       "1"
      ],
      "text/markdown": [
       "1"
      ],
      "text/plain": [
       "[1] 1"
      ]
     },
     "metadata": {},
     "output_type": "display_data"
    },
    {
     "data": {
      "text/html": [
       "'numeric'"
      ],
      "text/latex": [
       "'numeric'"
      ],
      "text/markdown": [
       "'numeric'"
      ],
      "text/plain": [
       "[1] \"numeric\""
      ]
     },
     "metadata": {},
     "output_type": "display_data"
    },
    {
     "name": "stdout",
     "output_type": "stream",
     "text": [
      " num 1\n"
     ]
    },
    {
     "data": {
      "text/html": [
       "TRUE"
      ],
      "text/latex": [
       "TRUE"
      ],
      "text/markdown": [
       "TRUE"
      ],
      "text/plain": [
       "[1] TRUE"
      ]
     },
     "metadata": {},
     "output_type": "display_data"
    },
    {
     "data": {
      "text/html": [
       "'logical'"
      ],
      "text/latex": [
       "'logical'"
      ],
      "text/markdown": [
       "'logical'"
      ],
      "text/plain": [
       "[1] \"logical\""
      ]
     },
     "metadata": {},
     "output_type": "display_data"
    },
    {
     "name": "stdout",
     "output_type": "stream",
     "text": [
      " logi TRUE\n"
     ]
    }
   ],
   "source": [
    "#This is a way of specifying a long integer.\n",
    "a <- 1L\n",
    "a\n",
    "class(a)\n",
    "str(a)\n",
    "a<-as.character(a)\n",
    "a\n",
    "class(a)\n",
    "str(a)\n",
    "a<-as.numeric(a)\n",
    "a\n",
    "class(a)\n",
    "str(a)\n",
    "a<-as.logical(a)\n",
    "a\n",
    "class(a)\n",
    "str(a)\n"
   ]
  },
  {
   "cell_type": "markdown",
   "metadata": {
    "slideshow": {
     "slide_type": "subslide"
    }
   },
   "source": [
    "## Quotes \n",
    "- Double Quotes are preferred in R, though both will work as long as they aren't mixed. "
   ]
  },
  {
   "cell_type": "code",
   "execution_count": 72,
   "metadata": {
    "collapsed": false
   },
   "outputs": [
    {
     "data": {
      "text/html": [
       "'character'"
      ],
      "text/latex": [
       "'character'"
      ],
      "text/markdown": [
       "'character'"
      ],
      "text/plain": [
       "[1] \"character\""
      ]
     },
     "metadata": {},
     "output_type": "display_data"
    },
    {
     "name": "stdout",
     "output_type": "stream",
     "text": [
      " chr \"hello\"\n"
     ]
    },
    {
     "data": {
      "text/html": [
       "'character'"
      ],
      "text/latex": [
       "'character'"
      ],
      "text/markdown": [
       "'character'"
      ],
      "text/plain": [
       "[1] \"character\""
      ]
     },
     "metadata": {},
     "output_type": "display_data"
    },
    {
     "name": "stdout",
     "output_type": "stream",
     "text": [
      " chr \"hello\"\n"
     ]
    }
   ],
   "source": [
    "#Double Quotes are preferred in R, though both will work as long as they aren't mixed. \n",
    "a <- \"hello\"\n",
    "class(a)\n",
    "str(a)\n",
    "a <- 'hello'\n",
    "class(a)\n",
    "str(a)"
   ]
  },
  {
   "cell_type": "markdown",
   "metadata": {
    "slideshow": {
     "slide_type": "subslide"
    }
   },
   "source": [
    "# Null Values\n",
    "\n",
    "- Since it was designed by statisticians, R handles missing values very well relative to other languages.\n",
    "- `NA` is a missing value\n"
   ]
  },
  {
   "cell_type": "code",
   "execution_count": 52,
   "metadata": {
    "collapsed": false
   },
   "outputs": [
    {
     "data": {
      "text/plain": [
       "[1] NA"
      ]
     },
     "metadata": {},
     "output_type": "display_data"
    },
    {
     "data": {
      "text/html": [
       "<ol class=list-inline>\n",
       "\t<li>-0.990464067705964</li>\n",
       "\t<li>-0.833528124178676</li>\n",
       "\t<li>NA</li>\n",
       "\t<li>1.4460015015921</li>\n",
       "\t<li>NA</li>\n",
       "\t<li>-1.3340909116258</li>\n",
       "\t<li>0.723719765304041</li>\n",
       "\t<li>-0.105084611140584</li>\n",
       "\t<li>-0.55676995626208</li>\n",
       "\t<li>1.12996332791711</li>\n",
       "\t<li>-0.448364009213882</li>\n",
       "\t<li>-0.543436418505431</li>\n",
       "</ol>\n"
      ],
      "text/latex": [
       "\\begin{enumerate*}\n",
       "\\item -0.990464067705964\n",
       "\\item -0.833528124178676\n",
       "\\item NA\n",
       "\\item 1.4460015015921\n",
       "\\item NA\n",
       "\\item -1.3340909116258\n",
       "\\item 0.723719765304041\n",
       "\\item -0.105084611140584\n",
       "\\item -0.55676995626208\n",
       "\\item 1.12996332791711\n",
       "\\item -0.448364009213882\n",
       "\\item -0.543436418505431\n",
       "\\end{enumerate*}\n"
      ],
      "text/markdown": [
       "1. -0.990464067705964\n",
       "2. -0.833528124178676\n",
       "3. NA\n",
       "4. 1.4460015015921\n",
       "5. NA\n",
       "6. -1.3340909116258\n",
       "7. 0.723719765304041\n",
       "8. -0.105084611140584\n",
       "9. -0.55676995626208\n",
       "10. 1.12996332791711\n",
       "11. -0.448364009213882\n",
       "12. -0.543436418505431\n",
       "\n",
       "\n"
      ],
      "text/plain": [
       " [1] -0.9904641 -0.8335281         NA  1.4460015         NA -1.3340909\n",
       " [7]  0.7237198 -0.1050846 -0.5567700  1.1299633 -0.4483640 -0.5434364"
      ]
     },
     "metadata": {},
     "output_type": "display_data"
    },
    {
     "data": {
      "text/plain": [
       "[1] NA"
      ]
     },
     "metadata": {},
     "output_type": "display_data"
    },
    {
     "data": {
      "text/html": [
       "-1.51205350381917"
      ],
      "text/latex": [
       "-1.51205350381917"
      ],
      "text/markdown": [
       "-1.51205350381917"
      ],
      "text/plain": [
       "[1] -1.512054"
      ]
     },
     "metadata": {},
     "output_type": "display_data"
    },
    {
     "data": {
      "text/html": [
       "<ol class=list-inline>\n",
       "\t<li>FALSE</li>\n",
       "\t<li>FALSE</li>\n",
       "\t<li>TRUE</li>\n",
       "\t<li>FALSE</li>\n",
       "\t<li>TRUE</li>\n",
       "\t<li>FALSE</li>\n",
       "\t<li>FALSE</li>\n",
       "\t<li>FALSE</li>\n",
       "\t<li>FALSE</li>\n",
       "\t<li>FALSE</li>\n",
       "\t<li>FALSE</li>\n",
       "\t<li>FALSE</li>\n",
       "</ol>\n"
      ],
      "text/latex": [
       "\\begin{enumerate*}\n",
       "\\item FALSE\n",
       "\\item FALSE\n",
       "\\item TRUE\n",
       "\\item FALSE\n",
       "\\item TRUE\n",
       "\\item FALSE\n",
       "\\item FALSE\n",
       "\\item FALSE\n",
       "\\item FALSE\n",
       "\\item FALSE\n",
       "\\item FALSE\n",
       "\\item FALSE\n",
       "\\end{enumerate*}\n"
      ],
      "text/markdown": [
       "1. FALSE\n",
       "2. FALSE\n",
       "3. TRUE\n",
       "4. FALSE\n",
       "5. TRUE\n",
       "6. FALSE\n",
       "7. FALSE\n",
       "8. FALSE\n",
       "9. FALSE\n",
       "10. FALSE\n",
       "11. FALSE\n",
       "12. FALSE\n",
       "\n",
       "\n"
      ],
      "text/plain": [
       " [1] FALSE FALSE  TRUE FALSE  TRUE FALSE FALSE FALSE FALSE FALSE FALSE FALSE"
      ]
     },
     "metadata": {},
     "output_type": "display_data"
    }
   ],
   "source": [
    "#Notice nothing is printed.\n",
    "a=NA\n",
    "a\n",
    "vec <- rnorm(12)    #This creates a vector with randomly distributed values\n",
    "vec[c(3, 5)] <- NA  #This sets values 3 and 5 as NA\n",
    "vec                 #This prints the Vector\n",
    "sum(vec)            #What is the Sum of a vector that has NA?  \n",
    "sum(vec, na.rm = TRUE)   #This Sums the vector with the NA removed. \n",
    "is.na(vec)          #This returns a vector of whether specific values are equal to NA."
   ]
  },
  {
   "cell_type": "markdown",
   "metadata": {
    "slideshow": {
     "slide_type": "subslide"
    }
   },
   "source": [
    "## Logical/Boolean Vectors\n",
    "- Here we can see that summing and averaging boolean vectors treats `TRUE=1 & FALSE=0`"
   ]
  },
  {
   "cell_type": "code",
   "execution_count": 99,
   "metadata": {
    "collapsed": false
   },
   "outputs": [
    {
     "data": {
      "text/html": [
       "2"
      ],
      "text/latex": [
       "2"
      ],
      "text/markdown": [
       "2"
      ],
      "text/plain": [
       "[1] 2"
      ]
     },
     "metadata": {},
     "output_type": "display_data"
    },
    {
     "data": {
      "text/html": [
       "0.5"
      ],
      "text/latex": [
       "0.5"
      ],
      "text/markdown": [
       "0.5"
      ],
      "text/plain": [
       "[1] 0.5"
      ]
     },
     "metadata": {},
     "output_type": "display_data"
    },
    {
     "data": {
      "text/html": [
       "<ol class=list-inline>\n",
       "\t<li>2</li>\n",
       "\t<li>1</li>\n",
       "\t<li>1</li>\n",
       "\t<li>0</li>\n",
       "</ol>\n"
      ],
      "text/latex": [
       "\\begin{enumerate*}\n",
       "\\item 2\n",
       "\\item 1\n",
       "\\item 1\n",
       "\\item 0\n",
       "\\end{enumerate*}\n"
      ],
      "text/markdown": [
       "1. 2\n",
       "2. 1\n",
       "3. 1\n",
       "4. 0\n",
       "\n",
       "\n"
      ],
      "text/plain": [
       "[1] 2 1 1 0"
      ]
     },
     "metadata": {},
     "output_type": "display_data"
    },
    {
     "data": {
      "text/html": [
       "'integer'"
      ],
      "text/latex": [
       "'integer'"
      ],
      "text/markdown": [
       "'integer'"
      ],
      "text/plain": [
       "[1] \"integer\""
      ]
     },
     "metadata": {},
     "output_type": "display_data"
    }
   ],
   "source": [
    "answers <- c(TRUE, TRUE, FALSE, FALSE)\n",
    "update <- c(TRUE, FALSE, TRUE, FALSE)\n",
    "\n",
    "# Here we see that True coul\n",
    "sum(answers)\n",
    "mean(answers)\n",
    "total<-answers + update\n",
    "total\n",
    "class(total)"
   ]
  },
  {
   "cell_type": "markdown",
   "metadata": {
    "slideshow": {
     "slide_type": "subslide"
    }
   },
   "source": [
    "## R Calculations\n",
    "- R can act as a basic calculator."
   ]
  },
  {
   "cell_type": "code",
   "execution_count": 100,
   "metadata": {
    "collapsed": false
   },
   "outputs": [
    {
     "data": {
      "text/html": [
       "4"
      ],
      "text/latex": [
       "4"
      ],
      "text/markdown": [
       "4"
      ],
      "text/plain": [
       "[1] 4"
      ]
     },
     "metadata": {},
     "output_type": "display_data"
    },
    {
     "data": {
      "text/html": [
       "6.28318530717959"
      ],
      "text/latex": [
       "6.28318530717959"
      ],
      "text/markdown": [
       "6.28318530717959"
      ],
      "text/plain": [
       "[1] 6.283185"
      ]
     },
     "metadata": {},
     "output_type": "display_data"
    },
    {
     "data": {
      "text/html": [
       "7.64440392702818"
      ],
      "text/latex": [
       "7.64440392702818"
      ],
      "text/markdown": [
       "7.64440392702818"
      ],
      "text/plain": [
       "[1] 7.644404"
      ]
     },
     "metadata": {},
     "output_type": "display_data"
    },
    {
     "data": {
      "text/html": [
       "81"
      ],
      "text/latex": [
       "81"
      ],
      "text/markdown": [
       "81"
      ],
      "text/plain": [
       "[1] 81"
      ]
     },
     "metadata": {},
     "output_type": "display_data"
    },
    {
     "data": {
      "text/html": [
       "16"
      ],
      "text/latex": [
       "16"
      ],
      "text/markdown": [
       "16"
      ],
      "text/plain": [
       "[1] 16"
      ]
     },
     "metadata": {},
     "output_type": "display_data"
    },
    {
     "data": {
      "text/html": [
       "2.30258509299405"
      ],
      "text/latex": [
       "2.30258509299405"
      ],
      "text/markdown": [
       "2.30258509299405"
      ],
      "text/plain": [
       "[1] 2.302585"
      ]
     },
     "metadata": {},
     "output_type": "display_data"
    },
    {
     "data": {
      "text/html": [
       "2"
      ],
      "text/latex": [
       "2"
      ],
      "text/markdown": [
       "2"
      ],
      "text/plain": [
       "[1] 2"
      ]
     },
     "metadata": {},
     "output_type": "display_data"
    },
    {
     "data": {
      "text/html": [
       "11"
      ],
      "text/latex": [
       "11"
      ],
      "text/markdown": [
       "11"
      ],
      "text/plain": [
       "[1] 11"
      ]
     },
     "metadata": {},
     "output_type": "display_data"
    },
    {
     "data": {
      "text/html": [
       "1"
      ],
      "text/latex": [
       "1"
      ],
      "text/markdown": [
       "1"
      ],
      "text/plain": [
       "[1] 1"
      ]
     },
     "metadata": {},
     "output_type": "display_data"
    },
    {
     "data": {
      "text/html": [
       "5e+12"
      ],
      "text/latex": [
       "5e+12"
      ],
      "text/markdown": [
       "5e+12"
      ],
      "text/plain": [
       "[1] 5e+12"
      ]
     },
     "metadata": {},
     "output_type": "display_data"
    },
    {
     "data": {
      "text/html": [
       "5e+12"
      ],
      "text/latex": [
       "5e+12"
      ],
      "text/markdown": [
       "5e+12"
      ],
      "text/plain": [
       "[1] 5e+12"
      ]
     },
     "metadata": {},
     "output_type": "display_data"
    }
   ],
   "source": [
    "2 + 2 # add numbers\n",
    "2 * pi # multiply by a constant\n",
    "7 + runif(1) # add a random number\n",
    "3^4 # powers\n",
    "sqrt(4^4) # functions\n",
    "log(10)\n",
    "log(100, base = 10)\n",
    "23 %/% 2 \n",
    "23 %% 2\n",
    "\n",
    "# scientific notation\n",
    "5000000000 * 1000\n",
    "5e9 * 1e3"
   ]
  },
  {
   "cell_type": "markdown",
   "metadata": {
    "slideshow": {
     "slide_type": "subslide"
    }
   },
   "source": [
    "## Operations on Vectors\n",
    "- R can be used as a basic calculator.\n",
    "- We can do calculations on vectors easily. \n",
    "- Direct operations are much faster easier than looping.\n"
   ]
  },
  {
   "cell_type": "code",
   "execution_count": 38,
   "metadata": {
    "collapsed": false
   },
   "outputs": [
    {
     "data": {
      "text/html": [
       "<ol class=list-inline>\n",
       "\t<li>-1.36268481664607</li>\n",
       "\t<li>0.0851480333418656</li>\n",
       "\t<li>-0.979408118501153</li>\n",
       "\t<li>0.602306578343755</li>\n",
       "\t<li>0.0848061007431842</li>\n",
       "\t<li>0.928035926141986</li>\n",
       "\t<li>-0.384878248612191</li>\n",
       "\t<li>0.954727682303197</li>\n",
       "\t<li>-1.44381675804415</li>\n",
       "\t<li>-0.0432168909566331</li>\n",
       "</ol>\n"
      ],
      "text/latex": [
       "\\begin{enumerate*}\n",
       "\\item -1.36268481664607\n",
       "\\item 0.0851480333418656\n",
       "\\item -0.979408118501153\n",
       "\\item 0.602306578343755\n",
       "\\item 0.0848061007431842\n",
       "\\item 0.928035926141986\n",
       "\\item -0.384878248612191\n",
       "\\item 0.954727682303197\n",
       "\\item -1.44381675804415\n",
       "\\item -0.0432168909566331\n",
       "\\end{enumerate*}\n"
      ],
      "text/markdown": [
       "1. -1.36268481664607\n",
       "2. 0.0851480333418656\n",
       "3. -0.979408118501153\n",
       "4. 0.602306578343755\n",
       "5. 0.0848061007431842\n",
       "6. 0.928035926141986\n",
       "7. -0.384878248612191\n",
       "8. 0.954727682303197\n",
       "9. -1.44381675804415\n",
       "10. -0.0432168909566331\n",
       "\n",
       "\n"
      ],
      "text/plain": [
       " [1] -1.36268482  0.08514803 -0.97940812  0.60230658  0.08480610  0.92803593\n",
       " [7] -0.38487825  0.95472768 -1.44381676 -0.04321689"
      ]
     },
     "metadata": {},
     "output_type": "display_data"
    },
    {
     "data": {
      "text/html": [
       "<ol class=list-inline>\n",
       "\t<li>1.85690990951772</li>\n",
       "\t<li>0.00725018758198746</li>\n",
       "\t<li>0.959240262585968</li>\n",
       "\t<li>0.362773214316162</li>\n",
       "\t<li>0.00719207472326311</li>\n",
       "\t<li>0.861250680210214</li>\n",
       "\t<li>0.148131266254787</li>\n",
       "\t<li>0.911504947356035</li>\n",
       "\t<li>2.08460683080912</li>\n",
       "\t<li>0.00186769966395752</li>\n",
       "</ol>\n"
      ],
      "text/latex": [
       "\\begin{enumerate*}\n",
       "\\item 1.85690990951772\n",
       "\\item 0.00725018758198746\n",
       "\\item 0.959240262585968\n",
       "\\item 0.362773214316162\n",
       "\\item 0.00719207472326311\n",
       "\\item 0.861250680210214\n",
       "\\item 0.148131266254787\n",
       "\\item 0.911504947356035\n",
       "\\item 2.08460683080912\n",
       "\\item 0.00186769966395752\n",
       "\\end{enumerate*}\n"
      ],
      "text/markdown": [
       "1. 1.85690990951772\n",
       "2. 0.00725018758198746\n",
       "3. 0.959240262585968\n",
       "4. 0.362773214316162\n",
       "5. 0.00719207472326311\n",
       "6. 0.861250680210214\n",
       "7. 0.148131266254787\n",
       "8. 0.911504947356035\n",
       "9. 2.08460683080912\n",
       "10. 0.00186769966395752\n",
       "\n",
       "\n"
      ],
      "text/plain": [
       " [1] 1.856909910 0.007250188 0.959240263 0.362773214 0.007192075 0.861250680\n",
       " [7] 0.148131266 0.911504947 2.084606831 0.001867700"
      ]
     },
     "metadata": {},
     "output_type": "display_data"
    },
    {
     "data": {
      "text/html": [
       "1003.21096957196"
      ],
      "text/latex": [
       "1003.21096957196"
      ],
      "text/markdown": [
       "1003.21096957196"
      ],
      "text/plain": [
       "[1] 1003.211"
      ]
     },
     "metadata": {},
     "output_type": "display_data"
    },
    {
     "data": {
      "text/html": [
       "10"
      ],
      "text/latex": [
       "10"
      ],
      "text/markdown": [
       "10"
      ],
      "text/plain": [
       "[1] 10"
      ]
     },
     "metadata": {},
     "output_type": "display_data"
    }
   ],
   "source": [
    "vals <- rnorm(10)\n",
    "squared2vals <- vals^2\n",
    "sum_squared2vals <- sum(chi2vals)\n",
    "count_squared2vals<-length(squared2vals)  \n",
    "vals\n",
    "squared2vals\n",
    "sum_df1000\n",
    "count_squared2vals\n"
   ]
  },
  {
   "cell_type": "markdown",
   "metadata": {
    "slideshow": {
     "slide_type": "subslide"
    }
   },
   "source": [
    "## R is a Functional Language\n",
    "\n",
    "- Operations are carried out with functions. Functions take objects as inputs and return objects as outputs. \n",
    "- An analysis can be considered a pipeline of function calls, with output from a function used later in a subsequent operation as input to another function.\n",
    "- Functions themselves are objects. \n",
    "- We can get help on functions with help(lm) or ?lm"
   ]
  },
  {
   "cell_type": "code",
   "execution_count": null,
   "metadata": {
    "collapsed": true
   },
   "outputs": [],
   "source": [
    "vals <- rnorm(10)\n",
    "median(vals)\n",
    "class(median)\n",
    "median(vals, na.rm = TRUE)\n",
    "mean(vals, na.rm = TRUE)\n",
    "help(lm)\n",
    "?lm\n",
    "?log\n",
    "\n"
   ]
  },
  {
   "cell_type": "markdown",
   "metadata": {
    "slideshow": {
     "slide_type": "subslide"
    }
   },
   "source": [
    "## Matrix \n",
    "- Multiple column vector\n",
    "- Matrix is useful for linear algebra\n",
    "- Matrix must be **all of the same type**\n",
    "- Could relatively easily do regression calculations using undlerlying matrix"
   ]
  },
  {
   "cell_type": "code",
   "execution_count": 43,
   "metadata": {
    "collapsed": false
   },
   "outputs": [
    {
     "data": {
      "text/html": [
       "<table>\n",
       "<tbody>\n",
       "\t<tr><td>-0.3298786</td><td>-0.9443296</td><td>-1.3971416</td><td> 0.1553389</td></tr>\n",
       "\t<tr><td> 0.1468167</td><td> 1.6587666</td><td> 1.0691428</td><td>-0.8658753</td></tr>\n",
       "\t<tr><td>-0.007435879</td><td>-0.290270879</td><td>-0.396495933</td><td>-0.358489758</td></tr>\n",
       "</tbody>\n",
       "</table>\n"
      ],
      "text/latex": [
       "\\begin{tabular}{llll}\n",
       "\t -0.3298786 & -0.9443296 & -1.3971416 &  0.1553389\\\\\n",
       "\t  0.1468167 &  1.6587666 &  1.0691428 & -0.8658753\\\\\n",
       "\t -0.007435879 & -0.290270879 & -0.396495933 & -0.358489758\\\\\n",
       "\\end{tabular}\n"
      ],
      "text/markdown": [
       "1. -0.329878603523879\n",
       "2. 0.146816679225074\n",
       "3. -0.00743587914699372\n",
       "4. -0.944329555661847\n",
       "5. 1.65876664993166\n",
       "6. -0.290270878824268\n",
       "7. -1.39714162556208\n",
       "8. 1.06914284954116\n",
       "9. -0.39649593266935\n",
       "10. 0.155338856758746\n",
       "11. -0.865875306165635\n",
       "12. -0.358489758063722\n",
       "\n",
       "\n"
      ],
      "text/plain": [
       "             [,1]       [,2]       [,3]       [,4]\n",
       "[1,] -0.329878604 -0.9443296 -1.3971416  0.1553389\n",
       "[2,]  0.146816679  1.6587666  1.0691428 -0.8658753\n",
       "[3,] -0.007435879 -0.2902709 -0.3964959 -0.3584898"
      ]
     },
     "metadata": {},
     "output_type": "display_data"
    },
    {
     "data": {
      "text/html": [
       "<table>\n",
       "<tbody>\n",
       "\t<tr><td> 1</td><td> 4</td><td> 7</td><td>10</td></tr>\n",
       "\t<tr><td> 2</td><td> 5</td><td> 8</td><td>11</td></tr>\n",
       "\t<tr><td> 3</td><td> 6</td><td> 9</td><td>12</td></tr>\n",
       "</tbody>\n",
       "</table>\n"
      ],
      "text/latex": [
       "\\begin{tabular}{llll}\n",
       "\t  1 &  4 &  7 & 10\\\\\n",
       "\t  2 &  5 &  8 & 11\\\\\n",
       "\t  3 &  6 &  9 & 12\\\\\n",
       "\\end{tabular}\n"
      ],
      "text/markdown": [
       "1. 1\n",
       "2. 2\n",
       "3. 3\n",
       "4. 4\n",
       "5. 5\n",
       "6. 6\n",
       "7. 7\n",
       "8. 8\n",
       "9. 9\n",
       "10. 10\n",
       "11. 11\n",
       "12. 12\n",
       "\n",
       "\n"
      ],
      "text/plain": [
       "     [,1] [,2] [,3] [,4]\n",
       "[1,]    1    4    7   10\n",
       "[2,]    2    5    8   11\n",
       "[3,]    3    6    9   12"
      ]
     },
     "metadata": {},
     "output_type": "display_data"
    },
    {
     "data": {
      "text/html": [
       "<table>\n",
       "<tbody>\n",
       "\t<tr><td>1</td><td>5</td><td>9</td></tr>\n",
       "\t<tr><td> 2</td><td> 6</td><td>10</td></tr>\n",
       "\t<tr><td> 3</td><td> 7</td><td>11</td></tr>\n",
       "\t<tr><td> 4</td><td> 8</td><td>12</td></tr>\n",
       "</tbody>\n",
       "</table>\n"
      ],
      "text/latex": [
       "\\begin{tabular}{lll}\n",
       "\t 1 & 5 & 9\\\\\n",
       "\t  2 &  6 & 10\\\\\n",
       "\t  3 &  7 & 11\\\\\n",
       "\t  4 &  8 & 12\\\\\n",
       "\\end{tabular}\n"
      ],
      "text/markdown": [
       "1. 1\n",
       "2. 2\n",
       "3. 3\n",
       "4. 4\n",
       "5. 5\n",
       "6. 6\n",
       "7. 7\n",
       "8. 8\n",
       "9. 9\n",
       "10. 10\n",
       "11. 11\n",
       "12. 12\n",
       "\n",
       "\n"
      ],
      "text/plain": [
       "     [,1] [,2] [,3]\n",
       "[1,]    1    5    9\n",
       "[2,]    2    6   10\n",
       "[3,]    3    7   11\n",
       "[4,]    4    8   12"
      ]
     },
     "metadata": {},
     "output_type": "display_data"
    },
    {
     "data": {
      "text/html": [
       "<table>\n",
       "<tbody>\n",
       "\t<tr><td> 4</td><td>16</td><td>28</td></tr>\n",
       "\t<tr><td> 8</td><td>20</td><td>32</td></tr>\n",
       "\t<tr><td>12</td><td>24</td><td>36</td></tr>\n",
       "</tbody>\n",
       "</table>\n"
      ],
      "text/latex": [
       "\\begin{tabular}{lll}\n",
       "\t  4 & 16 & 28\\\\\n",
       "\t  8 & 20 & 32\\\\\n",
       "\t 12 & 24 & 36\\\\\n",
       "\\end{tabular}\n"
      ],
      "text/markdown": [
       "1. 4\n",
       "2. 8\n",
       "3. 12\n",
       "4. 16\n",
       "5. 20\n",
       "6. 24\n",
       "7. 28\n",
       "8. 32\n",
       "9. 36\n",
       "\n",
       "\n"
      ],
      "text/plain": [
       "     [,1] [,2] [,3]\n",
       "[1,]    4   16   28\n",
       "[2,]    8   20   32\n",
       "[3,]   12   24   36"
      ]
     },
     "metadata": {},
     "output_type": "display_data"
    }
   ],
   "source": [
    "#This is setup a matrix(vector, nrow,ncol)\n",
    "mat <- matrix(rnorm(12), nrow = 3, ncol = 4)\n",
    "mat\n",
    "# This is setup a matrix(vector, rows)\n",
    "A <- matrix(1:12, 3)\n",
    "B <- matrix(1:12, 4)\n",
    "C <- matrix(seq(4,36, by = 4), 3)\n",
    "A\n",
    "B\n",
    "C"
   ]
  },
  {
   "cell_type": "markdown",
   "metadata": {
    "slideshow": {
     "slide_type": "subslide"
    }
   },
   "source": [
    "## Slicing Vectors and Matrixs\n",
    "- Can use matrix[rows,columns] with specificating of row/column index, name, range. \n"
   ]
  },
  {
   "cell_type": "code",
   "execution_count": 77,
   "metadata": {
    "collapsed": false
   },
   "outputs": [
    {
     "data": {
      "text/html": [
       "<ol class=list-inline>\n",
       "\t<li>1.34241113992146</li>\n",
       "\t<li>0.424720186293184</li>\n",
       "\t<li>0.19644118638419</li>\n",
       "\t<li>-1.81462029116687</li>\n",
       "\t<li>-0.268810224085052</li>\n",
       "\t<li>-0.171638081037172</li>\n",
       "\t<li>0.798361150232278</li>\n",
       "\t<li>0.286897653381398</li>\n",
       "\t<li>0.464195522607617</li>\n",
       "\t<li>-0.453796374060955</li>\n",
       "\t<li>-2.11038961459506</li>\n",
       "\t<li>0.527150216358156</li>\n",
       "</ol>\n"
      ],
      "text/latex": [
       "\\begin{enumerate*}\n",
       "\\item 1.34241113992146\n",
       "\\item 0.424720186293184\n",
       "\\item 0.19644118638419\n",
       "\\item -1.81462029116687\n",
       "\\item -0.268810224085052\n",
       "\\item -0.171638081037172\n",
       "\\item 0.798361150232278\n",
       "\\item 0.286897653381398\n",
       "\\item 0.464195522607617\n",
       "\\item -0.453796374060955\n",
       "\\item -2.11038961459506\n",
       "\\item 0.527150216358156\n",
       "\\end{enumerate*}\n"
      ],
      "text/markdown": [
       "1. 1.34241113992146\n",
       "2. 0.424720186293184\n",
       "3. 0.19644118638419\n",
       "4. -1.81462029116687\n",
       "5. -0.268810224085052\n",
       "6. -0.171638081037172\n",
       "7. 0.798361150232278\n",
       "8. 0.286897653381398\n",
       "9. 0.464195522607617\n",
       "10. -0.453796374060955\n",
       "11. -2.11038961459506\n",
       "12. 0.527150216358156\n",
       "\n",
       "\n"
      ],
      "text/plain": [
       " [1]  1.3424111  0.4247202  0.1964412 -1.8146203 -0.2688102 -0.1716381\n",
       " [7]  0.7983612  0.2868977  0.4641955 -0.4537964 -2.1103896  0.5271502"
      ]
     },
     "metadata": {},
     "output_type": "display_data"
    },
    {
     "data": {
      "text/html": [
       "<table>\n",
       "<tbody>\n",
       "\t<tr><th scope=row>a</th><td> 1.3424111</td><td>-0.2688102</td><td> 0.4641955</td></tr>\n",
       "\t<tr><th scope=row>b</th><td> 0.4247202</td><td>-0.1716381</td><td>-0.4537964</td></tr>\n",
       "\t<tr><th scope=row>c</th><td> 0.1964412</td><td> 0.7983612</td><td>-2.1103896</td></tr>\n",
       "\t<tr><th scope=row>d</th><td>-1.8146203</td><td> 0.2868977</td><td> 0.5271502</td></tr>\n",
       "</tbody>\n",
       "</table>\n"
      ],
      "text/latex": [
       "\\begin{tabular}{r|lll}\n",
       "\ta &  1.3424111 & -0.2688102 &  0.4641955\\\\\n",
       "\tb &  0.4247202 & -0.1716381 & -0.4537964\\\\\n",
       "\tc &  0.1964412 &  0.7983612 & -2.1103896\\\\\n",
       "\td & -1.8146203 &  0.2868977 &  0.5271502\\\\\n",
       "\\end{tabular}\n"
      ],
      "text/markdown": [
       "1. 1.34241113992146\n",
       "2. 0.424720186293184\n",
       "3. 0.19644118638419\n",
       "4. -1.81462029116687\n",
       "5. -0.268810224085052\n",
       "6. -0.171638081037172\n",
       "7. 0.798361150232278\n",
       "8. 0.286897653381398\n",
       "9. 0.464195522607617\n",
       "10. -0.453796374060955\n",
       "11. -2.11038961459506\n",
       "12. 0.527150216358156\n",
       "\n",
       "\n"
      ],
      "text/plain": [
       "        [,1]       [,2]       [,3]\n",
       "a  1.3424111 -0.2688102  0.4641955\n",
       "b  0.4247202 -0.1716381 -0.4537964\n",
       "c  0.1964412  0.7983612 -2.1103896\n",
       "d -1.8146203  0.2868977  0.5271502"
      ]
     },
     "metadata": {},
     "output_type": "display_data"
    }
   ],
   "source": [
    "vec <- rnorm(12)\n",
    "mat <- matrix(vec, 4, 3)\n",
    "rownames(mat) <- letters[1:4] #This assigns a row name\n",
    "vec\n",
    "mat\n",
    "\n"
   ]
  },
  {
   "cell_type": "code",
   "execution_count": 78,
   "metadata": {
    "collapsed": false
   },
   "outputs": [
    {
     "data": {
      "text/html": [
       "<ol class=list-inline>\n",
       "\t<li>0.19644118638419</li>\n",
       "\t<li>-0.268810224085052</li>\n",
       "\t<li>0.286897653381398</li>\n",
       "\t<li>0.464195522607617</li>\n",
       "\t<li>-0.453796374060955</li>\n",
       "</ol>\n"
      ],
      "text/latex": [
       "\\begin{enumerate*}\n",
       "\\item 0.19644118638419\n",
       "\\item -0.268810224085052\n",
       "\\item 0.286897653381398\n",
       "\\item 0.464195522607617\n",
       "\\item -0.453796374060955\n",
       "\\end{enumerate*}\n"
      ],
      "text/markdown": [
       "1. 0.19644118638419\n",
       "2. -0.268810224085052\n",
       "3. 0.286897653381398\n",
       "4. 0.464195522607617\n",
       "5. -0.453796374060955\n",
       "\n",
       "\n"
      ],
      "text/plain": [
       "[1]  0.1964412 -0.2688102  0.2868977  0.4641955 -0.4537964"
      ]
     },
     "metadata": {},
     "output_type": "display_data"
    }
   ],
   "source": [
    "#Slicing Vector\n",
    "vec[c(3, 5, 8:10)] # This gives position 3, 5, and 8-10"
   ]
  },
  {
   "cell_type": "code",
   "execution_count": 89,
   "metadata": {
    "collapsed": false
   },
   "outputs": [
    {
     "data": {
      "text/html": [
       "<table>\n",
       "<tbody>\n",
       "\t<tr><th scope=row>a</th><td> 1.3424111</td><td>-0.2688102</td><td> 0.4641955</td></tr>\n",
       "\t<tr><th scope=row>d</th><td>-1.8146203</td><td> 0.2868977</td><td> 0.5271502</td></tr>\n",
       "</tbody>\n",
       "</table>\n"
      ],
      "text/latex": [
       "\\begin{tabular}{r|lll}\n",
       "\ta &  1.3424111 & -0.2688102 &  0.4641955\\\\\n",
       "\td & -1.8146203 &  0.2868977 &  0.5271502\\\\\n",
       "\\end{tabular}\n"
      ],
      "text/markdown": [
       "1. 1.34241113992146\n",
       "2. -1.81462029116687\n",
       "3. -0.268810224085052\n",
       "4. 0.286897653381398\n",
       "5. 0.464195522607617\n",
       "6. 0.527150216358156\n",
       "\n",
       "\n"
      ],
      "text/plain": [
       "       [,1]       [,2]      [,3]\n",
       "a  1.342411 -0.2688102 0.4641955\n",
       "d -1.814620  0.2868977 0.5271502"
      ]
     },
     "metadata": {},
     "output_type": "display_data"
    },
    {
     "data": {
      "text/html": [
       "<table>\n",
       "<tbody>\n",
       "\t<tr><th scope=row>a</th><td> 1.3424111</td><td>-0.2688102</td><td> 0.4641955</td></tr>\n",
       "\t<tr><th scope=row>d</th><td>-1.8146203</td><td> 0.2868977</td><td> 0.5271502</td></tr>\n",
       "</tbody>\n",
       "</table>\n"
      ],
      "text/latex": [
       "\\begin{tabular}{r|lll}\n",
       "\ta &  1.3424111 & -0.2688102 &  0.4641955\\\\\n",
       "\td & -1.8146203 &  0.2868977 &  0.5271502\\\\\n",
       "\\end{tabular}\n"
      ],
      "text/markdown": [
       "1. 1.34241113992146\n",
       "2. -1.81462029116687\n",
       "3. -0.268810224085052\n",
       "4. 0.286897653381398\n",
       "5. 0.464195522607617\n",
       "6. 0.527150216358156\n",
       "\n",
       "\n"
      ],
      "text/plain": [
       "       [,1]       [,2]      [,3]\n",
       "a  1.342411 -0.2688102 0.4641955\n",
       "d -1.814620  0.2868977 0.5271502"
      ]
     },
     "metadata": {},
     "output_type": "display_data"
    },
    {
     "data": {
      "text/html": [
       "<table>\n",
       "<tbody>\n",
       "\t<tr><th scope=row>a</th><td> 1.3424111</td><td>-0.2688102</td></tr>\n",
       "\t<tr><th scope=row>d</th><td>-1.8146203</td><td> 0.2868977</td></tr>\n",
       "</tbody>\n",
       "</table>\n"
      ],
      "text/latex": [
       "\\begin{tabular}{r|ll}\n",
       "\ta &  1.3424111 & -0.2688102\\\\\n",
       "\td & -1.8146203 &  0.2868977\\\\\n",
       "\\end{tabular}\n"
      ],
      "text/markdown": [
       "1. 1.34241113992146\n",
       "2. -1.81462029116687\n",
       "3. -0.268810224085052\n",
       "4. 0.286897653381398\n",
       "\n",
       "\n"
      ],
      "text/plain": [
       "       [,1]       [,2]\n",
       "a  1.342411 -0.2688102\n",
       "d -1.814620  0.2868977"
      ]
     },
     "metadata": {},
     "output_type": "display_data"
    },
    {
     "data": {
      "text/html": [
       "<table>\n",
       "<tbody>\n",
       "\t<tr><th scope=row>a</th><td>1.3424111</td><td>0.4641955</td></tr>\n",
       "\t<tr><th scope=row>d</th><td>-1.8146203</td><td> 0.5271502</td></tr>\n",
       "</tbody>\n",
       "</table>\n"
      ],
      "text/latex": [
       "\\begin{tabular}{r|ll}\n",
       "\ta & 1.3424111 & 0.4641955\\\\\n",
       "\td & -1.8146203 &  0.5271502\\\\\n",
       "\\end{tabular}\n"
      ],
      "text/markdown": [
       "1. 1.34241113992146\n",
       "2. -1.81462029116687\n",
       "3. 0.464195522607617\n",
       "4. 0.527150216358156\n",
       "\n",
       "\n"
      ],
      "text/plain": [
       "       [,1]      [,2]\n",
       "a  1.342411 0.4641955\n",
       "d -1.814620 0.5271502"
      ]
     },
     "metadata": {},
     "output_type": "display_data"
    },
    {
     "data": {
      "text/html": [
       "<table>\n",
       "<tbody>\n",
       "\t<tr><th scope=row>a</th><td> 1.3424111</td><td>-0.2688102</td></tr>\n",
       "\t<tr><th scope=row>b</th><td> 0.4247202</td><td>-0.1716381</td></tr>\n",
       "\t<tr><th scope=row>c</th><td>0.1964412</td><td>0.7983612</td></tr>\n",
       "\t<tr><th scope=row>d</th><td>-1.8146203</td><td> 0.2868977</td></tr>\n",
       "</tbody>\n",
       "</table>\n"
      ],
      "text/latex": [
       "\\begin{tabular}{r|ll}\n",
       "\ta &  1.3424111 & -0.2688102\\\\\n",
       "\tb &  0.4247202 & -0.1716381\\\\\n",
       "\tc & 0.1964412 & 0.7983612\\\\\n",
       "\td & -1.8146203 &  0.2868977\\\\\n",
       "\\end{tabular}\n"
      ],
      "text/markdown": [
       "1. 1.34241113992146\n",
       "2. 0.424720186293184\n",
       "3. 0.19644118638419\n",
       "4. -1.81462029116687\n",
       "5. -0.268810224085052\n",
       "6. -0.171638081037172\n",
       "7. 0.798361150232278\n",
       "8. 0.286897653381398\n",
       "\n",
       "\n"
      ],
      "text/plain": [
       "        [,1]       [,2]\n",
       "a  1.3424111 -0.2688102\n",
       "b  0.4247202 -0.1716381\n",
       "c  0.1964412  0.7983612\n",
       "d -1.8146203  0.2868977"
      ]
     },
     "metadata": {},
     "output_type": "display_data"
    }
   ],
   "source": [
    "# matrix[rows,columns]  leaving blank means all columns/rows\n",
    "mat[c('a', 'd'), ]\n",
    "mat[c(1,4), ]\n",
    "mat[c(1,4), 1:2]\n",
    "mat[c(1,4), c(1,3)] #Notice when providing a list we surround with c\n",
    "mat[, 1:2]          #When providing a range we use a colon."
   ]
  },
  {
   "cell_type": "markdown",
   "metadata": {
    "slideshow": {
     "slide_type": "subslide"
    }
   },
   "source": [
    "## Lists\n",
    "- Collections of disparate or complicated objects.\n",
    "- Can be of multiple different types. \n",
    "- Here we assign individual values with the list with `=`.\n",
    "- Slice the list with the index position or the name. "
   ]
  },
  {
   "cell_type": "code",
   "execution_count": 118,
   "metadata": {
    "collapsed": false
   },
   "outputs": [
    {
     "data": {
      "text/html": [
       "<dl>\n",
       "\t<dt>$stuff</dt>\n",
       "\t\t<dd>3</dd>\n",
       "\t<dt>$mat</dt>\n",
       "\t\t<dd><table>\n",
       "<tbody>\n",
       "\t<tr><td>1</td><td>3</td></tr>\n",
       "\t<tr><td>2</td><td>4</td></tr>\n",
       "</tbody>\n",
       "</table>\n",
       "</dd>\n",
       "\t<dt>$vector</dt>\n",
       "\t\t<dd><ol class=list-inline>\n",
       "\t<li>1</li>\n",
       "\t<li>2</li>\n",
       "\t<li>3</li>\n",
       "\t<li>4</li>\n",
       "</ol>\n",
       "</dd>\n",
       "\t<dt>$morestuff</dt>\n",
       "\t\t<dd><ol class=list-inline>\n",
       "\t<li>'Albany'</li>\n",
       "\t<li>'New York'</li>\n",
       "\t<li>'San Francisco'</li>\n",
       "</ol>\n",
       "</dd>\n",
       "</dl>\n"
      ],
      "text/latex": [
       "\\begin{description}\n",
       "\\item[\\$stuff] 3\n",
       "\\item[\\$mat] \\begin{tabular}{ll}\n",
       "\t 1 & 3\\\\\n",
       "\t 2 & 4\\\\\n",
       "\\end{tabular}\n",
       "\n",
       "\\item[\\$vector] \\begin{enumerate*}\n",
       "\\item 1\n",
       "\\item 2\n",
       "\\item 3\n",
       "\\item 4\n",
       "\\end{enumerate*}\n",
       "\n",
       "\\item[\\$morestuff] \\begin{enumerate*}\n",
       "\\item 'Albany'\n",
       "\\item 'New York'\n",
       "\\item 'San Francisco'\n",
       "\\end{enumerate*}\n",
       "\n",
       "\\end{description}\n"
      ],
      "text/markdown": [
       "$stuff\n",
       ":   3\n",
       "$mat\n",
       ":   1. 1\n",
       "2. 2\n",
       "3. 3\n",
       "4. 4\n",
       "\n",
       "\n",
       "\n",
       "$vector\n",
       ":   1. 1\n",
       "2. 2\n",
       "3. 3\n",
       "4. 4\n",
       "\n",
       "\n",
       "\n",
       "$morestuff\n",
       ":   1. 'Albany'\n",
       "2. 'New York'\n",
       "3. 'San Francisco'\n",
       "\n",
       "\n",
       "\n",
       "\n",
       "\n"
      ],
      "text/plain": [
       "$stuff\n",
       "[1] 3\n",
       "\n",
       "$mat\n",
       "     [,1] [,2]\n",
       "[1,]    1    3\n",
       "[2,]    2    4\n",
       "\n",
       "$vector\n",
       "[1] 1 2 3 4\n",
       "\n",
       "$morestuff\n",
       "[1] \"Albany\"        \"New York\"      \"San Francisco\"\n"
      ]
     },
     "metadata": {},
     "output_type": "display_data"
    },
    {
     "data": {
      "text/html": [
       "<strong>$stuff</strong> = 3"
      ],
      "text/latex": [
       "\\textbf{\\$stuff} = 3"
      ],
      "text/markdown": [
       "**$stuff** = 3"
      ],
      "text/plain": [
       "$stuff\n",
       "[1] 3\n"
      ]
     },
     "metadata": {},
     "output_type": "display_data"
    },
    {
     "data": {
      "text/html": [
       "<strong>$mat</strong> = <table>\n",
       "<tbody>\n",
       "\t<tr><td>1</td><td>3</td></tr>\n",
       "\t<tr><td>2</td><td>4</td></tr>\n",
       "</tbody>\n",
       "</table>\n"
      ],
      "text/latex": [
       "\\textbf{\\$mat} = \\begin{tabular}{ll}\n",
       "\t 1 & 3\\\\\n",
       "\t 2 & 4\\\\\n",
       "\\end{tabular}\n"
      ],
      "text/markdown": [
       "**$mat** = 1. 1\n",
       "2. 2\n",
       "3. 3\n",
       "4. 4\n",
       "\n",
       "\n"
      ],
      "text/plain": [
       "$mat\n",
       "     [,1] [,2]\n",
       "[1,]    1    3\n",
       "[2,]    2    4\n"
      ]
     },
     "metadata": {},
     "output_type": "display_data"
    },
    {
     "data": {
      "text/html": [
       "<dl>\n",
       "\t<dt>$mat</dt>\n",
       "\t\t<dd><table>\n",
       "<tbody>\n",
       "\t<tr><td>1</td><td>3</td></tr>\n",
       "\t<tr><td>2</td><td>4</td></tr>\n",
       "</tbody>\n",
       "</table>\n",
       "</dd>\n",
       "\t<dt>$vector</dt>\n",
       "\t\t<dd><ol class=list-inline>\n",
       "\t<li>1</li>\n",
       "\t<li>2</li>\n",
       "\t<li>3</li>\n",
       "\t<li>4</li>\n",
       "</ol>\n",
       "</dd>\n",
       "</dl>\n"
      ],
      "text/latex": [
       "\\begin{description}\n",
       "\\item[\\$mat] \\begin{tabular}{ll}\n",
       "\t 1 & 3\\\\\n",
       "\t 2 & 4\\\\\n",
       "\\end{tabular}\n",
       "\n",
       "\\item[\\$vector] \\begin{enumerate*}\n",
       "\\item 1\n",
       "\\item 2\n",
       "\\item 3\n",
       "\\item 4\n",
       "\\end{enumerate*}\n",
       "\n",
       "\\end{description}\n"
      ],
      "text/markdown": [
       "$mat\n",
       ":   1. 1\n",
       "2. 2\n",
       "3. 3\n",
       "4. 4\n",
       "\n",
       "\n",
       "\n",
       "$vector\n",
       ":   1. 1\n",
       "2. 2\n",
       "3. 3\n",
       "4. 4\n",
       "\n",
       "\n",
       "\n",
       "\n",
       "\n"
      ],
      "text/plain": [
       "$mat\n",
       "     [,1] [,2]\n",
       "[1,]    1    3\n",
       "[2,]    2    4\n",
       "\n",
       "$vector\n",
       "[1] 1 2 3 4\n"
      ]
     },
     "metadata": {},
     "output_type": "display_data"
    },
    {
     "data": {
      "text/html": [
       "<dl>\n",
       "\t<dt>$stuff</dt>\n",
       "\t\t<dd>3</dd>\n",
       "\t<dt>$morestuff</dt>\n",
       "\t\t<dd><ol class=list-inline>\n",
       "\t<li>'Albany'</li>\n",
       "\t<li>'New York'</li>\n",
       "\t<li>'San Francisco'</li>\n",
       "</ol>\n",
       "</dd>\n",
       "</dl>\n"
      ],
      "text/latex": [
       "\\begin{description}\n",
       "\\item[\\$stuff] 3\n",
       "\\item[\\$morestuff] \\begin{enumerate*}\n",
       "\\item 'Albany'\n",
       "\\item 'New York'\n",
       "\\item 'San Francisco'\n",
       "\\end{enumerate*}\n",
       "\n",
       "\\end{description}\n"
      ],
      "text/markdown": [
       "$stuff\n",
       ":   3\n",
       "$morestuff\n",
       ":   1. 'Albany'\n",
       "2. 'New York'\n",
       "3. 'San Francisco'\n",
       "\n",
       "\n",
       "\n",
       "\n",
       "\n"
      ],
      "text/plain": [
       "$stuff\n",
       "[1] 3\n",
       "\n",
       "$morestuff\n",
       "[1] \"Albany\"        \"New York\"      \"San Francisco\"\n"
      ]
     },
     "metadata": {},
     "output_type": "display_data"
    }
   ],
   "source": [
    "#myList <- list(stuff = 3, mat = matrix(1:4, nrow = 2), moreStuff = c('china', 'japan'), list(5, 'bear'))\n",
    "myList<-list(stuff=3,mat = matrix(1:4, nrow = 2),vector=c(1,2,3,4),morestuff=c(\"Albany\",\"New York\", \"San Francisco\"))\n",
    "myList\n",
    "\n",
    "#\n",
    "myList['stuff']\n",
    "myList[2]\n",
    "myList[2:3]\n",
    "myList[c(1,4)]\n"
   ]
  },
  {
   "cell_type": "markdown",
   "metadata": {
    "slideshow": {
     "slide_type": "slide"
    }
   },
   "source": [
    "## CREDITS\n",
    "\n",
    "Copyright [AnalyticsDojo](http://www.analyticsdojo.com) 2016\n",
    "This work is licensed under the [Creative Commons Attribution 4.0 International](https://creativecommons.org/licenses/by/4.0/) license agreement.\n",
    "\n",
    "Adopted from the [Berkley R Bootcamp](https://github.com/berkeley-scf/r-bootcamp-2016).\n",
    "\n"
   ]
  }
 ],
 "metadata": {
  "anaconda-cloud": {},
  "celltoolbar": "Slideshow",
  "kernelspec": {
   "display_name": "R",
   "language": "R",
   "name": "ir"
  },
  "language_info": {
   "codemirror_mode": "r",
   "file_extension": ".r",
   "mimetype": "text/x-r-source",
   "name": "R",
   "pygments_lexer": "r",
   "version": "3.3.1"
  }
 },
 "nbformat": 4,
 "nbformat_minor": 0
}
