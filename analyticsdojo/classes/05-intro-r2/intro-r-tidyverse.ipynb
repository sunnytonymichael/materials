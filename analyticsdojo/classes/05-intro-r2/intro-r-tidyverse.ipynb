{
 "cells": [
  {
   "cell_type": "markdown",
   "metadata": {
    "slideshow": {
     "slide_type": "slide"
    }
   },
   "source": [
    "[![AnalyticsDojo](https://s3.amazonaws.com/analyticsdojo/logo/final-logo.png)](http://www.analyticsdojo.com)\n",
    "<center><h1>Introduction to R - Tidyverse </h1></center>\n",
    "<center><h3><a href = 'http://www.analyticsdojo.com'>www.analyticsdojo.com</a></h3></center>"
   ]
  },
  {
   "cell_type": "markdown",
   "metadata": {
    "slideshow": {
     "slide_type": "subslide"
    }
   },
   "source": [
    "### Links: [local](http://localhost:8888/notebooks/classes/05-intro-r2/intro-r-tidyverse.ipynb) [github](https://github.com/AnalyticsDojo/materials/blob/master/analyticsdojo/classes/05-intro-r2/intro-r-tidyverse.ipynb) [slides](http://nbviewer.jupyter.org/format/slides/github/AnalyticsDojo/materials/blob/master/analyticsdojo/classes/05-intro-r2/intro-r-tidyverse.ipynb#/)"
   ]
  },
  {
   "cell_type": "code",
   "execution_count": 8,
   "metadata": {
    "collapsed": false
   },
   "outputs": [],
   "source": [
    "library(dplyr)\n",
    "library(ggplot2)\n",
    "library(tidyr)"
   ]
  },
  {
   "cell_type": "code",
   "execution_count": 11,
   "metadata": {
    "collapsed": false
   },
   "outputs": [
    {
     "ename": "ERROR",
     "evalue": "Error in install.packages(nycflights13): object 'nycflights13' not found\n",
     "output_type": "error",
     "traceback": [
      "Error in install.packages(nycflights13): object 'nycflights13' not found\nTraceback:\n",
      "1. install.packages(nycflights13)"
     ]
    }
   ],
   "source": [
    "install.packages(nycflights13)\n",
    "library(nycflights13)"
   ]
  },
  {
   "cell_type": "markdown",
   "metadata": {
    "slideshow": {
     "slide_type": "subslide"
    }
   },
   "source": [
    "## Overview\n",
    "- What is the Tidyverse?\n",
    "- Subpackages\n",
    "- Piping\n",
    "- `dplyr`"
   ]
  },
  {
   "cell_type": "markdown",
   "metadata": {
    "slideshow": {
     "slide_type": "subslide"
    }
   },
   "source": [
    "# What is the Tidyverse?"
   ]
  },
  {
   "cell_type": "markdown",
   "metadata": {
    "slideshow": {
     "slide_type": "subslide"
    }
   },
   "source": [
    "## Tidyverse\n",
    "- \"The tidyverse is a set of packages that work in harmony because they share common data representations and API design.\" -Hadley Wickham\n",
    "- The variety of packages include `dplyr`, `tibble`, `tidyr`, `readr`, `purrr` (and more).\n"
   ]
  },
  {
   "cell_type": "markdown",
   "metadata": {},
   "source": [
    "![](http://r4ds.had.co.nz/diagrams/data-science-explore.png)\n",
    "- From [R for Data Science](http://r4ds.had.co.nz/explore-intro.html) by [Hadley Wickham](https://github.com/hadley)"
   ]
  },
  {
   "cell_type": "markdown",
   "metadata": {},
   "source": [
    "## Piping\n",
    "- `%>%` Is used to help to write cleaner code.\n",
    "- It is loaded by default when running the `tidyverse`, but it comes from the `magrittr` package.\n",
    "- Input from one command is piped to another without saving directly in memory with an intermediate throwaway variable. "
   ]
  },
  {
   "cell_type": "code",
   "execution_count": null,
   "metadata": {
    "collapsed": true
   },
   "outputs": [],
   "source": [
    "mpg<-mpg\n",
    "\n",
    "#This just gives a dataframe with 70 obs, only 8 cylinder cars \n",
    "mpg.8cyl<-mpg %>% \n",
    "  filter(cyl == 8)\n",
    "\n",
    "#This takes the mean city MPG by manufacturer \n",
    "mpg.8cyl %>% #This starts with are saved dataframe.\n",
    " group_by(manufacturer) %>% \n",
    " summarise(citympg = mean(cty))"
   ]
  },
  {
   "cell_type": "markdown",
   "metadata": {},
   "source": [
    "```{r}\n",
    "# A tibble: 11 x 2\n",
    "   manufacturer  citympg\n",
    "          <chr>    <dbl>\n",
    "1          audi 16.00000\n",
    "2     chevrolet 13.64286\n",
    "3         dodge 11.57143\n",
    "4          ford 13.13333\n",
    "5          jeep 12.20000\n",
    "6    land rover 11.50000\n",
    "7       lincoln 11.33333\n",
    "8       mercury 13.00000\n",
    "9        nissan 12.00000\n",
    "10      pontiac 16.00000\n",
    "11       toyota 12.66667```"
   ]
  },
  {
   "cell_type": "markdown",
   "metadata": {},
   "source": [
    "## `dplyr`\n",
    "- [\"A fast, consistent tool for working with data frame like objects, both in memory and out of memory.\"](https://cran.r-project.org/web/packages/dplyr/index.html)\n",
    "- Subset observations using their value with `filter()`.\n",
    "- Reorder rows using `arrange()`.\n",
    "- Select columns using  `select()`.\n",
    "- Recode variables useing `mutate()`.\n",
    "- Sumarize variables using `summarise()`."
   ]
  },
  {
   "cell_type": "code",
   "execution_count": null,
   "metadata": {
    "collapsed": true
   },
   "outputs": [],
   "source": [
    "#Filter to only those cars that have miles per gallon equal to \n",
    "mpg.8cyl<-mpg %>% \n",
    "  filter(cyl == 8)\n",
    "\n",
    "#Alt Syntax\n",
    "mpg.8cyl<-filter(mpg, cyl == 8)\n",
    "\n",
    "#Flights on the 1/1\n",
    "flight11<-filter(flights, month == 1, day == 1) "
   ]
  },
  {
   "cell_type": "code",
   "execution_count": null,
   "metadata": {
    "collapsed": true
   },
   "outputs": [],
   "source": [
    "#Sort cars by MPG highway(hwy) then city(cty)\n",
    "mpgsort<-arrange(mpg, hwy, cty)"
   ]
  },
  {
   "cell_type": "code",
   "execution_count": null,
   "metadata": {
    "collapsed": true
   },
   "outputs": [],
   "source": [
    "#From the documentation https://cran.r-project.org/web/packages/dplyr/dplyr.pdf  \n",
    "select(iris, starts_with(\"Petal\")) #returns columns that start with \"Petal\"\n",
    "select(iris, ends_with(\"Width\")) #returns columns that start with \"Width\"\n",
    "select(iris, contains(\"etal\"))\n",
    "select(iris, matches(\".t.\"))\n",
    "select(iris, Petal.Length, Petal.Width)\n",
    "vars <- c(\"Petal.Length\", \"Petal.Width\")\n",
    "select(iris, one_of(vars))"
   ]
  },
  {
   "cell_type": "code",
   "execution_count": null,
   "metadata": {
    "collapsed": true
   },
   "outputs": [],
   "source": [
    "#Recoding Data\n",
    "# See Creating new variables with mutate and ifelse: \n",
    "# https://rstudio-pubs-static.s3.amazonaws.com/116317_e6922e81e72e4e3f83995485ce686c14.html \n",
    "mutate(mpg, displ_l = disp / 61.0237)\n"
   ]
  },
  {
   "cell_type": "code",
   "execution_count": null,
   "metadata": {
    "collapsed": true
   },
   "outputs": [],
   "source": [
    "# Example taken from David Ranzolin\n",
    "# https://rstudio-pubs-static.s3.amazonaws.com/116317_e6922e81e72e4e3f83995485ce686c14.html#/9 \n",
    "section <- c(\"MATH111\", \"MATH111\", \"ENG111\")\n",
    "grade <- c(78, 93, 56)\n",
    "student <- c(\"David\", \"Kristina\", \"Mycroft\")\n",
    "gradebook <- data.frame(section, grade, student)\n",
    "\n",
    "#As the output is a tibble, here we are saving each intermediate version.\n",
    "gradebook2<-mutate(gradebook, Pass.Fail = ifelse(grade > 60, \"Pass\", \"Fail\"))  \n",
    "gradebook3<-mutate(gradebook2, letter = ifelse(grade %in% 60:69, \"D\",\n",
    "                                               ifelse(grade %in% 70:79, \"C\",\n",
    "                                                      ifelse(grade %in% 80:89, \"B\",\n",
    "                                                             ifelse(grade %in% 90:99, \"A\", \"F\")))))\n",
    "\n"
   ]
  },
  {
   "cell_type": "code",
   "execution_count": null,
   "metadata": {
    "collapsed": true
   },
   "outputs": [],
   "source": [
    "#Here we are using piping to do this more effectively. \n",
    "gradebook4<-gradebook %>%\n",
    "mutate(Pass.Fail = ifelse(grade > 60, \"Pass\", \"Fail\"))  %>%\n",
    "mutate(letter = ifelse(grade %in% 60:69, \"D\", \n",
    "                                  ifelse(grade %in% 70:79, \"C\",\n",
    "                                         ifelse(grade %in% 80:89, \"B\",\n",
    "                                                ifelse(grade %in% 90:99, \"A\", \"F\")))))\n",
    "\n",
    "\n"
   ]
  },
  {
   "cell_type": "code",
   "execution_count": null,
   "metadata": {
    "collapsed": true
   },
   "outputs": [],
   "source": [
    "#find the average city and highway mpg\n",
    "summarise(mpg, mean(cty), mean(hwy))\n",
    "#find the average city and highway mpg by cylander\n",
    "summarise(group_by(mpg, cyl), mean(cty), mean(hwy))\n",
    "summarise(group_by(mtcars, cyl), m = mean(disp), sd = sd(disp))\n",
    "\n",
    "# With data frames, you can create and immediately use summaries\n",
    "by_cyl <- mtcars %>% group_by(cyl)\n",
    "by_cyl %>% summarise(a = n(), b = a + 1)"
   ]
  },
  {
   "cell_type": "markdown",
   "metadata": {},
   "source": [
    "## `tibble`\n",
    "- `Tibbles` are data frames, but slight changed so that they work better in the `tidyverse` and with `dplyr`.\n",
    "- https://github.com/tidyverse/tibble]"
   ]
  },
  {
   "cell_type": "code",
   "execution_count": null,
   "metadata": {
    "collapsed": true
   },
   "outputs": [],
   "source": [
    "#Tibble Demo\n",
    "iris<-as_tibble(read.csv(file=\"../../data/iris.csv\", header=TRUE,sep=\",\"))\n",
    "#you can see this is of class tbl_df\n",
    "class(iris)"
   ]
  }
 ],
 "metadata": {
  "celltoolbar": "Slideshow",
  "kernelspec": {
   "display_name": "R",
   "language": "R",
   "name": "ir"
  },
  "language_info": {
   "codemirror_mode": "r",
   "file_extension": ".r",
   "mimetype": "text/x-r-source",
   "name": "R",
   "pygments_lexer": "r",
   "version": "3.3.1"
  }
 },
 "nbformat": 4,
 "nbformat_minor": 0
}
