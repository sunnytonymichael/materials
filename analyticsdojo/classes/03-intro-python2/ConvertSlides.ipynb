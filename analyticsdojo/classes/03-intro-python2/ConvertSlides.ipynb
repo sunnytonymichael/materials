{
 "cells": [
  {
   "cell_type": "code",
   "execution_count": null,
   "metadata": {
    "collapsed": true
   },
   "outputs": [],
   "source": [
    "## Links\n",
    "[viewer](http://nbviewer.jupyter.org/format/html/github/AnalyticsDojo/materials/blob/master/analyticsdojo/classes/02-intro-python/intro-python-overview.ipynb#/)\n",
    "[slides](http://nbviewer.jupyter.org/format/slides/github/AnalyticsDojo/materials/blob/master/analyticsdojo/classes/02-intro-python/intro-python-overview.ipynb#/)\n",
    "[github]()"
   ]
  },
  {
   "cell_type": "markdown",
   "metadata": {},
   "source": [
    "[![AnalyticsDojo](https://s3.amazonaws.com/analyticsdojo/logo/final-logo.png)](http://www.analyticsdojo.com)\n",
    "<center><h1>Introduction to Python - Homework</h1></center>\n",
    "<center><h3><a href = 'http://www.analyticsdojo.com'>www.analyticsdojo.com</a></h3></center>"
   ]
  },
  {
   "cell_type": "code",
   "execution_count": 1,
   "metadata": {
    "collapsed": true
   },
   "outputs": [],
   "source": [
    "rep='AnalyticsDojo/materials'\n",
    "br='master'\n",
    "folder='analyticsdojo'"
   ]
  },
  {
   "cell_type": "code",
   "execution_count": 2,
   "metadata": {
    "collapsed": false
   },
   "outputs": [],
   "source": [
    "#Class 1\n",
    "path='classes/03-intro-python2/''\n",
    "file='local-intro'"
   ]
  },
  {
   "cell_type": "code",
   "execution_count": 6,
   "metadata": {
    "collapsed": false
   },
   "outputs": [],
   "source": [
    "!cd '../classes/02-intro-python/'\n"
   ]
  },
  {
   "cell_type": "code",
   "execution_count": 8,
   "metadata": {
    "collapsed": false
   },
   "outputs": [
    {
     "name": "stdout",
     "output_type": "stream",
     "text": [
      "/Users/jasonkuruzovich/githubdesktop/materials/analyticsdojo/utilities\r\n"
     ]
    }
   ],
   "source": [
    "!pwd"
   ]
  },
  {
   "cell_type": "code",
   "execution_count": 2,
   "metadata": {
    "collapsed": false
   },
   "outputs": [
    {
     "name": "stdout",
     "output_type": "stream",
     "text": [
      "[NbConvertApp] Converting notebook intro-python-conditionals-loops.ipynb to slides\n",
      "[NbConvertApp] Writing 282777 bytes to intro-python-conditionals-loops.slides.html\n",
      "[NbConvertApp] Converting notebook intro-python-functions.ipynb to slides\n",
      "[NbConvertApp] Writing 290847 bytes to intro-python-functions.slides.html\n"
     ]
    }
   ],
   "source": [
    "#This is the slide converter.\n",
    "!jupyter  nbconvert --to slides intro-python-conditionals-loops intro-python-functions --reveal-prefix \"http://cdn.jsdelivr.net/reveal.js/3.0.0\""
   ]
  },
  {
   "cell_type": "code",
   "execution_count": 5,
   "metadata": {
    "collapsed": false
   },
   "outputs": [
    {
     "name": "stdout",
     "output_type": "stream",
     "text": [
      "[NbConvertApp] Converting notebook intro-python-overview.ipynb to slides\n",
      "[NbConvertApp] Writing 288279 bytes to intro-python-overview.slides.html\n",
      "[NbConvertApp] Converting notebook intro-python-datastructures.ipynb to slides\n",
      "[NbConvertApp] Writing 311855 bytes to intro-python-datastructures.slides.html\n",
      "[NbConvertApp] Converting notebook intro-python-numpy.ipynb to slides\n",
      "[NbConvertApp] Writing 303048 bytes to intro-python-numpy.slides.html\n",
      "[NbConvertApp] Converting notebook intro-python-pandas.ipynb to slides\n",
      "[NbConvertApp] Writing 488381 bytes to intro-python-pandas.slides.html\n"
     ]
    }
   ],
   "source": [
    "!jupyter  nbconvert --to slides intro-python-overview.ipynb intro-python-datastructures intro-python-numpy intro-python-pandas --reveal-prefix \"http://cdn.jsdelivr.net/reveal.js/3.0.0\""
   ]
  }
 ],
 "metadata": {
  "anaconda-cloud": {},
  "kernelspec": {
   "display_name": "Python 3",
   "language": "python",
   "name": "python3"
  },
  "language_info": {
   "codemirror_mode": {
    "name": "ipython",
    "version": 3
   },
   "file_extension": ".py",
   "mimetype": "text/x-python",
   "name": "python",
   "nbconvert_exporter": "python",
   "pygments_lexer": "ipython3",
   "version": "3.5.2"
  }
 },
 "nbformat": 4,
 "nbformat_minor": 0
}
