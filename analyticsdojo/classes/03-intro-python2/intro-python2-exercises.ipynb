{
 "cells": [
  {
   "cell_type": "markdown",
   "metadata": {},
   "source": [
    "### Exercises 3:\n",
    "### Name:\n"
   ]
  },
  {
   "cell_type": "markdown",
   "metadata": {},
   "source": [
    "### Links: [local](http://localhost:8888/notebooks/classes/03-intro-python2/intro-python2-exercises.ipynb) [github](https://github.com/AnalyticsDojo/materials/blob/master/analyticsdojo/classes/03-intro-python2/intro-python2-exercises.ipynb)"
   ]
  },
  {
   "cell_type": "markdown",
   "metadata": {},
   "source": [
    "### Before you start working on this, you should create a copy of it (changing the name).  This will prevent merge conflicts.  While you can get help from others, all work typed below must be your own.\n",
    "\n",
    "### This is a 30 point assignment graded from answers to questions and automated tests that should be run at the bottom.  Please turn in a PDF via *file->print preview* then *print->save as pdf*."
   ]
  },
  {
   "cell_type": "markdown",
   "metadata": {},
   "source": [
    "### This Loads a Testing Array \n",
    "- This runs tests against your b array.  If you complete the assingment correctly, you will pass the tests. \n",
    "- **If you attempt to fake passing the tests you will receive a 0 on the assignment and it will be considered an ethical violation.**"
   ]
  },
  {
   "cell_type": "code",
   "execution_count": 4,
   "metadata": {
    "collapsed": false
   },
   "outputs": [
    {
     "name": "stdout",
     "output_type": "stream",
     "text": [
      "Requirement already satisfied (use --upgrade to upgrade): ipython_unittest in /opt/conda/lib/python3.5/site-packages\r\n"
     ]
    }
   ],
   "source": [
    "!pip install ipython_unittest\n",
    "%load_ext ipython_unittest\n",
    "#This runs tests against your b array.  If you complete the assingment correctly, you will pass the tests. "
   ]
  },
  {
   "cell_type": "markdown",
   "metadata": {},
   "source": [
    "## Exercises - For and If.\n",
    "\n",
    "1. Write a program which create a list `div7not5` of all numbers which are divisible by 7 but are not a multiple of 5,\n",
    "between 10000 and 10100 (both included). *Hint: 10 is divisible by five if 10%5==0*. \n",
    "\n",
    "**Note: Each item in the list should be a string to past the test.** \n",
    "\n"
   ]
  },
  {
   "cell_type": "markdown",
   "metadata": {},
   "source": [
    "## Exercises - Functions\n",
    "\n",
    "1. Let’s say I give you a list `numbers = [3, 12, 91, 33, 21, 34, 54, 34, 34, 54]`. Generate a new list `divby2` that includes only numbers that are divisible by 2. "
   ]
  },
  {
   "cell_type": "markdown",
   "metadata": {
    "slideshow": {
     "slide_type": "slide"
    }
   },
   "source": [
    "## Exercise-Titanic\n",
    "\n",
    "(1). While we can submit our answer to Kaggle to see how it will perform, we can also utilize our test data to assess accuracy. Accuracy is the percentage of predictions made correctly-i.e., the percentage of people in which our prediction regarding their survival. \n",
    "    a. Create columns in the training dataset `PredEveryoneDies` and `PredGender` with the same predictions from above. \n",
    "    b. Create variables `AccEveryoneDies` and `AccGender` using a calculation of accuracy of predictions for the `training` dataset.    \n",
    "\n",
    "(2). Notice how we are utilizing the code to select out the `passengerID` and the `Survived` column and generating a submission file over and over? This is in need of a function.  Create a `generate_submission` function that accepts a DataFrame, a target column, and a filename and writes out the submission file with just the `passengerID` and the `Survived` columns, where the survived column is equal to the target column. It should then return a DataFrame with the `passengerID` and the `Survived` columns.\n",
    "\n",
    "Executeing the following:\n",
    "`submitdie = generate_submission(train, 'PredEveryoneDies', 'submiteveryonedies.csv')`\n",
    "\n",
    "Should return a dataframe with just `passengerID` and the `Survived` column.  \n",
    "\n",
    "\n",
    "(3). In according to the [women and children first](https://en.wikipedia.org/wiki/Women_and_children_first) protocol we hypothesize that our model could be improved by including whether the individual was a child in addition to gender.  *After* coding survival based on gender, update your recommendation to prediction in the training dataset survival based on age, .\n",
    "`train['PredGenderAge13']` should be the prediction incorporating both Gender and whether Age <  13.\n",
    "`train['PredGenderAge18']` should be the prediction incorporating both Gender and whether Age <  18.\n",
    "`AccGenderAge13` should be the accuracy of the age prediction, based on `train['PredGenderAge13']`. \n",
    "`AccGenderAge18` should be the accuracy of the age prediction, based on `train['PredGenderAge18']`.\n",
    "\n",
    "(4). You should find that the AccGenderAge13 is better than AccGenderAge18. Create a new column `child` in the test and train DataFrames that is 1 if Age <  13 and 0 otherwise.  This is a *feature*.\n"
   ]
  },
  {
   "cell_type": "code",
   "execution_count": 6,
   "metadata": {
    "collapsed": false
   },
   "outputs": [
    {
     "data": {
      "application/javascript": [
       "$(':has(> #dojo-timer-time)').css(\"background-color\",\"yellow\");"
      ],
      "text/plain": [
       "<IPython.core.display.Javascript object>"
      ]
     },
     "metadata": {},
     "output_type": "display_data"
    },
    {
     "name": "stdout",
     "output_type": "stream",
     "text": [
      "EEEEEEEEEEEE\n",
      "======================================================================\n",
      "ERROR: test_forif (__main__.TestExercise3)\n",
      "----------------------------------------------------------------------\n",
      "Traceback (most recent call last):\n",
      "  File \"Cell Tests\", line 3, in test_forif\n",
      "NameError: name 'div7not5' is not defined\n",
      "\n",
      "======================================================================\n",
      "ERROR: test_titanic1 (__main__.TestExercise3)\n",
      "----------------------------------------------------------------------\n",
      "Traceback (most recent call last):\n",
      "  File \"Cell Tests\", line 5, in test_titanic1\n",
      "NameError: name 'AccEveryoneDies' is not defined\n",
      "\n",
      "======================================================================\n",
      "ERROR: test_titanic10 (__main__.TestExercise3)\n",
      "----------------------------------------------------------------------\n",
      "Traceback (most recent call last):\n",
      "  File \"Cell Tests\", line 23, in test_titanic10\n",
      "NameError: name 'train' is not defined\n",
      "\n",
      "======================================================================\n",
      "ERROR: test_titanic11 (__main__.TestExercise3)\n",
      "----------------------------------------------------------------------\n",
      "Traceback (most recent call last):\n",
      "  File \"Cell Tests\", line 25, in test_titanic11\n",
      "NameError: name 'test' is not defined\n",
      "\n",
      "======================================================================\n",
      "ERROR: test_titanic2 (__main__.TestExercise3)\n",
      "----------------------------------------------------------------------\n",
      "Traceback (most recent call last):\n",
      "  File \"Cell Tests\", line 7, in test_titanic2\n",
      "NameError: name 'AccGender' is not defined\n",
      "\n",
      "======================================================================\n",
      "ERROR: test_titanic3 (__main__.TestExercise3)\n",
      "----------------------------------------------------------------------\n",
      "Traceback (most recent call last):\n",
      "  File \"Cell Tests\", line 9, in test_titanic3\n",
      "NameError: name 'train' is not defined\n",
      "\n",
      "======================================================================\n",
      "ERROR: test_titanic4 (__main__.TestExercise3)\n",
      "----------------------------------------------------------------------\n",
      "Traceback (most recent call last):\n",
      "  File \"Cell Tests\", line 11, in test_titanic4\n",
      "NameError: name 'train' is not defined\n",
      "\n",
      "======================================================================\n",
      "ERROR: test_titanic5 (__main__.TestExercise3)\n",
      "----------------------------------------------------------------------\n",
      "Traceback (most recent call last):\n",
      "  File \"Cell Tests\", line 13, in test_titanic5\n",
      "NameError: name 'pd' is not defined\n",
      "\n",
      "======================================================================\n",
      "ERROR: test_titanic6 (__main__.TestExercise3)\n",
      "----------------------------------------------------------------------\n",
      "Traceback (most recent call last):\n",
      "  File \"Cell Tests\", line 15, in test_titanic6\n",
      "NameError: name 'train' is not defined\n",
      "\n",
      "======================================================================\n",
      "ERROR: test_titanic7 (__main__.TestExercise3)\n",
      "----------------------------------------------------------------------\n",
      "Traceback (most recent call last):\n",
      "  File \"Cell Tests\", line 17, in test_titanic7\n",
      "NameError: name 'train' is not defined\n",
      "\n",
      "======================================================================\n",
      "ERROR: test_titanic8 (__main__.TestExercise3)\n",
      "----------------------------------------------------------------------\n",
      "Traceback (most recent call last):\n",
      "  File \"Cell Tests\", line 19, in test_titanic8\n",
      "NameError: name 'AccGenderAge13' is not defined\n",
      "\n",
      "======================================================================\n",
      "ERROR: test_titanic9 (__main__.TestExercise3)\n",
      "----------------------------------------------------------------------\n",
      "Traceback (most recent call last):\n",
      "  File \"Cell Tests\", line 21, in test_titanic9\n",
      "NameError: name 'AccGenderAge18' is not defined\n",
      "\n",
      "----------------------------------------------------------------------\n",
      "Ran 12 tests in 0.056s\n",
      "\n",
      "FAILED (errors=12)\n"
     ]
    },
    {
     "data": {
      "application/javascript": [
       "$(':has(> #dojo-timer-time)').css(\"background-color\",\"salmon\");"
      ],
      "text/plain": [
       "<IPython.core.display.Javascript object>"
      ]
     },
     "metadata": {},
     "output_type": "display_data"
    },
    {
     "data": {
      "text/plain": [
       "<unittest.runner.TextTestResult run=12 errors=12 failures=0>"
      ]
     },
     "execution_count": 6,
     "metadata": {},
     "output_type": "execute_result"
    }
   ],
   "source": [
    "%%unittest_main\n",
    "class TestExercise3(unittest.TestCase):\n",
    "    def test_forif(self):\n",
    "        self.assertTrue(div7not5 == ['10003', '10017', '10024', '10031', '10038', '10052', '10059', '10066', '10073', '10087', '10094'])\n",
    "    def test_functions(self):\n",
    "        self.assertTrue(divby2 == [12, 34, 54, 34, 34, 54])\n",
    "    def test_titanic1(self):\n",
    "        self.assertAlmostEqual(AccEveryoneDies, 61.6161616162)\n",
    "    def test_titanic2(self):\n",
    "        self.assertAlmostEqual(AccGender, 78.6756453423)\n",
    "    def test_titanic3(self):\n",
    "        self.assertAlmostEqual(train['PredEveryoneDies'].mean(), 0.0)\n",
    "    def test_titanic4(self):\n",
    "        self.assertAlmostEqual(train['PredGender'].mean(), 0.35241301908)\n",
    "    def test_titanic5(self):\n",
    "        self.assertTrue(['PassengerId', 'Survived']==list(pd.read_csv('submiteveryonedies.csv').columns.values))\n",
    "    def test_titanic6(self):\n",
    "        self.assertAlmostEqual(train['PredGenderAge13'].mean(), 0.393939393939)\n",
    "    def test_titanic7(self):\n",
    "        self.assertAlmostEqual(train['PredGenderAge18'].mean(), 0.417508417508)\n",
    "    def test_titanic8(self):\n",
    "        self.assertAlmostEqual(AccGenderAge13, 79.2368125701)\n",
    "    def test_titanic9(self):\n",
    "        self.assertAlmostEqual(AccGenderAge18, 77.3288439955)\n",
    "    def test_titanic10(self):\n",
    "        self.assertTrue(train['child'].sum()==69)\n",
    "    def test_titanic11(self):\n",
    "        self.assertTrue(test['child'].sum()==25)"
   ]
  }
 ],
 "metadata": {
  "celltoolbar": "Slideshow",
  "kernelspec": {
   "display_name": "Python 3",
   "language": "python",
   "name": "python3"
  },
  "language_info": {
   "codemirror_mode": {
    "name": "ipython",
    "version": 3
   },
   "file_extension": ".py",
   "mimetype": "text/x-python",
   "name": "python",
   "nbconvert_exporter": "python",
   "pygments_lexer": "ipython3",
   "version": "3.5.2"
  }
 },
 "nbformat": 4,
 "nbformat_minor": 0
}
